{
 "cells": [
  {
   "cell_type": "code",
   "execution_count": 1,
   "id": "17c9824f",
   "metadata": {},
   "outputs": [],
   "source": [
    "import pandas as pd\n",
    "import numpy as np\n",
    "import matplotlib.pyplot as plt\n",
    "import seaborn as sns"
   ]
  },
  {
   "cell_type": "code",
   "execution_count": 2,
   "id": "f36493ed",
   "metadata": {},
   "outputs": [],
   "source": [
    "from sklearn import preprocessing\n",
    "from sklearn.model_selection import train_test_split, GridSearchCV, cross_val_score\n",
    "from sklearn.metrics import confusion_matrix, accuracy_score, classification_report\n",
    "from sklearn.metrics import roc_auc_score, auc, roc_curve, recall_score, precision_score\n",
    "from sklearn.naive_bayes import GaussianNB\n",
    "from sklearn.preprocessing import scale\n",
    "from sklearn.feature_selection import RFE\n",
    "from sklearn.neighbors import KNeighborsClassifier\n",
    "from sklearn.tree import DecisionTreeClassifier\n",
    "from warnings import filterwarnings\n",
    "filterwarnings(\"ignore\")\n",
    "from sklearn.metrics import confusion_matrix as cm"
   ]
  },
  {
   "cell_type": "code",
   "execution_count": 3,
   "id": "326500f8",
   "metadata": {},
   "outputs": [
    {
     "data": {
      "text/html": [
       "<div>\n",
       "<style scoped>\n",
       "    .dataframe tbody tr th:only-of-type {\n",
       "        vertical-align: middle;\n",
       "    }\n",
       "\n",
       "    .dataframe tbody tr th {\n",
       "        vertical-align: top;\n",
       "    }\n",
       "\n",
       "    .dataframe thead th {\n",
       "        text-align: right;\n",
       "    }\n",
       "</style>\n",
       "<table border=\"1\" class=\"dataframe\">\n",
       "  <thead>\n",
       "    <tr style=\"text-align: right;\">\n",
       "      <th></th>\n",
       "      <th>BataryaGucu</th>\n",
       "      <th>Bluetooth</th>\n",
       "      <th>MikroislemciHizi</th>\n",
       "      <th>CiftHat</th>\n",
       "      <th>OnKameraMP</th>\n",
       "      <th>4G</th>\n",
       "      <th>DahiliBellek</th>\n",
       "      <th>Kalinlik</th>\n",
       "      <th>Agirlik</th>\n",
       "      <th>CekirdekSayisi</th>\n",
       "      <th>ArkaKameraMP</th>\n",
       "      <th>CozunurlukYükseklik</th>\n",
       "      <th>CozunurlukGenislik</th>\n",
       "      <th>RAM</th>\n",
       "      <th>BataryaOmru</th>\n",
       "      <th>3G</th>\n",
       "      <th>Dokunmatik</th>\n",
       "      <th>WiFi</th>\n",
       "      <th>FiyatAraligi</th>\n",
       "      <th>Renk</th>\n",
       "    </tr>\n",
       "  </thead>\n",
       "  <tbody>\n",
       "    <tr>\n",
       "      <th>0</th>\n",
       "      <td>1325</td>\n",
       "      <td>Yok</td>\n",
       "      <td>1.9</td>\n",
       "      <td>Yok</td>\n",
       "      <td>2.0</td>\n",
       "      <td>Yok</td>\n",
       "      <td>50</td>\n",
       "      <td>0.1</td>\n",
       "      <td>146</td>\n",
       "      <td>1</td>\n",
       "      <td>10</td>\n",
       "      <td>499</td>\n",
       "      <td>695</td>\n",
       "      <td>2328.0</td>\n",
       "      <td>2</td>\n",
       "      <td>Var</td>\n",
       "      <td>Yok</td>\n",
       "      <td>Yok</td>\n",
       "      <td>Normal</td>\n",
       "      <td>Beyaz</td>\n",
       "    </tr>\n",
       "    <tr>\n",
       "      <th>1</th>\n",
       "      <td>1046</td>\n",
       "      <td>Var</td>\n",
       "      <td>2.8</td>\n",
       "      <td>Var</td>\n",
       "      <td>0.0</td>\n",
       "      <td>Var</td>\n",
       "      <td>58</td>\n",
       "      <td>0.2</td>\n",
       "      <td>100</td>\n",
       "      <td>8</td>\n",
       "      <td>0</td>\n",
       "      <td>259</td>\n",
       "      <td>1040</td>\n",
       "      <td>3863.0</td>\n",
       "      <td>9</td>\n",
       "      <td>Var</td>\n",
       "      <td>Var</td>\n",
       "      <td>Var</td>\n",
       "      <td>Pahalı</td>\n",
       "      <td>Pembe</td>\n",
       "    </tr>\n",
       "    <tr>\n",
       "      <th>2</th>\n",
       "      <td>843</td>\n",
       "      <td>Yok</td>\n",
       "      <td>1.3</td>\n",
       "      <td>Var</td>\n",
       "      <td>1.0</td>\n",
       "      <td>Yok</td>\n",
       "      <td>16</td>\n",
       "      <td>0.9</td>\n",
       "      <td>119</td>\n",
       "      <td>7</td>\n",
       "      <td>4</td>\n",
       "      <td>593</td>\n",
       "      <td>732</td>\n",
       "      <td>1734.0</td>\n",
       "      <td>14</td>\n",
       "      <td>Yok</td>\n",
       "      <td>Yok</td>\n",
       "      <td>Var</td>\n",
       "      <td>Ucuz</td>\n",
       "      <td>Mor</td>\n",
       "    </tr>\n",
       "    <tr>\n",
       "      <th>3</th>\n",
       "      <td>894</td>\n",
       "      <td>Yok</td>\n",
       "      <td>0.5</td>\n",
       "      <td>Var</td>\n",
       "      <td>1.0</td>\n",
       "      <td>Var</td>\n",
       "      <td>50</td>\n",
       "      <td>0.5</td>\n",
       "      <td>199</td>\n",
       "      <td>3</td>\n",
       "      <td>14</td>\n",
       "      <td>1285</td>\n",
       "      <td>1462</td>\n",
       "      <td>3615.0</td>\n",
       "      <td>6</td>\n",
       "      <td>Var</td>\n",
       "      <td>Yok</td>\n",
       "      <td>Var</td>\n",
       "      <td>Pahalı</td>\n",
       "      <td>Turuncu</td>\n",
       "    </tr>\n",
       "    <tr>\n",
       "      <th>4</th>\n",
       "      <td>936</td>\n",
       "      <td>Yok</td>\n",
       "      <td>1.0</td>\n",
       "      <td>Yok</td>\n",
       "      <td>1.0</td>\n",
       "      <td>Yok</td>\n",
       "      <td>18</td>\n",
       "      <td>0.2</td>\n",
       "      <td>153</td>\n",
       "      <td>3</td>\n",
       "      <td>18</td>\n",
       "      <td>1330</td>\n",
       "      <td>1686</td>\n",
       "      <td>2391.0</td>\n",
       "      <td>3</td>\n",
       "      <td>Var</td>\n",
       "      <td>Var</td>\n",
       "      <td>Var</td>\n",
       "      <td>Normal</td>\n",
       "      <td>Beyaz</td>\n",
       "    </tr>\n",
       "  </tbody>\n",
       "</table>\n",
       "</div>"
      ],
      "text/plain": [
       "   BataryaGucu Bluetooth  MikroislemciHizi CiftHat  OnKameraMP   4G  \\\n",
       "0         1325       Yok               1.9     Yok         2.0  Yok   \n",
       "1         1046       Var               2.8     Var         0.0  Var   \n",
       "2          843       Yok               1.3     Var         1.0  Yok   \n",
       "3          894       Yok               0.5     Var         1.0  Var   \n",
       "4          936       Yok               1.0     Yok         1.0  Yok   \n",
       "\n",
       "   DahiliBellek  Kalinlik  Agirlik  CekirdekSayisi  ArkaKameraMP  \\\n",
       "0            50       0.1      146               1            10   \n",
       "1            58       0.2      100               8             0   \n",
       "2            16       0.9      119               7             4   \n",
       "3            50       0.5      199               3            14   \n",
       "4            18       0.2      153               3            18   \n",
       "\n",
       "   CozunurlukYükseklik  CozunurlukGenislik     RAM  BataryaOmru   3G  \\\n",
       "0                  499                 695  2328.0            2  Var   \n",
       "1                  259                1040  3863.0            9  Var   \n",
       "2                  593                 732  1734.0           14  Yok   \n",
       "3                 1285                1462  3615.0            6  Var   \n",
       "4                 1330                1686  2391.0            3  Var   \n",
       "\n",
       "  Dokunmatik WiFi FiyatAraligi     Renk  \n",
       "0        Yok  Yok       Normal    Beyaz  \n",
       "1        Var  Var       Pahalı    Pembe  \n",
       "2        Yok  Var         Ucuz      Mor  \n",
       "3        Yok  Var       Pahalı  Turuncu  \n",
       "4        Var  Var       Normal    Beyaz  "
      ]
     },
     "execution_count": 3,
     "metadata": {},
     "output_type": "execute_result"
    }
   ],
   "source": [
    "tablet = pd.read_csv(\"tablet.xls\")\n",
    "tablet.head()"
   ]
  },
  {
   "cell_type": "code",
   "execution_count": 4,
   "id": "65e56528",
   "metadata": {},
   "outputs": [
    {
     "data": {
      "text/html": [
       "<div>\n",
       "<style scoped>\n",
       "    .dataframe tbody tr th:only-of-type {\n",
       "        vertical-align: middle;\n",
       "    }\n",
       "\n",
       "    .dataframe tbody tr th {\n",
       "        vertical-align: top;\n",
       "    }\n",
       "\n",
       "    .dataframe thead th {\n",
       "        text-align: right;\n",
       "    }\n",
       "</style>\n",
       "<table border=\"1\" class=\"dataframe\">\n",
       "  <thead>\n",
       "    <tr style=\"text-align: right;\">\n",
       "      <th></th>\n",
       "      <th>BataryaGucu</th>\n",
       "      <th>Bluetooth</th>\n",
       "      <th>MikroislemciHizi</th>\n",
       "      <th>CiftHat</th>\n",
       "      <th>OnKameraMP</th>\n",
       "      <th>4G</th>\n",
       "      <th>DahiliBellek</th>\n",
       "      <th>Kalinlik</th>\n",
       "      <th>Agirlik</th>\n",
       "      <th>CekirdekSayisi</th>\n",
       "      <th>ArkaKameraMP</th>\n",
       "      <th>CozunurlukYükseklik</th>\n",
       "      <th>CozunurlukGenislik</th>\n",
       "      <th>RAM</th>\n",
       "      <th>BataryaOmru</th>\n",
       "      <th>3G</th>\n",
       "      <th>Dokunmatik</th>\n",
       "      <th>WiFi</th>\n",
       "      <th>FiyatAraligi</th>\n",
       "      <th>Renk</th>\n",
       "    </tr>\n",
       "  </thead>\n",
       "  <tbody>\n",
       "    <tr>\n",
       "      <th>0</th>\n",
       "      <td>1325</td>\n",
       "      <td>Yok</td>\n",
       "      <td>1.9</td>\n",
       "      <td>Yok</td>\n",
       "      <td>2.0</td>\n",
       "      <td>Yok</td>\n",
       "      <td>50</td>\n",
       "      <td>0.1</td>\n",
       "      <td>146</td>\n",
       "      <td>1</td>\n",
       "      <td>10</td>\n",
       "      <td>499</td>\n",
       "      <td>695</td>\n",
       "      <td>2328.0</td>\n",
       "      <td>2</td>\n",
       "      <td>Var</td>\n",
       "      <td>Yok</td>\n",
       "      <td>Yok</td>\n",
       "      <td>Normal</td>\n",
       "      <td>Beyaz</td>\n",
       "    </tr>\n",
       "    <tr>\n",
       "      <th>1</th>\n",
       "      <td>1046</td>\n",
       "      <td>Var</td>\n",
       "      <td>2.8</td>\n",
       "      <td>Var</td>\n",
       "      <td>0.0</td>\n",
       "      <td>Var</td>\n",
       "      <td>58</td>\n",
       "      <td>0.2</td>\n",
       "      <td>100</td>\n",
       "      <td>8</td>\n",
       "      <td>0</td>\n",
       "      <td>259</td>\n",
       "      <td>1040</td>\n",
       "      <td>3863.0</td>\n",
       "      <td>9</td>\n",
       "      <td>Var</td>\n",
       "      <td>Var</td>\n",
       "      <td>Var</td>\n",
       "      <td>Pahalı</td>\n",
       "      <td>Pembe</td>\n",
       "    </tr>\n",
       "    <tr>\n",
       "      <th>2</th>\n",
       "      <td>843</td>\n",
       "      <td>Yok</td>\n",
       "      <td>1.3</td>\n",
       "      <td>Var</td>\n",
       "      <td>1.0</td>\n",
       "      <td>Yok</td>\n",
       "      <td>16</td>\n",
       "      <td>0.9</td>\n",
       "      <td>119</td>\n",
       "      <td>7</td>\n",
       "      <td>4</td>\n",
       "      <td>593</td>\n",
       "      <td>732</td>\n",
       "      <td>1734.0</td>\n",
       "      <td>14</td>\n",
       "      <td>Yok</td>\n",
       "      <td>Yok</td>\n",
       "      <td>Var</td>\n",
       "      <td>Ucuz</td>\n",
       "      <td>Mor</td>\n",
       "    </tr>\n",
       "    <tr>\n",
       "      <th>3</th>\n",
       "      <td>894</td>\n",
       "      <td>Yok</td>\n",
       "      <td>0.5</td>\n",
       "      <td>Var</td>\n",
       "      <td>1.0</td>\n",
       "      <td>Var</td>\n",
       "      <td>50</td>\n",
       "      <td>0.5</td>\n",
       "      <td>199</td>\n",
       "      <td>3</td>\n",
       "      <td>14</td>\n",
       "      <td>1285</td>\n",
       "      <td>1462</td>\n",
       "      <td>3615.0</td>\n",
       "      <td>6</td>\n",
       "      <td>Var</td>\n",
       "      <td>Yok</td>\n",
       "      <td>Var</td>\n",
       "      <td>Pahalı</td>\n",
       "      <td>Turuncu</td>\n",
       "    </tr>\n",
       "    <tr>\n",
       "      <th>4</th>\n",
       "      <td>936</td>\n",
       "      <td>Yok</td>\n",
       "      <td>1.0</td>\n",
       "      <td>Yok</td>\n",
       "      <td>1.0</td>\n",
       "      <td>Yok</td>\n",
       "      <td>18</td>\n",
       "      <td>0.2</td>\n",
       "      <td>153</td>\n",
       "      <td>3</td>\n",
       "      <td>18</td>\n",
       "      <td>1330</td>\n",
       "      <td>1686</td>\n",
       "      <td>2391.0</td>\n",
       "      <td>3</td>\n",
       "      <td>Var</td>\n",
       "      <td>Var</td>\n",
       "      <td>Var</td>\n",
       "      <td>Normal</td>\n",
       "      <td>Beyaz</td>\n",
       "    </tr>\n",
       "  </tbody>\n",
       "</table>\n",
       "</div>"
      ],
      "text/plain": [
       "   BataryaGucu Bluetooth  MikroislemciHizi CiftHat  OnKameraMP   4G  \\\n",
       "0         1325       Yok               1.9     Yok         2.0  Yok   \n",
       "1         1046       Var               2.8     Var         0.0  Var   \n",
       "2          843       Yok               1.3     Var         1.0  Yok   \n",
       "3          894       Yok               0.5     Var         1.0  Var   \n",
       "4          936       Yok               1.0     Yok         1.0  Yok   \n",
       "\n",
       "   DahiliBellek  Kalinlik  Agirlik  CekirdekSayisi  ArkaKameraMP  \\\n",
       "0            50       0.1      146               1            10   \n",
       "1            58       0.2      100               8             0   \n",
       "2            16       0.9      119               7             4   \n",
       "3            50       0.5      199               3            14   \n",
       "4            18       0.2      153               3            18   \n",
       "\n",
       "   CozunurlukYükseklik  CozunurlukGenislik     RAM  BataryaOmru   3G  \\\n",
       "0                  499                 695  2328.0            2  Var   \n",
       "1                  259                1040  3863.0            9  Var   \n",
       "2                  593                 732  1734.0           14  Yok   \n",
       "3                 1285                1462  3615.0            6  Var   \n",
       "4                 1330                1686  2391.0            3  Var   \n",
       "\n",
       "  Dokunmatik WiFi FiyatAraligi     Renk  \n",
       "0        Yok  Yok       Normal    Beyaz  \n",
       "1        Var  Var       Pahalı    Pembe  \n",
       "2        Yok  Var         Ucuz      Mor  \n",
       "3        Yok  Var       Pahalı  Turuncu  \n",
       "4        Var  Var       Normal    Beyaz  "
      ]
     },
     "execution_count": 4,
     "metadata": {},
     "output_type": "execute_result"
    }
   ],
   "source": [
    "df = tablet.copy()\n",
    "df.head()"
   ]
  },
  {
   "cell_type": "code",
   "execution_count": 5,
   "id": "902c9ec9",
   "metadata": {},
   "outputs": [
    {
     "data": {
      "text/plain": [
       "(2000, 20)"
      ]
     },
     "execution_count": 5,
     "metadata": {},
     "output_type": "execute_result"
    }
   ],
   "source": [
    "df.shape"
   ]
  },
  {
   "cell_type": "code",
   "execution_count": 6,
   "id": "c07048ed",
   "metadata": {},
   "outputs": [
    {
     "name": "stdout",
     "output_type": "stream",
     "text": [
      "<class 'pandas.core.frame.DataFrame'>\n",
      "RangeIndex: 2000 entries, 0 to 1999\n",
      "Data columns (total 20 columns):\n",
      " #   Column               Non-Null Count  Dtype  \n",
      "---  ------               --------------  -----  \n",
      " 0   BataryaGucu          2000 non-null   int64  \n",
      " 1   Bluetooth            2000 non-null   object \n",
      " 2   MikroislemciHizi     2000 non-null   float64\n",
      " 3   CiftHat              2000 non-null   object \n",
      " 4   OnKameraMP           1995 non-null   float64\n",
      " 5   4G                   2000 non-null   object \n",
      " 6   DahiliBellek         2000 non-null   int64  \n",
      " 7   Kalinlik             2000 non-null   float64\n",
      " 8   Agirlik              2000 non-null   int64  \n",
      " 9   CekirdekSayisi       2000 non-null   int64  \n",
      " 10  ArkaKameraMP         2000 non-null   int64  \n",
      " 11  CozunurlukYükseklik  2000 non-null   int64  \n",
      " 12  CozunurlukGenislik   2000 non-null   int64  \n",
      " 13  RAM                  1988 non-null   float64\n",
      " 14  BataryaOmru          2000 non-null   int64  \n",
      " 15  3G                   2000 non-null   object \n",
      " 16  Dokunmatik           2000 non-null   object \n",
      " 17  WiFi                 2000 non-null   object \n",
      " 18  FiyatAraligi         2000 non-null   object \n",
      " 19  Renk                 2000 non-null   object \n",
      "dtypes: float64(4), int64(8), object(8)\n",
      "memory usage: 312.6+ KB\n"
     ]
    }
   ],
   "source": [
    "df.info()"
   ]
  },
  {
   "cell_type": "code",
   "execution_count": 7,
   "id": "e856258a",
   "metadata": {},
   "outputs": [
    {
     "data": {
      "text/html": [
       "<div>\n",
       "<style scoped>\n",
       "    .dataframe tbody tr th:only-of-type {\n",
       "        vertical-align: middle;\n",
       "    }\n",
       "\n",
       "    .dataframe tbody tr th {\n",
       "        vertical-align: top;\n",
       "    }\n",
       "\n",
       "    .dataframe thead th {\n",
       "        text-align: right;\n",
       "    }\n",
       "</style>\n",
       "<table border=\"1\" class=\"dataframe\">\n",
       "  <thead>\n",
       "    <tr style=\"text-align: right;\">\n",
       "      <th></th>\n",
       "      <th>count</th>\n",
       "      <th>mean</th>\n",
       "      <th>std</th>\n",
       "      <th>min</th>\n",
       "      <th>25%</th>\n",
       "      <th>50%</th>\n",
       "      <th>75%</th>\n",
       "      <th>max</th>\n",
       "    </tr>\n",
       "  </thead>\n",
       "  <tbody>\n",
       "    <tr>\n",
       "      <th>BataryaGucu</th>\n",
       "      <td>2000.0</td>\n",
       "      <td>1238.518500</td>\n",
       "      <td>439.418206</td>\n",
       "      <td>501.0</td>\n",
       "      <td>851.75</td>\n",
       "      <td>1226.0</td>\n",
       "      <td>1615.25</td>\n",
       "      <td>1998.0</td>\n",
       "    </tr>\n",
       "    <tr>\n",
       "      <th>MikroislemciHizi</th>\n",
       "      <td>2000.0</td>\n",
       "      <td>1.522250</td>\n",
       "      <td>0.816004</td>\n",
       "      <td>0.5</td>\n",
       "      <td>0.70</td>\n",
       "      <td>1.5</td>\n",
       "      <td>2.20</td>\n",
       "      <td>3.0</td>\n",
       "    </tr>\n",
       "    <tr>\n",
       "      <th>OnKameraMP</th>\n",
       "      <td>1995.0</td>\n",
       "      <td>4.312281</td>\n",
       "      <td>4.342095</td>\n",
       "      <td>0.0</td>\n",
       "      <td>1.00</td>\n",
       "      <td>3.0</td>\n",
       "      <td>7.00</td>\n",
       "      <td>19.0</td>\n",
       "    </tr>\n",
       "    <tr>\n",
       "      <th>DahiliBellek</th>\n",
       "      <td>2000.0</td>\n",
       "      <td>32.046500</td>\n",
       "      <td>18.145715</td>\n",
       "      <td>2.0</td>\n",
       "      <td>16.00</td>\n",
       "      <td>32.0</td>\n",
       "      <td>48.00</td>\n",
       "      <td>64.0</td>\n",
       "    </tr>\n",
       "    <tr>\n",
       "      <th>Kalinlik</th>\n",
       "      <td>2000.0</td>\n",
       "      <td>0.501750</td>\n",
       "      <td>0.288416</td>\n",
       "      <td>0.1</td>\n",
       "      <td>0.20</td>\n",
       "      <td>0.5</td>\n",
       "      <td>0.80</td>\n",
       "      <td>1.0</td>\n",
       "    </tr>\n",
       "    <tr>\n",
       "      <th>Agirlik</th>\n",
       "      <td>2000.0</td>\n",
       "      <td>140.249000</td>\n",
       "      <td>35.399655</td>\n",
       "      <td>80.0</td>\n",
       "      <td>109.00</td>\n",
       "      <td>141.0</td>\n",
       "      <td>170.00</td>\n",
       "      <td>200.0</td>\n",
       "    </tr>\n",
       "    <tr>\n",
       "      <th>CekirdekSayisi</th>\n",
       "      <td>2000.0</td>\n",
       "      <td>4.520500</td>\n",
       "      <td>2.287837</td>\n",
       "      <td>1.0</td>\n",
       "      <td>3.00</td>\n",
       "      <td>4.0</td>\n",
       "      <td>7.00</td>\n",
       "      <td>8.0</td>\n",
       "    </tr>\n",
       "    <tr>\n",
       "      <th>ArkaKameraMP</th>\n",
       "      <td>2000.0</td>\n",
       "      <td>9.916500</td>\n",
       "      <td>6.064315</td>\n",
       "      <td>0.0</td>\n",
       "      <td>5.00</td>\n",
       "      <td>10.0</td>\n",
       "      <td>15.00</td>\n",
       "      <td>20.0</td>\n",
       "    </tr>\n",
       "    <tr>\n",
       "      <th>CozunurlukYükseklik</th>\n",
       "      <td>2000.0</td>\n",
       "      <td>645.108000</td>\n",
       "      <td>443.780811</td>\n",
       "      <td>0.0</td>\n",
       "      <td>282.75</td>\n",
       "      <td>564.0</td>\n",
       "      <td>947.25</td>\n",
       "      <td>1960.0</td>\n",
       "    </tr>\n",
       "    <tr>\n",
       "      <th>CozunurlukGenislik</th>\n",
       "      <td>2000.0</td>\n",
       "      <td>1251.515500</td>\n",
       "      <td>432.199447</td>\n",
       "      <td>500.0</td>\n",
       "      <td>874.75</td>\n",
       "      <td>1247.0</td>\n",
       "      <td>1633.00</td>\n",
       "      <td>1998.0</td>\n",
       "    </tr>\n",
       "    <tr>\n",
       "      <th>RAM</th>\n",
       "      <td>1988.0</td>\n",
       "      <td>2116.243964</td>\n",
       "      <td>1082.513059</td>\n",
       "      <td>256.0</td>\n",
       "      <td>1204.75</td>\n",
       "      <td>2129.5</td>\n",
       "      <td>3049.50</td>\n",
       "      <td>3998.0</td>\n",
       "    </tr>\n",
       "    <tr>\n",
       "      <th>BataryaOmru</th>\n",
       "      <td>2000.0</td>\n",
       "      <td>11.011000</td>\n",
       "      <td>5.463955</td>\n",
       "      <td>2.0</td>\n",
       "      <td>6.00</td>\n",
       "      <td>11.0</td>\n",
       "      <td>16.00</td>\n",
       "      <td>20.0</td>\n",
       "    </tr>\n",
       "  </tbody>\n",
       "</table>\n",
       "</div>"
      ],
      "text/plain": [
       "                      count         mean          std    min      25%     50%  \\\n",
       "BataryaGucu          2000.0  1238.518500   439.418206  501.0   851.75  1226.0   \n",
       "MikroislemciHizi     2000.0     1.522250     0.816004    0.5     0.70     1.5   \n",
       "OnKameraMP           1995.0     4.312281     4.342095    0.0     1.00     3.0   \n",
       "DahiliBellek         2000.0    32.046500    18.145715    2.0    16.00    32.0   \n",
       "Kalinlik             2000.0     0.501750     0.288416    0.1     0.20     0.5   \n",
       "Agirlik              2000.0   140.249000    35.399655   80.0   109.00   141.0   \n",
       "CekirdekSayisi       2000.0     4.520500     2.287837    1.0     3.00     4.0   \n",
       "ArkaKameraMP         2000.0     9.916500     6.064315    0.0     5.00    10.0   \n",
       "CozunurlukYükseklik  2000.0   645.108000   443.780811    0.0   282.75   564.0   \n",
       "CozunurlukGenislik   2000.0  1251.515500   432.199447  500.0   874.75  1247.0   \n",
       "RAM                  1988.0  2116.243964  1082.513059  256.0  1204.75  2129.5   \n",
       "BataryaOmru          2000.0    11.011000     5.463955    2.0     6.00    11.0   \n",
       "\n",
       "                         75%     max  \n",
       "BataryaGucu          1615.25  1998.0  \n",
       "MikroislemciHizi        2.20     3.0  \n",
       "OnKameraMP              7.00    19.0  \n",
       "DahiliBellek           48.00    64.0  \n",
       "Kalinlik                0.80     1.0  \n",
       "Agirlik               170.00   200.0  \n",
       "CekirdekSayisi          7.00     8.0  \n",
       "ArkaKameraMP           15.00    20.0  \n",
       "CozunurlukYükseklik   947.25  1960.0  \n",
       "CozunurlukGenislik   1633.00  1998.0  \n",
       "RAM                  3049.50  3998.0  \n",
       "BataryaOmru            16.00    20.0  "
      ]
     },
     "execution_count": 7,
     "metadata": {},
     "output_type": "execute_result"
    }
   ],
   "source": [
    "df.describe().T"
   ]
  },
  {
   "cell_type": "code",
   "execution_count": 8,
   "id": "0a657c1b",
   "metadata": {},
   "outputs": [
    {
     "data": {
      "text/plain": [
       "BataryaGucu             0\n",
       "Bluetooth               0\n",
       "MikroislemciHizi        0\n",
       "CiftHat                 0\n",
       "OnKameraMP              5\n",
       "4G                      0\n",
       "DahiliBellek            0\n",
       "Kalinlik                0\n",
       "Agirlik                 0\n",
       "CekirdekSayisi          0\n",
       "ArkaKameraMP            0\n",
       "CozunurlukYükseklik     0\n",
       "CozunurlukGenislik      0\n",
       "RAM                    12\n",
       "BataryaOmru             0\n",
       "3G                      0\n",
       "Dokunmatik              0\n",
       "WiFi                    0\n",
       "FiyatAraligi            0\n",
       "Renk                    0\n",
       "dtype: int64"
      ]
     },
     "execution_count": 8,
     "metadata": {},
     "output_type": "execute_result"
    }
   ],
   "source": [
    "df.isna().sum()"
   ]
  },
  {
   "cell_type": "code",
   "execution_count": 9,
   "id": "09af03b1",
   "metadata": {},
   "outputs": [
    {
     "data": {
      "text/html": [
       "<div>\n",
       "<style scoped>\n",
       "    .dataframe tbody tr th:only-of-type {\n",
       "        vertical-align: middle;\n",
       "    }\n",
       "\n",
       "    .dataframe tbody tr th {\n",
       "        vertical-align: top;\n",
       "    }\n",
       "\n",
       "    .dataframe thead th {\n",
       "        text-align: right;\n",
       "    }\n",
       "</style>\n",
       "<table border=\"1\" class=\"dataframe\">\n",
       "  <thead>\n",
       "    <tr style=\"text-align: right;\">\n",
       "      <th></th>\n",
       "      <th>BataryaGucu</th>\n",
       "      <th>MikroislemciHizi</th>\n",
       "      <th>OnKameraMP</th>\n",
       "      <th>DahiliBellek</th>\n",
       "      <th>Kalinlik</th>\n",
       "      <th>Agirlik</th>\n",
       "      <th>CekirdekSayisi</th>\n",
       "      <th>ArkaKameraMP</th>\n",
       "      <th>CozunurlukYükseklik</th>\n",
       "      <th>CozunurlukGenislik</th>\n",
       "      <th>RAM</th>\n",
       "      <th>BataryaOmru</th>\n",
       "    </tr>\n",
       "  </thead>\n",
       "  <tbody>\n",
       "    <tr>\n",
       "      <th>BataryaGucu</th>\n",
       "      <td>1.000000</td>\n",
       "      <td>0.011482</td>\n",
       "      <td>0.032167</td>\n",
       "      <td>-0.004004</td>\n",
       "      <td>0.034085</td>\n",
       "      <td>0.001844</td>\n",
       "      <td>-0.029727</td>\n",
       "      <td>0.031441</td>\n",
       "      <td>0.014901</td>\n",
       "      <td>-0.008402</td>\n",
       "      <td>-0.000883</td>\n",
       "      <td>0.052510</td>\n",
       "    </tr>\n",
       "    <tr>\n",
       "      <th>MikroislemciHizi</th>\n",
       "      <td>0.011482</td>\n",
       "      <td>1.000000</td>\n",
       "      <td>-0.000172</td>\n",
       "      <td>0.006545</td>\n",
       "      <td>-0.014364</td>\n",
       "      <td>0.012350</td>\n",
       "      <td>-0.005724</td>\n",
       "      <td>-0.005245</td>\n",
       "      <td>-0.014523</td>\n",
       "      <td>-0.009476</td>\n",
       "      <td>0.003969</td>\n",
       "      <td>-0.011432</td>\n",
       "    </tr>\n",
       "    <tr>\n",
       "      <th>OnKameraMP</th>\n",
       "      <td>0.032167</td>\n",
       "      <td>-0.000172</td>\n",
       "      <td>1.000000</td>\n",
       "      <td>-0.028642</td>\n",
       "      <td>-0.001723</td>\n",
       "      <td>0.024585</td>\n",
       "      <td>-0.013721</td>\n",
       "      <td>0.645697</td>\n",
       "      <td>-0.010662</td>\n",
       "      <td>-0.005646</td>\n",
       "      <td>0.012528</td>\n",
       "      <td>-0.007121</td>\n",
       "    </tr>\n",
       "    <tr>\n",
       "      <th>DahiliBellek</th>\n",
       "      <td>-0.004004</td>\n",
       "      <td>0.006545</td>\n",
       "      <td>-0.028642</td>\n",
       "      <td>1.000000</td>\n",
       "      <td>0.006886</td>\n",
       "      <td>-0.034214</td>\n",
       "      <td>-0.028310</td>\n",
       "      <td>-0.033273</td>\n",
       "      <td>0.010441</td>\n",
       "      <td>-0.008335</td>\n",
       "      <td>0.032883</td>\n",
       "      <td>-0.002790</td>\n",
       "    </tr>\n",
       "    <tr>\n",
       "      <th>Kalinlik</th>\n",
       "      <td>0.034085</td>\n",
       "      <td>-0.014364</td>\n",
       "      <td>-0.001723</td>\n",
       "      <td>0.006886</td>\n",
       "      <td>1.000000</td>\n",
       "      <td>0.021756</td>\n",
       "      <td>-0.003504</td>\n",
       "      <td>0.026282</td>\n",
       "      <td>0.025263</td>\n",
       "      <td>0.023566</td>\n",
       "      <td>-0.007293</td>\n",
       "      <td>0.017003</td>\n",
       "    </tr>\n",
       "    <tr>\n",
       "      <th>Agirlik</th>\n",
       "      <td>0.001844</td>\n",
       "      <td>0.012350</td>\n",
       "      <td>0.024585</td>\n",
       "      <td>-0.034214</td>\n",
       "      <td>0.021756</td>\n",
       "      <td>1.000000</td>\n",
       "      <td>-0.018989</td>\n",
       "      <td>0.018844</td>\n",
       "      <td>0.000939</td>\n",
       "      <td>0.000090</td>\n",
       "      <td>-0.002536</td>\n",
       "      <td>0.006209</td>\n",
       "    </tr>\n",
       "    <tr>\n",
       "      <th>CekirdekSayisi</th>\n",
       "      <td>-0.029727</td>\n",
       "      <td>-0.005724</td>\n",
       "      <td>-0.013721</td>\n",
       "      <td>-0.028310</td>\n",
       "      <td>-0.003504</td>\n",
       "      <td>-0.018989</td>\n",
       "      <td>1.000000</td>\n",
       "      <td>-0.001193</td>\n",
       "      <td>-0.006872</td>\n",
       "      <td>0.024480</td>\n",
       "      <td>0.005576</td>\n",
       "      <td>0.013148</td>\n",
       "    </tr>\n",
       "    <tr>\n",
       "      <th>ArkaKameraMP</th>\n",
       "      <td>0.031441</td>\n",
       "      <td>-0.005245</td>\n",
       "      <td>0.645697</td>\n",
       "      <td>-0.033273</td>\n",
       "      <td>0.026282</td>\n",
       "      <td>0.018844</td>\n",
       "      <td>-0.001193</td>\n",
       "      <td>1.000000</td>\n",
       "      <td>-0.018465</td>\n",
       "      <td>0.004196</td>\n",
       "      <td>0.029540</td>\n",
       "      <td>0.014657</td>\n",
       "    </tr>\n",
       "    <tr>\n",
       "      <th>CozunurlukYükseklik</th>\n",
       "      <td>0.014901</td>\n",
       "      <td>-0.014523</td>\n",
       "      <td>-0.010662</td>\n",
       "      <td>0.010441</td>\n",
       "      <td>0.025263</td>\n",
       "      <td>0.000939</td>\n",
       "      <td>-0.006872</td>\n",
       "      <td>-0.018465</td>\n",
       "      <td>1.000000</td>\n",
       "      <td>0.510664</td>\n",
       "      <td>-0.023421</td>\n",
       "      <td>-0.010645</td>\n",
       "    </tr>\n",
       "    <tr>\n",
       "      <th>CozunurlukGenislik</th>\n",
       "      <td>-0.008402</td>\n",
       "      <td>-0.009476</td>\n",
       "      <td>-0.005646</td>\n",
       "      <td>-0.008335</td>\n",
       "      <td>0.023566</td>\n",
       "      <td>0.000090</td>\n",
       "      <td>0.024480</td>\n",
       "      <td>0.004196</td>\n",
       "      <td>0.510664</td>\n",
       "      <td>1.000000</td>\n",
       "      <td>0.002101</td>\n",
       "      <td>0.006720</td>\n",
       "    </tr>\n",
       "    <tr>\n",
       "      <th>RAM</th>\n",
       "      <td>-0.000883</td>\n",
       "      <td>0.003969</td>\n",
       "      <td>0.012528</td>\n",
       "      <td>0.032883</td>\n",
       "      <td>-0.007293</td>\n",
       "      <td>-0.002536</td>\n",
       "      <td>0.005576</td>\n",
       "      <td>0.029540</td>\n",
       "      <td>-0.023421</td>\n",
       "      <td>0.002101</td>\n",
       "      <td>1.000000</td>\n",
       "      <td>0.010444</td>\n",
       "    </tr>\n",
       "    <tr>\n",
       "      <th>BataryaOmru</th>\n",
       "      <td>0.052510</td>\n",
       "      <td>-0.011432</td>\n",
       "      <td>-0.007121</td>\n",
       "      <td>-0.002790</td>\n",
       "      <td>0.017003</td>\n",
       "      <td>0.006209</td>\n",
       "      <td>0.013148</td>\n",
       "      <td>0.014657</td>\n",
       "      <td>-0.010645</td>\n",
       "      <td>0.006720</td>\n",
       "      <td>0.010444</td>\n",
       "      <td>1.000000</td>\n",
       "    </tr>\n",
       "  </tbody>\n",
       "</table>\n",
       "</div>"
      ],
      "text/plain": [
       "                     BataryaGucu  MikroislemciHizi  OnKameraMP  DahiliBellek  \\\n",
       "BataryaGucu             1.000000          0.011482    0.032167     -0.004004   \n",
       "MikroislemciHizi        0.011482          1.000000   -0.000172      0.006545   \n",
       "OnKameraMP              0.032167         -0.000172    1.000000     -0.028642   \n",
       "DahiliBellek           -0.004004          0.006545   -0.028642      1.000000   \n",
       "Kalinlik                0.034085         -0.014364   -0.001723      0.006886   \n",
       "Agirlik                 0.001844          0.012350    0.024585     -0.034214   \n",
       "CekirdekSayisi         -0.029727         -0.005724   -0.013721     -0.028310   \n",
       "ArkaKameraMP            0.031441         -0.005245    0.645697     -0.033273   \n",
       "CozunurlukYükseklik     0.014901         -0.014523   -0.010662      0.010441   \n",
       "CozunurlukGenislik     -0.008402         -0.009476   -0.005646     -0.008335   \n",
       "RAM                    -0.000883          0.003969    0.012528      0.032883   \n",
       "BataryaOmru             0.052510         -0.011432   -0.007121     -0.002790   \n",
       "\n",
       "                     Kalinlik   Agirlik  CekirdekSayisi  ArkaKameraMP  \\\n",
       "BataryaGucu          0.034085  0.001844       -0.029727      0.031441   \n",
       "MikroislemciHizi    -0.014364  0.012350       -0.005724     -0.005245   \n",
       "OnKameraMP          -0.001723  0.024585       -0.013721      0.645697   \n",
       "DahiliBellek         0.006886 -0.034214       -0.028310     -0.033273   \n",
       "Kalinlik             1.000000  0.021756       -0.003504      0.026282   \n",
       "Agirlik              0.021756  1.000000       -0.018989      0.018844   \n",
       "CekirdekSayisi      -0.003504 -0.018989        1.000000     -0.001193   \n",
       "ArkaKameraMP         0.026282  0.018844       -0.001193      1.000000   \n",
       "CozunurlukYükseklik  0.025263  0.000939       -0.006872     -0.018465   \n",
       "CozunurlukGenislik   0.023566  0.000090        0.024480      0.004196   \n",
       "RAM                 -0.007293 -0.002536        0.005576      0.029540   \n",
       "BataryaOmru          0.017003  0.006209        0.013148      0.014657   \n",
       "\n",
       "                     CozunurlukYükseklik  CozunurlukGenislik       RAM  \\\n",
       "BataryaGucu                     0.014901           -0.008402 -0.000883   \n",
       "MikroislemciHizi               -0.014523           -0.009476  0.003969   \n",
       "OnKameraMP                     -0.010662           -0.005646  0.012528   \n",
       "DahiliBellek                    0.010441           -0.008335  0.032883   \n",
       "Kalinlik                        0.025263            0.023566 -0.007293   \n",
       "Agirlik                         0.000939            0.000090 -0.002536   \n",
       "CekirdekSayisi                 -0.006872            0.024480  0.005576   \n",
       "ArkaKameraMP                   -0.018465            0.004196  0.029540   \n",
       "CozunurlukYükseklik             1.000000            0.510664 -0.023421   \n",
       "CozunurlukGenislik              0.510664            1.000000  0.002101   \n",
       "RAM                            -0.023421            0.002101  1.000000   \n",
       "BataryaOmru                    -0.010645            0.006720  0.010444   \n",
       "\n",
       "                     BataryaOmru  \n",
       "BataryaGucu             0.052510  \n",
       "MikroislemciHizi       -0.011432  \n",
       "OnKameraMP             -0.007121  \n",
       "DahiliBellek           -0.002790  \n",
       "Kalinlik                0.017003  \n",
       "Agirlik                 0.006209  \n",
       "CekirdekSayisi          0.013148  \n",
       "ArkaKameraMP            0.014657  \n",
       "CozunurlukYükseklik    -0.010645  \n",
       "CozunurlukGenislik      0.006720  \n",
       "RAM                     0.010444  \n",
       "BataryaOmru             1.000000  "
      ]
     },
     "execution_count": 9,
     "metadata": {},
     "output_type": "execute_result"
    }
   ],
   "source": [
    "df.corr()"
   ]
  },
  {
   "cell_type": "code",
   "execution_count": 10,
   "id": "4fab9f6e",
   "metadata": {},
   "outputs": [
    {
     "data": {
      "image/png": "[encoded data removed]",
      "text/plain": [
       "<Figure size 720x720 with 2 Axes>"
      ]
     },
     "metadata": {
      "needs_background": "light"
     },
     "output_type": "display_data"
    }
   ],
   "source": [
    "fig,ax = plt.subplots(figsize = (10,10))\n",
    "sns.heatmap(df.corr(),annot=True,linewidths=1,ax = ax, xticklabels=True, yticklabels=True);"
   ]
  },
  {
   "cell_type": "code",
   "execution_count": 11,
   "id": "6d7da7de",
   "metadata": {},
   "outputs": [
    {
     "data": {
      "image/png": "[encoded data removed]",
      "text/plain": [
       "<Figure size 936x720 with 12 Axes>"
      ]
     },
     "metadata": {
      "needs_background": "light"
     },
     "output_type": "display_data"
    }
   ],
   "source": [
    "df.hist(figsize=(13,10))\n",
    "plt.show()"
   ]
  },
  {
   "cell_type": "markdown",
   "id": "44261e5c",
   "metadata": {},
   "source": [
    "**Hedef değişkenimiz FiyatAralıgı'nın değişkenlerle arasındaki ilişkiye bakıyorum.**"
   ]
  },
  {
   "cell_type": "code",
   "execution_count": 12,
   "id": "12de8e0b",
   "metadata": {},
   "outputs": [
    {
     "data": {
      "image/png": "[encoded data removed]",
      "text/plain": [
       "<Figure size 432x288 with 1 Axes>"
      ]
     },
     "metadata": {
      "needs_background": "light"
     },
     "output_type": "display_data"
    }
   ],
   "source": [
    "sns.pointplot(x=\"FiyatAraligi\",y=\"BataryaGucu\",data=df);"
   ]
  },
  {
   "cell_type": "markdown",
   "id": "86690ca4",
   "metadata": {},
   "source": [
    "* Bataryanın güçlü olması ürünün pahalı olması olarak nitelendirilebilir. Batarya gücü önemli bir değişken"
   ]
  },
  {
   "cell_type": "code",
   "execution_count": 13,
   "id": "9fadc632",
   "metadata": {},
   "outputs": [
    {
     "data": {
      "image/png": "[encoded data removed]",
      "text/plain": [
       "<Figure size 432x288 with 1 Axes>"
      ]
     },
     "metadata": {
      "needs_background": "light"
     },
     "output_type": "display_data"
    }
   ],
   "source": [
    "sns.pointplot(x=\"FiyatAraligi\",y=\"MikroislemciHizi\",data=df);"
   ]
  },
  {
   "cell_type": "code",
   "execution_count": 14,
   "id": "bb8915f3",
   "metadata": {},
   "outputs": [
    {
     "data": {
      "image/png": "[encoded data removed]",
      "text/plain": [
       "<Figure size 432x288 with 1 Axes>"
      ]
     },
     "metadata": {
      "needs_background": "light"
     },
     "output_type": "display_data"
    }
   ],
   "source": [
    "sns.pointplot(x=\"FiyatAraligi\",y=\"OnKameraMP\",data=df);"
   ]
  },
  {
   "cell_type": "markdown",
   "id": "4cd2f20a",
   "metadata": {},
   "source": [
    "* Ön kameranın megapikseli belirleyici bir fark değil."
   ]
  },
  {
   "cell_type": "code",
   "execution_count": 15,
   "id": "0b965395",
   "metadata": {},
   "outputs": [
    {
     "data": {
      "image/png": "[encoded data removed]",
      "text/plain": [
       "<Figure size 432x288 with 1 Axes>"
      ]
     },
     "metadata": {
      "needs_background": "light"
     },
     "output_type": "display_data"
    }
   ],
   "source": [
    "sns.pointplot(x=\"FiyatAraligi\",y=\"ArkaKameraMP\",data=df);"
   ]
  },
  {
   "cell_type": "markdown",
   "id": "4a6040a0",
   "metadata": {},
   "source": [
    "* Arka kameranın pikseli direkt fiyata etki ediyor"
   ]
  },
  {
   "cell_type": "code",
   "execution_count": 16,
   "id": "c4f6a9d8",
   "metadata": {},
   "outputs": [
    {
     "data": {
      "image/png": "[encoded data removed]",
      "text/plain": [
       "<Figure size 432x288 with 1 Axes>"
      ]
     },
     "metadata": {
      "needs_background": "light"
     },
     "output_type": "display_data"
    }
   ],
   "source": [
    "sns.pointplot(x=\"FiyatAraligi\",y=\"DahiliBellek\",data=df);"
   ]
  },
  {
   "cell_type": "code",
   "execution_count": 17,
   "id": "777ccbdf",
   "metadata": {},
   "outputs": [
    {
     "data": {
      "image/png": "[encoded data removed]",
      "text/plain": [
       "<Figure size 432x288 with 1 Axes>"
      ]
     },
     "metadata": {
      "needs_background": "light"
     },
     "output_type": "display_data"
    }
   ],
   "source": [
    "sns.pointplot(x=\"FiyatAraligi\",y=\"Kalinlik\",data=df);"
   ]
  },
  {
   "cell_type": "code",
   "execution_count": 18,
   "id": "1428118b",
   "metadata": {},
   "outputs": [
    {
     "data": {
      "image/png": "[encoded data removed]",
      "text/plain": [
       "<Figure size 360x360 with 1 Axes>"
      ]
     },
     "metadata": {
      "needs_background": "light"
     },
     "output_type": "display_data"
    }
   ],
   "source": [
    "sns.catplot(x=\"FiyatAraligi\",y=\"Agirlik\",data=df);"
   ]
  },
  {
   "cell_type": "markdown",
   "id": "bffc7604",
   "metadata": {},
   "source": [
    "* Ağırlık fiyat aralfını çokta etkileyen bir faktör değil."
   ]
  },
  {
   "cell_type": "code",
   "execution_count": 19,
   "id": "6e65dfcc",
   "metadata": {},
   "outputs": [
    {
     "data": {
      "image/png": "[encoded data removed]",
      "text/plain": [
       "<Figure size 360x360 with 1 Axes>"
      ]
     },
     "metadata": {
      "needs_background": "light"
     },
     "output_type": "display_data"
    }
   ],
   "source": [
    "sns.catplot(x=\"FiyatAraligi\",y=\"RAM\",data=df);"
   ]
  },
  {
   "cell_type": "markdown",
   "id": "c17bbf0c",
   "metadata": {},
   "source": [
    "* Ram direkt ürün fiyatına etki ediyor."
   ]
  },
  {
   "cell_type": "markdown",
   "id": "46eba3b4",
   "metadata": {},
   "source": [
    "**Hedef değişkenim ne kadar dengeli ona bakıcam**"
   ]
  },
  {
   "cell_type": "code",
   "execution_count": 20,
   "id": "25d3e18e",
   "metadata": {},
   "outputs": [
    {
     "data": {
      "image/png": "[encoded data removed]",
      "text/plain": [
       "<Figure size 432x288 with 1 Axes>"
      ]
     },
     "metadata": {
      "needs_background": "light"
     },
     "output_type": "display_data"
    }
   ],
   "source": [
    "sns.countplot(x=\"FiyatAraligi\",data=df);"
   ]
  },
  {
   "cell_type": "markdown",
   "id": "0a0a1be4",
   "metadata": {},
   "source": [
    "* Dengeli oldugunu gördüm. Bu rahat yorumlayabilmem için gayet iyi"
   ]
  },
  {
   "cell_type": "markdown",
   "id": "cf713b39",
   "metadata": {},
   "source": [
    "* Kategorik 8 özniteliğin benzersiz değerlerinden nominal(sıralanamaz) mi ordinal(sıralanabilir) mi olduguna bakıcam"
   ]
  },
  {
   "cell_type": "code",
   "execution_count": 21,
   "id": "4f385ac2",
   "metadata": {},
   "outputs": [
    {
     "data": {
      "text/plain": [
       "array(['Yok', 'Var'], dtype=object)"
      ]
     },
     "execution_count": 21,
     "metadata": {},
     "output_type": "execute_result"
    }
   ],
   "source": [
    "df[\"Bluetooth\"].unique() # Nominal"
   ]
  },
  {
   "cell_type": "code",
   "execution_count": 22,
   "id": "18c7b836",
   "metadata": {},
   "outputs": [
    {
     "data": {
      "text/plain": [
       "array(['Yok', 'Var'], dtype=object)"
      ]
     },
     "execution_count": 22,
     "metadata": {},
     "output_type": "execute_result"
    }
   ],
   "source": [
    "df[\"CiftHat\"].unique() # Nominal"
   ]
  },
  {
   "cell_type": "code",
   "execution_count": 23,
   "id": "75060ccf",
   "metadata": {},
   "outputs": [
    {
     "data": {
      "text/plain": [
       "array(['Yok', 'Var'], dtype=object)"
      ]
     },
     "execution_count": 23,
     "metadata": {},
     "output_type": "execute_result"
    }
   ],
   "source": [
    "df[\"4G\"].unique() # Nominal"
   ]
  },
  {
   "cell_type": "code",
   "execution_count": 24,
   "id": "de826d28",
   "metadata": {},
   "outputs": [
    {
     "data": {
      "text/plain": [
       "array(['Var', 'Yok'], dtype=object)"
      ]
     },
     "execution_count": 24,
     "metadata": {},
     "output_type": "execute_result"
    }
   ],
   "source": [
    "df[\"3G\"].unique() # Nominal"
   ]
  },
  {
   "cell_type": "code",
   "execution_count": 25,
   "id": "21f944ef",
   "metadata": {},
   "outputs": [
    {
     "data": {
      "text/plain": [
       "array(['Yok', 'Var'], dtype=object)"
      ]
     },
     "execution_count": 25,
     "metadata": {},
     "output_type": "execute_result"
    }
   ],
   "source": [
    "df[\"Dokunmatik\"].unique() # Nominal"
   ]
  },
  {
   "cell_type": "code",
   "execution_count": 26,
   "id": "8ac2c18e",
   "metadata": {},
   "outputs": [
    {
     "data": {
      "text/plain": [
       "array(['Yok', 'Var'], dtype=object)"
      ]
     },
     "execution_count": 26,
     "metadata": {},
     "output_type": "execute_result"
    }
   ],
   "source": [
    "df[\"WiFi\"].unique() # Nominal"
   ]
  },
  {
   "cell_type": "code",
   "execution_count": 27,
   "id": "b22e08a5",
   "metadata": {},
   "outputs": [
    {
     "data": {
      "text/plain": [
       "array(['Normal', 'Pahalı', 'Ucuz', 'Çok Ucuz'], dtype=object)"
      ]
     },
     "execution_count": 27,
     "metadata": {},
     "output_type": "execute_result"
    }
   ],
   "source": [
    "df[\"FiyatAraligi\"].unique() # Ordinal"
   ]
  },
  {
   "cell_type": "code",
   "execution_count": 28,
   "id": "2e7b7e85",
   "metadata": {},
   "outputs": [
    {
     "data": {
      "text/plain": [
       "array(['Beyaz', 'Pembe', 'Mor', 'Turuncu', 'Gri', 'Sarı', 'Mavi',\n",
       "       'Turkuaz', 'Kahverengi', 'Yeşil', 'Kırmızı', 'Siyah'], dtype=object)"
      ]
     },
     "execution_count": 28,
     "metadata": {},
     "output_type": "execute_result"
    }
   ],
   "source": [
    "df[\"Renk\"].unique() # Nominal"
   ]
  },
  {
   "cell_type": "code",
   "execution_count": 29,
   "id": "eabacf03",
   "metadata": {},
   "outputs": [
    {
     "data": {
      "text/html": [
       "<div>\n",
       "<style scoped>\n",
       "    .dataframe tbody tr th:only-of-type {\n",
       "        vertical-align: middle;\n",
       "    }\n",
       "\n",
       "    .dataframe tbody tr th {\n",
       "        vertical-align: top;\n",
       "    }\n",
       "\n",
       "    .dataframe thead th {\n",
       "        text-align: right;\n",
       "    }\n",
       "</style>\n",
       "<table border=\"1\" class=\"dataframe\">\n",
       "  <thead>\n",
       "    <tr style=\"text-align: right;\">\n",
       "      <th></th>\n",
       "      <th>Enc__Beyaz</th>\n",
       "      <th>Enc__Gri</th>\n",
       "      <th>Enc__Kahverengi</th>\n",
       "      <th>Enc__Kırmızı</th>\n",
       "      <th>Enc__Mavi</th>\n",
       "      <th>Enc__Mor</th>\n",
       "      <th>Enc__Pembe</th>\n",
       "      <th>Enc__Sarı</th>\n",
       "      <th>Enc__Siyah</th>\n",
       "      <th>Enc__Turkuaz</th>\n",
       "      <th>Enc__Turuncu</th>\n",
       "      <th>Enc__Yeşil</th>\n",
       "    </tr>\n",
       "  </thead>\n",
       "  <tbody>\n",
       "    <tr>\n",
       "      <th>0</th>\n",
       "      <td>1</td>\n",
       "      <td>0</td>\n",
       "      <td>0</td>\n",
       "      <td>0</td>\n",
       "      <td>0</td>\n",
       "      <td>0</td>\n",
       "      <td>0</td>\n",
       "      <td>0</td>\n",
       "      <td>0</td>\n",
       "      <td>0</td>\n",
       "      <td>0</td>\n",
       "      <td>0</td>\n",
       "    </tr>\n",
       "    <tr>\n",
       "      <th>1</th>\n",
       "      <td>0</td>\n",
       "      <td>0</td>\n",
       "      <td>0</td>\n",
       "      <td>0</td>\n",
       "      <td>0</td>\n",
       "      <td>0</td>\n",
       "      <td>1</td>\n",
       "      <td>0</td>\n",
       "      <td>0</td>\n",
       "      <td>0</td>\n",
       "      <td>0</td>\n",
       "      <td>0</td>\n",
       "    </tr>\n",
       "    <tr>\n",
       "      <th>2</th>\n",
       "      <td>0</td>\n",
       "      <td>0</td>\n",
       "      <td>0</td>\n",
       "      <td>0</td>\n",
       "      <td>0</td>\n",
       "      <td>1</td>\n",
       "      <td>0</td>\n",
       "      <td>0</td>\n",
       "      <td>0</td>\n",
       "      <td>0</td>\n",
       "      <td>0</td>\n",
       "      <td>0</td>\n",
       "    </tr>\n",
       "    <tr>\n",
       "      <th>3</th>\n",
       "      <td>0</td>\n",
       "      <td>0</td>\n",
       "      <td>0</td>\n",
       "      <td>0</td>\n",
       "      <td>0</td>\n",
       "      <td>0</td>\n",
       "      <td>0</td>\n",
       "      <td>0</td>\n",
       "      <td>0</td>\n",
       "      <td>0</td>\n",
       "      <td>1</td>\n",
       "      <td>0</td>\n",
       "    </tr>\n",
       "    <tr>\n",
       "      <th>4</th>\n",
       "      <td>1</td>\n",
       "      <td>0</td>\n",
       "      <td>0</td>\n",
       "      <td>0</td>\n",
       "      <td>0</td>\n",
       "      <td>0</td>\n",
       "      <td>0</td>\n",
       "      <td>0</td>\n",
       "      <td>0</td>\n",
       "      <td>0</td>\n",
       "      <td>0</td>\n",
       "      <td>0</td>\n",
       "    </tr>\n",
       "    <tr>\n",
       "      <th>...</th>\n",
       "      <td>...</td>\n",
       "      <td>...</td>\n",
       "      <td>...</td>\n",
       "      <td>...</td>\n",
       "      <td>...</td>\n",
       "      <td>...</td>\n",
       "      <td>...</td>\n",
       "      <td>...</td>\n",
       "      <td>...</td>\n",
       "      <td>...</td>\n",
       "      <td>...</td>\n",
       "      <td>...</td>\n",
       "    </tr>\n",
       "    <tr>\n",
       "      <th>1995</th>\n",
       "      <td>0</td>\n",
       "      <td>0</td>\n",
       "      <td>0</td>\n",
       "      <td>0</td>\n",
       "      <td>0</td>\n",
       "      <td>0</td>\n",
       "      <td>0</td>\n",
       "      <td>0</td>\n",
       "      <td>1</td>\n",
       "      <td>0</td>\n",
       "      <td>0</td>\n",
       "      <td>0</td>\n",
       "    </tr>\n",
       "    <tr>\n",
       "      <th>1996</th>\n",
       "      <td>0</td>\n",
       "      <td>0</td>\n",
       "      <td>0</td>\n",
       "      <td>0</td>\n",
       "      <td>0</td>\n",
       "      <td>0</td>\n",
       "      <td>0</td>\n",
       "      <td>1</td>\n",
       "      <td>0</td>\n",
       "      <td>0</td>\n",
       "      <td>0</td>\n",
       "      <td>0</td>\n",
       "    </tr>\n",
       "    <tr>\n",
       "      <th>1997</th>\n",
       "      <td>0</td>\n",
       "      <td>0</td>\n",
       "      <td>0</td>\n",
       "      <td>0</td>\n",
       "      <td>0</td>\n",
       "      <td>0</td>\n",
       "      <td>0</td>\n",
       "      <td>0</td>\n",
       "      <td>0</td>\n",
       "      <td>0</td>\n",
       "      <td>1</td>\n",
       "      <td>0</td>\n",
       "    </tr>\n",
       "    <tr>\n",
       "      <th>1998</th>\n",
       "      <td>0</td>\n",
       "      <td>0</td>\n",
       "      <td>0</td>\n",
       "      <td>0</td>\n",
       "      <td>0</td>\n",
       "      <td>0</td>\n",
       "      <td>0</td>\n",
       "      <td>0</td>\n",
       "      <td>0</td>\n",
       "      <td>1</td>\n",
       "      <td>0</td>\n",
       "      <td>0</td>\n",
       "    </tr>\n",
       "    <tr>\n",
       "      <th>1999</th>\n",
       "      <td>0</td>\n",
       "      <td>0</td>\n",
       "      <td>0</td>\n",
       "      <td>0</td>\n",
       "      <td>0</td>\n",
       "      <td>0</td>\n",
       "      <td>0</td>\n",
       "      <td>0</td>\n",
       "      <td>1</td>\n",
       "      <td>0</td>\n",
       "      <td>0</td>\n",
       "      <td>0</td>\n",
       "    </tr>\n",
       "  </tbody>\n",
       "</table>\n",
       "<p>2000 rows × 12 columns</p>\n",
       "</div>"
      ],
      "text/plain": [
       "      Enc__Beyaz  Enc__Gri  Enc__Kahverengi  Enc__Kırmızı  Enc__Mavi  \\\n",
       "0              1         0                0             0          0   \n",
       "1              0         0                0             0          0   \n",
       "2              0         0                0             0          0   \n",
       "3              0         0                0             0          0   \n",
       "4              1         0                0             0          0   \n",
       "...          ...       ...              ...           ...        ...   \n",
       "1995           0         0                0             0          0   \n",
       "1996           0         0                0             0          0   \n",
       "1997           0         0                0             0          0   \n",
       "1998           0         0                0             0          0   \n",
       "1999           0         0                0             0          0   \n",
       "\n",
       "      Enc__Mor  Enc__Pembe  Enc__Sarı  Enc__Siyah  Enc__Turkuaz  Enc__Turuncu  \\\n",
       "0            0           0          0           0             0             0   \n",
       "1            0           1          0           0             0             0   \n",
       "2            1           0          0           0             0             0   \n",
       "3            0           0          0           0             0             1   \n",
       "4            0           0          0           0             0             0   \n",
       "...        ...         ...        ...         ...           ...           ...   \n",
       "1995         0           0          0           1             0             0   \n",
       "1996         0           0          1           0             0             0   \n",
       "1997         0           0          0           0             0             1   \n",
       "1998         0           0          0           0             1             0   \n",
       "1999         0           0          0           1             0             0   \n",
       "\n",
       "      Enc__Yeşil  \n",
       "0              0  \n",
       "1              0  \n",
       "2              0  \n",
       "3              0  \n",
       "4              0  \n",
       "...          ...  \n",
       "1995           0  \n",
       "1996           0  \n",
       "1997           0  \n",
       "1998           0  \n",
       "1999           0  \n",
       "\n",
       "[2000 rows x 12 columns]"
      ]
     },
     "execution_count": 29,
     "metadata": {},
     "output_type": "execute_result"
    }
   ],
   "source": [
    "df[\"Renk\"] = pd.Categorical(df[\"Renk\"])\n",
    "df_dummies= pd.get_dummies(df[\"Renk\"], prefix = \"Enc_\")\n",
    "df_dummies"
   ]
  },
  {
   "cell_type": "code",
   "execution_count": 30,
   "id": "6db78683",
   "metadata": {},
   "outputs": [
    {
     "data": {
      "text/html": [
       "<div>\n",
       "<style scoped>\n",
       "    .dataframe tbody tr th:only-of-type {\n",
       "        vertical-align: middle;\n",
       "    }\n",
       "\n",
       "    .dataframe tbody tr th {\n",
       "        vertical-align: top;\n",
       "    }\n",
       "\n",
       "    .dataframe thead th {\n",
       "        text-align: right;\n",
       "    }\n",
       "</style>\n",
       "<table border=\"1\" class=\"dataframe\">\n",
       "  <thead>\n",
       "    <tr style=\"text-align: right;\">\n",
       "      <th></th>\n",
       "      <th>BataryaGucu</th>\n",
       "      <th>Bluetooth</th>\n",
       "      <th>MikroislemciHizi</th>\n",
       "      <th>CiftHat</th>\n",
       "      <th>OnKameraMP</th>\n",
       "      <th>4G</th>\n",
       "      <th>DahiliBellek</th>\n",
       "      <th>Kalinlik</th>\n",
       "      <th>Agirlik</th>\n",
       "      <th>CekirdekSayisi</th>\n",
       "      <th>...</th>\n",
       "      <th>Enc__Kahverengi</th>\n",
       "      <th>Enc__Kırmızı</th>\n",
       "      <th>Enc__Mavi</th>\n",
       "      <th>Enc__Mor</th>\n",
       "      <th>Enc__Pembe</th>\n",
       "      <th>Enc__Sarı</th>\n",
       "      <th>Enc__Siyah</th>\n",
       "      <th>Enc__Turkuaz</th>\n",
       "      <th>Enc__Turuncu</th>\n",
       "      <th>Enc__Yeşil</th>\n",
       "    </tr>\n",
       "  </thead>\n",
       "  <tbody>\n",
       "    <tr>\n",
       "      <th>0</th>\n",
       "      <td>1325</td>\n",
       "      <td>Yok</td>\n",
       "      <td>1.9</td>\n",
       "      <td>Yok</td>\n",
       "      <td>2.0</td>\n",
       "      <td>Yok</td>\n",
       "      <td>50</td>\n",
       "      <td>0.1</td>\n",
       "      <td>146</td>\n",
       "      <td>1</td>\n",
       "      <td>...</td>\n",
       "      <td>0</td>\n",
       "      <td>0</td>\n",
       "      <td>0</td>\n",
       "      <td>0</td>\n",
       "      <td>0</td>\n",
       "      <td>0</td>\n",
       "      <td>0</td>\n",
       "      <td>0</td>\n",
       "      <td>0</td>\n",
       "      <td>0</td>\n",
       "    </tr>\n",
       "    <tr>\n",
       "      <th>1</th>\n",
       "      <td>1046</td>\n",
       "      <td>Var</td>\n",
       "      <td>2.8</td>\n",
       "      <td>Var</td>\n",
       "      <td>0.0</td>\n",
       "      <td>Var</td>\n",
       "      <td>58</td>\n",
       "      <td>0.2</td>\n",
       "      <td>100</td>\n",
       "      <td>8</td>\n",
       "      <td>...</td>\n",
       "      <td>0</td>\n",
       "      <td>0</td>\n",
       "      <td>0</td>\n",
       "      <td>0</td>\n",
       "      <td>1</td>\n",
       "      <td>0</td>\n",
       "      <td>0</td>\n",
       "      <td>0</td>\n",
       "      <td>0</td>\n",
       "      <td>0</td>\n",
       "    </tr>\n",
       "    <tr>\n",
       "      <th>2</th>\n",
       "      <td>843</td>\n",
       "      <td>Yok</td>\n",
       "      <td>1.3</td>\n",
       "      <td>Var</td>\n",
       "      <td>1.0</td>\n",
       "      <td>Yok</td>\n",
       "      <td>16</td>\n",
       "      <td>0.9</td>\n",
       "      <td>119</td>\n",
       "      <td>7</td>\n",
       "      <td>...</td>\n",
       "      <td>0</td>\n",
       "      <td>0</td>\n",
       "      <td>0</td>\n",
       "      <td>1</td>\n",
       "      <td>0</td>\n",
       "      <td>0</td>\n",
       "      <td>0</td>\n",
       "      <td>0</td>\n",
       "      <td>0</td>\n",
       "      <td>0</td>\n",
       "    </tr>\n",
       "    <tr>\n",
       "      <th>3</th>\n",
       "      <td>894</td>\n",
       "      <td>Yok</td>\n",
       "      <td>0.5</td>\n",
       "      <td>Var</td>\n",
       "      <td>1.0</td>\n",
       "      <td>Var</td>\n",
       "      <td>50</td>\n",
       "      <td>0.5</td>\n",
       "      <td>199</td>\n",
       "      <td>3</td>\n",
       "      <td>...</td>\n",
       "      <td>0</td>\n",
       "      <td>0</td>\n",
       "      <td>0</td>\n",
       "      <td>0</td>\n",
       "      <td>0</td>\n",
       "      <td>0</td>\n",
       "      <td>0</td>\n",
       "      <td>0</td>\n",
       "      <td>1</td>\n",
       "      <td>0</td>\n",
       "    </tr>\n",
       "    <tr>\n",
       "      <th>4</th>\n",
       "      <td>936</td>\n",
       "      <td>Yok</td>\n",
       "      <td>1.0</td>\n",
       "      <td>Yok</td>\n",
       "      <td>1.0</td>\n",
       "      <td>Yok</td>\n",
       "      <td>18</td>\n",
       "      <td>0.2</td>\n",
       "      <td>153</td>\n",
       "      <td>3</td>\n",
       "      <td>...</td>\n",
       "      <td>0</td>\n",
       "      <td>0</td>\n",
       "      <td>0</td>\n",
       "      <td>0</td>\n",
       "      <td>0</td>\n",
       "      <td>0</td>\n",
       "      <td>0</td>\n",
       "      <td>0</td>\n",
       "      <td>0</td>\n",
       "      <td>0</td>\n",
       "    </tr>\n",
       "  </tbody>\n",
       "</table>\n",
       "<p>5 rows × 32 columns</p>\n",
       "</div>"
      ],
      "text/plain": [
       "   BataryaGucu Bluetooth  MikroislemciHizi CiftHat  OnKameraMP   4G  \\\n",
       "0         1325       Yok               1.9     Yok         2.0  Yok   \n",
       "1         1046       Var               2.8     Var         0.0  Var   \n",
       "2          843       Yok               1.3     Var         1.0  Yok   \n",
       "3          894       Yok               0.5     Var         1.0  Var   \n",
       "4          936       Yok               1.0     Yok         1.0  Yok   \n",
       "\n",
       "   DahiliBellek  Kalinlik  Agirlik  CekirdekSayisi  ...  Enc__Kahverengi  \\\n",
       "0            50       0.1      146               1  ...                0   \n",
       "1            58       0.2      100               8  ...                0   \n",
       "2            16       0.9      119               7  ...                0   \n",
       "3            50       0.5      199               3  ...                0   \n",
       "4            18       0.2      153               3  ...                0   \n",
       "\n",
       "   Enc__Kırmızı  Enc__Mavi  Enc__Mor  Enc__Pembe Enc__Sarı Enc__Siyah  \\\n",
       "0             0          0         0           0         0          0   \n",
       "1             0          0         0           1         0          0   \n",
       "2             0          0         1           0         0          0   \n",
       "3             0          0         0           0         0          0   \n",
       "4             0          0         0           0         0          0   \n",
       "\n",
       "  Enc__Turkuaz Enc__Turuncu Enc__Yeşil  \n",
       "0            0            0          0  \n",
       "1            0            0          0  \n",
       "2            0            0          0  \n",
       "3            0            1          0  \n",
       "4            0            0          0  \n",
       "\n",
       "[5 rows x 32 columns]"
      ]
     },
     "execution_count": 30,
     "metadata": {},
     "output_type": "execute_result"
    }
   ],
   "source": [
    "df = pd.concat([df,df_dummies],axis=1)\n",
    "df.head()"
   ]
  },
  {
   "cell_type": "code",
   "execution_count": 31,
   "id": "df4127ad",
   "metadata": {},
   "outputs": [
    {
     "name": "stdout",
     "output_type": "stream",
     "text": [
      "<class 'pandas.core.frame.DataFrame'>\n",
      "RangeIndex: 2000 entries, 0 to 1999\n",
      "Data columns (total 32 columns):\n",
      " #   Column               Non-Null Count  Dtype   \n",
      "---  ------               --------------  -----   \n",
      " 0   BataryaGucu          2000 non-null   int64   \n",
      " 1   Bluetooth            2000 non-null   object  \n",
      " 2   MikroislemciHizi     2000 non-null   float64 \n",
      " 3   CiftHat              2000 non-null   object  \n",
      " 4   OnKameraMP           1995 non-null   float64 \n",
      " 5   4G                   2000 non-null   object  \n",
      " 6   DahiliBellek         2000 non-null   int64   \n",
      " 7   Kalinlik             2000 non-null   float64 \n",
      " 8   Agirlik              2000 non-null   int64   \n",
      " 9   CekirdekSayisi       2000 non-null   int64   \n",
      " 10  ArkaKameraMP         2000 non-null   int64   \n",
      " 11  CozunurlukYükseklik  2000 non-null   int64   \n",
      " 12  CozunurlukGenislik   2000 non-null   int64   \n",
      " 13  RAM                  1988 non-null   float64 \n",
      " 14  BataryaOmru          2000 non-null   int64   \n",
      " 15  3G                   2000 non-null   object  \n",
      " 16  Dokunmatik           2000 non-null   object  \n",
      " 17  WiFi                 2000 non-null   object  \n",
      " 18  FiyatAraligi         2000 non-null   object  \n",
      " 19  Renk                 2000 non-null   category\n",
      " 20  Enc__Beyaz           2000 non-null   uint8   \n",
      " 21  Enc__Gri             2000 non-null   uint8   \n",
      " 22  Enc__Kahverengi      2000 non-null   uint8   \n",
      " 23  Enc__Kırmızı         2000 non-null   uint8   \n",
      " 24  Enc__Mavi            2000 non-null   uint8   \n",
      " 25  Enc__Mor             2000 non-null   uint8   \n",
      " 26  Enc__Pembe           2000 non-null   uint8   \n",
      " 27  Enc__Sarı            2000 non-null   uint8   \n",
      " 28  Enc__Siyah           2000 non-null   uint8   \n",
      " 29  Enc__Turkuaz         2000 non-null   uint8   \n",
      " 30  Enc__Turuncu         2000 non-null   uint8   \n",
      " 31  Enc__Yeşil           2000 non-null   uint8   \n",
      "dtypes: category(1), float64(4), int64(8), object(7), uint8(12)\n",
      "memory usage: 322.8+ KB\n"
     ]
    }
   ],
   "source": [
    "df.info()"
   ]
  },
  {
   "cell_type": "code",
   "execution_count": 32,
   "id": "412079c1",
   "metadata": {},
   "outputs": [
    {
     "data": {
      "text/html": [
       "<div>\n",
       "<style scoped>\n",
       "    .dataframe tbody tr th:only-of-type {\n",
       "        vertical-align: middle;\n",
       "    }\n",
       "\n",
       "    .dataframe tbody tr th {\n",
       "        vertical-align: top;\n",
       "    }\n",
       "\n",
       "    .dataframe thead th {\n",
       "        text-align: right;\n",
       "    }\n",
       "</style>\n",
       "<table border=\"1\" class=\"dataframe\">\n",
       "  <thead>\n",
       "    <tr style=\"text-align: right;\">\n",
       "      <th></th>\n",
       "      <th>BataryaGucu</th>\n",
       "      <th>Bluetooth</th>\n",
       "      <th>MikroislemciHizi</th>\n",
       "      <th>CiftHat</th>\n",
       "      <th>OnKameraMP</th>\n",
       "      <th>4G</th>\n",
       "      <th>DahiliBellek</th>\n",
       "      <th>Kalinlik</th>\n",
       "      <th>Agirlik</th>\n",
       "      <th>CekirdekSayisi</th>\n",
       "      <th>...</th>\n",
       "      <th>Enc__Kahverengi</th>\n",
       "      <th>Enc__Kırmızı</th>\n",
       "      <th>Enc__Mavi</th>\n",
       "      <th>Enc__Mor</th>\n",
       "      <th>Enc__Pembe</th>\n",
       "      <th>Enc__Sarı</th>\n",
       "      <th>Enc__Siyah</th>\n",
       "      <th>Enc__Turkuaz</th>\n",
       "      <th>Enc__Turuncu</th>\n",
       "      <th>Enc__Yeşil</th>\n",
       "    </tr>\n",
       "  </thead>\n",
       "  <tbody>\n",
       "    <tr>\n",
       "      <th>0</th>\n",
       "      <td>1325</td>\n",
       "      <td>Yok</td>\n",
       "      <td>1.9</td>\n",
       "      <td>Yok</td>\n",
       "      <td>2.0</td>\n",
       "      <td>Yok</td>\n",
       "      <td>50</td>\n",
       "      <td>0.1</td>\n",
       "      <td>146</td>\n",
       "      <td>1</td>\n",
       "      <td>...</td>\n",
       "      <td>0</td>\n",
       "      <td>0</td>\n",
       "      <td>0</td>\n",
       "      <td>0</td>\n",
       "      <td>0</td>\n",
       "      <td>0</td>\n",
       "      <td>0</td>\n",
       "      <td>0</td>\n",
       "      <td>0</td>\n",
       "      <td>0</td>\n",
       "    </tr>\n",
       "    <tr>\n",
       "      <th>1</th>\n",
       "      <td>1046</td>\n",
       "      <td>Var</td>\n",
       "      <td>2.8</td>\n",
       "      <td>Var</td>\n",
       "      <td>0.0</td>\n",
       "      <td>Var</td>\n",
       "      <td>58</td>\n",
       "      <td>0.2</td>\n",
       "      <td>100</td>\n",
       "      <td>8</td>\n",
       "      <td>...</td>\n",
       "      <td>0</td>\n",
       "      <td>0</td>\n",
       "      <td>0</td>\n",
       "      <td>0</td>\n",
       "      <td>1</td>\n",
       "      <td>0</td>\n",
       "      <td>0</td>\n",
       "      <td>0</td>\n",
       "      <td>0</td>\n",
       "      <td>0</td>\n",
       "    </tr>\n",
       "    <tr>\n",
       "      <th>2</th>\n",
       "      <td>843</td>\n",
       "      <td>Yok</td>\n",
       "      <td>1.3</td>\n",
       "      <td>Var</td>\n",
       "      <td>1.0</td>\n",
       "      <td>Yok</td>\n",
       "      <td>16</td>\n",
       "      <td>0.9</td>\n",
       "      <td>119</td>\n",
       "      <td>7</td>\n",
       "      <td>...</td>\n",
       "      <td>0</td>\n",
       "      <td>0</td>\n",
       "      <td>0</td>\n",
       "      <td>1</td>\n",
       "      <td>0</td>\n",
       "      <td>0</td>\n",
       "      <td>0</td>\n",
       "      <td>0</td>\n",
       "      <td>0</td>\n",
       "      <td>0</td>\n",
       "    </tr>\n",
       "    <tr>\n",
       "      <th>3</th>\n",
       "      <td>894</td>\n",
       "      <td>Yok</td>\n",
       "      <td>0.5</td>\n",
       "      <td>Var</td>\n",
       "      <td>1.0</td>\n",
       "      <td>Var</td>\n",
       "      <td>50</td>\n",
       "      <td>0.5</td>\n",
       "      <td>199</td>\n",
       "      <td>3</td>\n",
       "      <td>...</td>\n",
       "      <td>0</td>\n",
       "      <td>0</td>\n",
       "      <td>0</td>\n",
       "      <td>0</td>\n",
       "      <td>0</td>\n",
       "      <td>0</td>\n",
       "      <td>0</td>\n",
       "      <td>0</td>\n",
       "      <td>1</td>\n",
       "      <td>0</td>\n",
       "    </tr>\n",
       "    <tr>\n",
       "      <th>4</th>\n",
       "      <td>936</td>\n",
       "      <td>Yok</td>\n",
       "      <td>1.0</td>\n",
       "      <td>Yok</td>\n",
       "      <td>1.0</td>\n",
       "      <td>Yok</td>\n",
       "      <td>18</td>\n",
       "      <td>0.2</td>\n",
       "      <td>153</td>\n",
       "      <td>3</td>\n",
       "      <td>...</td>\n",
       "      <td>0</td>\n",
       "      <td>0</td>\n",
       "      <td>0</td>\n",
       "      <td>0</td>\n",
       "      <td>0</td>\n",
       "      <td>0</td>\n",
       "      <td>0</td>\n",
       "      <td>0</td>\n",
       "      <td>0</td>\n",
       "      <td>0</td>\n",
       "    </tr>\n",
       "  </tbody>\n",
       "</table>\n",
       "<p>5 rows × 31 columns</p>\n",
       "</div>"
      ],
      "text/plain": [
       "   BataryaGucu Bluetooth  MikroislemciHizi CiftHat  OnKameraMP   4G  \\\n",
       "0         1325       Yok               1.9     Yok         2.0  Yok   \n",
       "1         1046       Var               2.8     Var         0.0  Var   \n",
       "2          843       Yok               1.3     Var         1.0  Yok   \n",
       "3          894       Yok               0.5     Var         1.0  Var   \n",
       "4          936       Yok               1.0     Yok         1.0  Yok   \n",
       "\n",
       "   DahiliBellek  Kalinlik  Agirlik  CekirdekSayisi  ...  Enc__Kahverengi  \\\n",
       "0            50       0.1      146               1  ...                0   \n",
       "1            58       0.2      100               8  ...                0   \n",
       "2            16       0.9      119               7  ...                0   \n",
       "3            50       0.5      199               3  ...                0   \n",
       "4            18       0.2      153               3  ...                0   \n",
       "\n",
       "   Enc__Kırmızı  Enc__Mavi  Enc__Mor  Enc__Pembe Enc__Sarı Enc__Siyah  \\\n",
       "0             0          0         0           0         0          0   \n",
       "1             0          0         0           1         0          0   \n",
       "2             0          0         1           0         0          0   \n",
       "3             0          0         0           0         0          0   \n",
       "4             0          0         0           0         0          0   \n",
       "\n",
       "  Enc__Turkuaz Enc__Turuncu  Enc__Yeşil  \n",
       "0            0            0           0  \n",
       "1            0            0           0  \n",
       "2            0            0           0  \n",
       "3            0            1           0  \n",
       "4            0            0           0  \n",
       "\n",
       "[5 rows x 31 columns]"
      ]
     },
     "execution_count": 32,
     "metadata": {},
     "output_type": "execute_result"
    }
   ],
   "source": [
    "df = df.drop(\"Renk\",axis = 1)\n",
    "df.head()"
   ]
  },
  {
   "cell_type": "code",
   "execution_count": 33,
   "id": "d7064f93",
   "metadata": {},
   "outputs": [
    {
     "name": "stdout",
     "output_type": "stream",
     "text": [
      "<class 'pandas.core.frame.DataFrame'>\n",
      "RangeIndex: 2000 entries, 0 to 1999\n",
      "Data columns (total 31 columns):\n",
      " #   Column               Non-Null Count  Dtype  \n",
      "---  ------               --------------  -----  \n",
      " 0   BataryaGucu          2000 non-null   int64  \n",
      " 1   Bluetooth            2000 non-null   object \n",
      " 2   MikroislemciHizi     2000 non-null   float64\n",
      " 3   CiftHat              2000 non-null   object \n",
      " 4   OnKameraMP           1995 non-null   float64\n",
      " 5   4G                   2000 non-null   object \n",
      " 6   DahiliBellek         2000 non-null   int64  \n",
      " 7   Kalinlik             2000 non-null   float64\n",
      " 8   Agirlik              2000 non-null   int64  \n",
      " 9   CekirdekSayisi       2000 non-null   int64  \n",
      " 10  ArkaKameraMP         2000 non-null   int64  \n",
      " 11  CozunurlukYükseklik  2000 non-null   int64  \n",
      " 12  CozunurlukGenislik   2000 non-null   int64  \n",
      " 13  RAM                  1988 non-null   float64\n",
      " 14  BataryaOmru          2000 non-null   int64  \n",
      " 15  3G                   2000 non-null   object \n",
      " 16  Dokunmatik           2000 non-null   object \n",
      " 17  WiFi                 2000 non-null   object \n",
      " 18  FiyatAraligi         2000 non-null   object \n",
      " 19  Enc__Beyaz           2000 non-null   uint8  \n",
      " 20  Enc__Gri             2000 non-null   uint8  \n",
      " 21  Enc__Kahverengi      2000 non-null   uint8  \n",
      " 22  Enc__Kırmızı         2000 non-null   uint8  \n",
      " 23  Enc__Mavi            2000 non-null   uint8  \n",
      " 24  Enc__Mor             2000 non-null   uint8  \n",
      " 25  Enc__Pembe           2000 non-null   uint8  \n",
      " 26  Enc__Sarı            2000 non-null   uint8  \n",
      " 27  Enc__Siyah           2000 non-null   uint8  \n",
      " 28  Enc__Turkuaz         2000 non-null   uint8  \n",
      " 29  Enc__Turuncu         2000 non-null   uint8  \n",
      " 30  Enc__Yeşil           2000 non-null   uint8  \n",
      "dtypes: float64(4), int64(8), object(7), uint8(12)\n",
      "memory usage: 320.4+ KB\n"
     ]
    }
   ],
   "source": [
    "df.info()"
   ]
  },
  {
   "cell_type": "code",
   "execution_count": 34,
   "id": "ccc671fe",
   "metadata": {},
   "outputs": [
    {
     "data": {
      "text/plain": [
       "Index(['BataryaGucu', 'Bluetooth', 'MikroislemciHizi', 'CiftHat', 'OnKameraMP',\n",
       "       '4G', 'DahiliBellek', 'Kalinlik', 'Agirlik', 'CekirdekSayisi',\n",
       "       'ArkaKameraMP', 'CozunurlukYükseklik', 'CozunurlukGenislik', 'RAM',\n",
       "       'BataryaOmru', '3G', 'Dokunmatik', 'WiFi', 'FiyatAraligi', 'Enc__Beyaz',\n",
       "       'Enc__Gri', 'Enc__Kahverengi', 'Enc__Kırmızı', 'Enc__Mavi', 'Enc__Mor',\n",
       "       'Enc__Pembe', 'Enc__Sarı', 'Enc__Siyah', 'Enc__Turkuaz', 'Enc__Turuncu',\n",
       "       'Enc__Yeşil'],\n",
       "      dtype='object')"
      ]
     },
     "execution_count": 34,
     "metadata": {},
     "output_type": "execute_result"
    }
   ],
   "source": [
    "df.columns"
   ]
  },
  {
   "cell_type": "code",
   "execution_count": 35,
   "id": "85c9da13",
   "metadata": {},
   "outputs": [],
   "source": [
    "label_encoder = preprocessing.LabelEncoder()"
   ]
  },
  {
   "cell_type": "code",
   "execution_count": 36,
   "id": "1e739ea7",
   "metadata": {},
   "outputs": [
    {
     "data": {
      "text/html": [
       "<div>\n",
       "<style scoped>\n",
       "    .dataframe tbody tr th:only-of-type {\n",
       "        vertical-align: middle;\n",
       "    }\n",
       "\n",
       "    .dataframe tbody tr th {\n",
       "        vertical-align: top;\n",
       "    }\n",
       "\n",
       "    .dataframe thead th {\n",
       "        text-align: right;\n",
       "    }\n",
       "</style>\n",
       "<table border=\"1\" class=\"dataframe\">\n",
       "  <thead>\n",
       "    <tr style=\"text-align: right;\">\n",
       "      <th></th>\n",
       "      <th>BataryaGucu</th>\n",
       "      <th>MikroislemciHizi</th>\n",
       "      <th>OnKameraMP</th>\n",
       "      <th>DahiliBellek</th>\n",
       "      <th>Kalinlik</th>\n",
       "      <th>Agirlik</th>\n",
       "      <th>CekirdekSayisi</th>\n",
       "      <th>ArkaKameraMP</th>\n",
       "      <th>CozunurlukYükseklik</th>\n",
       "      <th>CozunurlukGenislik</th>\n",
       "      <th>...</th>\n",
       "      <th>Enc__Siyah</th>\n",
       "      <th>Enc__Turkuaz</th>\n",
       "      <th>Enc__Turuncu</th>\n",
       "      <th>Enc__Yeşil</th>\n",
       "      <th>Bluetooth_Enc</th>\n",
       "      <th>CiftHat_Enc</th>\n",
       "      <th>4G_Enc</th>\n",
       "      <th>3G_Enc</th>\n",
       "      <th>Dokunmatik_Enc</th>\n",
       "      <th>WiFi_Enc</th>\n",
       "    </tr>\n",
       "  </thead>\n",
       "  <tbody>\n",
       "    <tr>\n",
       "      <th>0</th>\n",
       "      <td>1325</td>\n",
       "      <td>1.9</td>\n",
       "      <td>2.0</td>\n",
       "      <td>50</td>\n",
       "      <td>0.1</td>\n",
       "      <td>146</td>\n",
       "      <td>1</td>\n",
       "      <td>10</td>\n",
       "      <td>499</td>\n",
       "      <td>695</td>\n",
       "      <td>...</td>\n",
       "      <td>0</td>\n",
       "      <td>0</td>\n",
       "      <td>0</td>\n",
       "      <td>0</td>\n",
       "      <td>1</td>\n",
       "      <td>1</td>\n",
       "      <td>1</td>\n",
       "      <td>0</td>\n",
       "      <td>1</td>\n",
       "      <td>1</td>\n",
       "    </tr>\n",
       "    <tr>\n",
       "      <th>1</th>\n",
       "      <td>1046</td>\n",
       "      <td>2.8</td>\n",
       "      <td>0.0</td>\n",
       "      <td>58</td>\n",
       "      <td>0.2</td>\n",
       "      <td>100</td>\n",
       "      <td>8</td>\n",
       "      <td>0</td>\n",
       "      <td>259</td>\n",
       "      <td>1040</td>\n",
       "      <td>...</td>\n",
       "      <td>0</td>\n",
       "      <td>0</td>\n",
       "      <td>0</td>\n",
       "      <td>0</td>\n",
       "      <td>0</td>\n",
       "      <td>0</td>\n",
       "      <td>0</td>\n",
       "      <td>0</td>\n",
       "      <td>0</td>\n",
       "      <td>0</td>\n",
       "    </tr>\n",
       "    <tr>\n",
       "      <th>2</th>\n",
       "      <td>843</td>\n",
       "      <td>1.3</td>\n",
       "      <td>1.0</td>\n",
       "      <td>16</td>\n",
       "      <td>0.9</td>\n",
       "      <td>119</td>\n",
       "      <td>7</td>\n",
       "      <td>4</td>\n",
       "      <td>593</td>\n",
       "      <td>732</td>\n",
       "      <td>...</td>\n",
       "      <td>0</td>\n",
       "      <td>0</td>\n",
       "      <td>0</td>\n",
       "      <td>0</td>\n",
       "      <td>1</td>\n",
       "      <td>0</td>\n",
       "      <td>1</td>\n",
       "      <td>1</td>\n",
       "      <td>1</td>\n",
       "      <td>0</td>\n",
       "    </tr>\n",
       "    <tr>\n",
       "      <th>3</th>\n",
       "      <td>894</td>\n",
       "      <td>0.5</td>\n",
       "      <td>1.0</td>\n",
       "      <td>50</td>\n",
       "      <td>0.5</td>\n",
       "      <td>199</td>\n",
       "      <td>3</td>\n",
       "      <td>14</td>\n",
       "      <td>1285</td>\n",
       "      <td>1462</td>\n",
       "      <td>...</td>\n",
       "      <td>0</td>\n",
       "      <td>0</td>\n",
       "      <td>1</td>\n",
       "      <td>0</td>\n",
       "      <td>1</td>\n",
       "      <td>0</td>\n",
       "      <td>0</td>\n",
       "      <td>0</td>\n",
       "      <td>1</td>\n",
       "      <td>0</td>\n",
       "    </tr>\n",
       "    <tr>\n",
       "      <th>4</th>\n",
       "      <td>936</td>\n",
       "      <td>1.0</td>\n",
       "      <td>1.0</td>\n",
       "      <td>18</td>\n",
       "      <td>0.2</td>\n",
       "      <td>153</td>\n",
       "      <td>3</td>\n",
       "      <td>18</td>\n",
       "      <td>1330</td>\n",
       "      <td>1686</td>\n",
       "      <td>...</td>\n",
       "      <td>0</td>\n",
       "      <td>0</td>\n",
       "      <td>0</td>\n",
       "      <td>0</td>\n",
       "      <td>1</td>\n",
       "      <td>1</td>\n",
       "      <td>1</td>\n",
       "      <td>0</td>\n",
       "      <td>0</td>\n",
       "      <td>0</td>\n",
       "    </tr>\n",
       "  </tbody>\n",
       "</table>\n",
       "<p>5 rows × 31 columns</p>\n",
       "</div>"
      ],
      "text/plain": [
       "   BataryaGucu  MikroislemciHizi  OnKameraMP  DahiliBellek  Kalinlik  Agirlik  \\\n",
       "0         1325               1.9         2.0            50       0.1      146   \n",
       "1         1046               2.8         0.0            58       0.2      100   \n",
       "2          843               1.3         1.0            16       0.9      119   \n",
       "3          894               0.5         1.0            50       0.5      199   \n",
       "4          936               1.0         1.0            18       0.2      153   \n",
       "\n",
       "   CekirdekSayisi  ArkaKameraMP  CozunurlukYükseklik  CozunurlukGenislik  ...  \\\n",
       "0               1            10                  499                 695  ...   \n",
       "1               8             0                  259                1040  ...   \n",
       "2               7             4                  593                 732  ...   \n",
       "3               3            14                 1285                1462  ...   \n",
       "4               3            18                 1330                1686  ...   \n",
       "\n",
       "   Enc__Siyah  Enc__Turkuaz Enc__Turuncu  Enc__Yeşil  Bluetooth_Enc  \\\n",
       "0           0             0            0           0              1   \n",
       "1           0             0            0           0              0   \n",
       "2           0             0            0           0              1   \n",
       "3           0             0            1           0              1   \n",
       "4           0             0            0           0              1   \n",
       "\n",
       "   CiftHat_Enc  4G_Enc  3G_Enc  Dokunmatik_Enc  WiFi_Enc  \n",
       "0            1       1       0               1         1  \n",
       "1            0       0       0               0         0  \n",
       "2            0       1       1               1         0  \n",
       "3            0       0       0               1         0  \n",
       "4            1       1       0               0         0  \n",
       "\n",
       "[5 rows x 31 columns]"
      ]
     },
     "execution_count": 36,
     "metadata": {},
     "output_type": "execute_result"
    }
   ],
   "source": [
    "df[\"Bluetooth_Enc\"] = label_encoder.fit_transform(df[\"Bluetooth\"])\n",
    "df[\"CiftHat_Enc\"] = label_encoder.fit_transform(df[\"CiftHat\"])\n",
    "df[\"4G_Enc\"] = label_encoder.fit_transform(df[\"4G\"])\n",
    "df[\"3G_Enc\"] = label_encoder.fit_transform(df[\"3G\"])\n",
    "df[\"Dokunmatik_Enc\"] = label_encoder.fit_transform(df[\"Dokunmatik\"])\n",
    "df[\"WiFi_Enc\"] = label_encoder.fit_transform(df[\"WiFi\"])\n",
    "\n",
    "df = df.drop([\"Bluetooth\",\"CiftHat\",\"4G\",\"3G\",\"Dokunmatik\",\"WiFi\"],axis=1)\n",
    "df.head()"
   ]
  },
  {
   "cell_type": "code",
   "execution_count": 37,
   "id": "b0b3f472",
   "metadata": {},
   "outputs": [
    {
     "name": "stdout",
     "output_type": "stream",
     "text": [
      "<class 'pandas.core.frame.DataFrame'>\n",
      "RangeIndex: 2000 entries, 0 to 1999\n",
      "Data columns (total 31 columns):\n",
      " #   Column               Non-Null Count  Dtype  \n",
      "---  ------               --------------  -----  \n",
      " 0   BataryaGucu          2000 non-null   int64  \n",
      " 1   MikroislemciHizi     2000 non-null   float64\n",
      " 2   OnKameraMP           1995 non-null   float64\n",
      " 3   DahiliBellek         2000 non-null   int64  \n",
      " 4   Kalinlik             2000 non-null   float64\n",
      " 5   Agirlik              2000 non-null   int64  \n",
      " 6   CekirdekSayisi       2000 non-null   int64  \n",
      " 7   ArkaKameraMP         2000 non-null   int64  \n",
      " 8   CozunurlukYükseklik  2000 non-null   int64  \n",
      " 9   CozunurlukGenislik   2000 non-null   int64  \n",
      " 10  RAM                  1988 non-null   float64\n",
      " 11  BataryaOmru          2000 non-null   int64  \n",
      " 12  FiyatAraligi         2000 non-null   object \n",
      " 13  Enc__Beyaz           2000 non-null   uint8  \n",
      " 14  Enc__Gri             2000 non-null   uint8  \n",
      " 15  Enc__Kahverengi      2000 non-null   uint8  \n",
      " 16  Enc__Kırmızı         2000 non-null   uint8  \n",
      " 17  Enc__Mavi            2000 non-null   uint8  \n",
      " 18  Enc__Mor             2000 non-null   uint8  \n",
      " 19  Enc__Pembe           2000 non-null   uint8  \n",
      " 20  Enc__Sarı            2000 non-null   uint8  \n",
      " 21  Enc__Siyah           2000 non-null   uint8  \n",
      " 22  Enc__Turkuaz         2000 non-null   uint8  \n",
      " 23  Enc__Turuncu         2000 non-null   uint8  \n",
      " 24  Enc__Yeşil           2000 non-null   uint8  \n",
      " 25  Bluetooth_Enc        2000 non-null   int32  \n",
      " 26  CiftHat_Enc          2000 non-null   int32  \n",
      " 27  4G_Enc               2000 non-null   int32  \n",
      " 28  3G_Enc               2000 non-null   int32  \n",
      " 29  Dokunmatik_Enc       2000 non-null   int32  \n",
      " 30  WiFi_Enc             2000 non-null   int32  \n",
      "dtypes: float64(4), int32(6), int64(8), object(1), uint8(12)\n",
      "memory usage: 273.6+ KB\n"
     ]
    }
   ],
   "source": [
    "df.info()"
   ]
  },
  {
   "cell_type": "code",
   "execution_count": 38,
   "id": "b3cc62f8",
   "metadata": {},
   "outputs": [
    {
     "data": {
      "text/plain": [
       "BataryaGucu             0\n",
       "MikroislemciHizi        0\n",
       "OnKameraMP              5\n",
       "DahiliBellek            0\n",
       "Kalinlik                0\n",
       "Agirlik                 0\n",
       "CekirdekSayisi          0\n",
       "ArkaKameraMP            0\n",
       "CozunurlukYükseklik     0\n",
       "CozunurlukGenislik      0\n",
       "RAM                    12\n",
       "BataryaOmru             0\n",
       "FiyatAraligi            0\n",
       "Enc__Beyaz              0\n",
       "Enc__Gri                0\n",
       "Enc__Kahverengi         0\n",
       "Enc__Kırmızı            0\n",
       "Enc__Mavi               0\n",
       "Enc__Mor                0\n",
       "Enc__Pembe              0\n",
       "Enc__Sarı               0\n",
       "Enc__Siyah              0\n",
       "Enc__Turkuaz            0\n",
       "Enc__Turuncu            0\n",
       "Enc__Yeşil              0\n",
       "Bluetooth_Enc           0\n",
       "CiftHat_Enc             0\n",
       "4G_Enc                  0\n",
       "3G_Enc                  0\n",
       "Dokunmatik_Enc          0\n",
       "WiFi_Enc                0\n",
       "dtype: int64"
      ]
     },
     "execution_count": 38,
     "metadata": {},
     "output_type": "execute_result"
    }
   ],
   "source": [
    "df.isna().sum()"
   ]
  },
  {
   "cell_type": "code",
   "execution_count": 39,
   "id": "4e88b68d",
   "metadata": {},
   "outputs": [],
   "source": [
    "df[\"OnKameraMP\"] = df[\"OnKameraMP\"].fillna(df[\"OnKameraMP\"].mean())\n",
    "df[\"RAM\"] = df[\"RAM\"].fillna(df[\"RAM\"].mean())"
   ]
  },
  {
   "cell_type": "code",
   "execution_count": 40,
   "id": "a97de75f",
   "metadata": {},
   "outputs": [
    {
     "data": {
      "text/plain": [
       "BataryaGucu            0\n",
       "MikroislemciHizi       0\n",
       "OnKameraMP             0\n",
       "DahiliBellek           0\n",
       "Kalinlik               0\n",
       "Agirlik                0\n",
       "CekirdekSayisi         0\n",
       "ArkaKameraMP           0\n",
       "CozunurlukYükseklik    0\n",
       "CozunurlukGenislik     0\n",
       "RAM                    0\n",
       "BataryaOmru            0\n",
       "FiyatAraligi           0\n",
       "Enc__Beyaz             0\n",
       "Enc__Gri               0\n",
       "Enc__Kahverengi        0\n",
       "Enc__Kırmızı           0\n",
       "Enc__Mavi              0\n",
       "Enc__Mor               0\n",
       "Enc__Pembe             0\n",
       "Enc__Sarı              0\n",
       "Enc__Siyah             0\n",
       "Enc__Turkuaz           0\n",
       "Enc__Turuncu           0\n",
       "Enc__Yeşil             0\n",
       "Bluetooth_Enc          0\n",
       "CiftHat_Enc            0\n",
       "4G_Enc                 0\n",
       "3G_Enc                 0\n",
       "Dokunmatik_Enc         0\n",
       "WiFi_Enc               0\n",
       "dtype: int64"
      ]
     },
     "execution_count": 40,
     "metadata": {},
     "output_type": "execute_result"
    }
   ],
   "source": [
    "df.isna().sum()"
   ]
  },
  {
   "cell_type": "code",
   "execution_count": 41,
   "id": "e4708e73",
   "metadata": {},
   "outputs": [
    {
     "data": {
      "text/plain": [
       "(2000, 31)"
      ]
     },
     "execution_count": 41,
     "metadata": {},
     "output_type": "execute_result"
    }
   ],
   "source": [
    "df.shape"
   ]
  },
  {
   "cell_type": "code",
   "execution_count": 42,
   "id": "dd1efdd9",
   "metadata": {},
   "outputs": [],
   "source": [
    "# Bağımlı ve Bağımsız değişkenleri ayırıyorum.\n",
    "\n",
    "X = df.drop(\"FiyatAraligi\",axis = 1)\n",
    "y=df[\"FiyatAraligi\"]"
   ]
  },
  {
   "cell_type": "code",
   "execution_count": 43,
   "id": "e2490344",
   "metadata": {},
   "outputs": [
    {
     "data": {
      "text/plain": [
       "(2000, 30)"
      ]
     },
     "execution_count": 43,
     "metadata": {},
     "output_type": "execute_result"
    }
   ],
   "source": [
    "X.shape"
   ]
  },
  {
   "cell_type": "code",
   "execution_count": 44,
   "id": "20070cd3",
   "metadata": {},
   "outputs": [
    {
     "data": {
      "text/plain": [
       "0    Normal\n",
       "1    Pahalı\n",
       "2      Ucuz\n",
       "3    Pahalı\n",
       "4    Normal\n",
       "Name: FiyatAraligi, dtype: object"
      ]
     },
     "execution_count": 44,
     "metadata": {},
     "output_type": "execute_result"
    }
   ],
   "source": [
    "y.head()"
   ]
  },
  {
   "cell_type": "code",
   "execution_count": 45,
   "id": "1b9dc62d",
   "metadata": {},
   "outputs": [],
   "source": [
    "X_train, X_test, y_train, y_test = train_test_split(X, y, test_size= 0.15,random_state = 42)"
   ]
  },
  {
   "cell_type": "code",
   "execution_count": 46,
   "id": "e9ced25b",
   "metadata": {},
   "outputs": [
    {
     "data": {
      "text/plain": [
       "(1700, 30)"
      ]
     },
     "execution_count": 46,
     "metadata": {},
     "output_type": "execute_result"
    }
   ],
   "source": [
    "X_train.shape"
   ]
  },
  {
   "cell_type": "code",
   "execution_count": 47,
   "id": "94d9adbd",
   "metadata": {},
   "outputs": [
    {
     "data": {
      "text/plain": [
       "(1700,)"
      ]
     },
     "execution_count": 47,
     "metadata": {},
     "output_type": "execute_result"
    }
   ],
   "source": [
    "y_train.shape"
   ]
  },
  {
   "cell_type": "code",
   "execution_count": 48,
   "id": "803ef75a",
   "metadata": {},
   "outputs": [
    {
     "data": {
      "text/plain": [
       "(300, 30)"
      ]
     },
     "execution_count": 48,
     "metadata": {},
     "output_type": "execute_result"
    }
   ],
   "source": [
    "X_test.shape"
   ]
  },
  {
   "cell_type": "code",
   "execution_count": 49,
   "id": "6359385f",
   "metadata": {},
   "outputs": [
    {
     "data": {
      "text/plain": [
       "(300,)"
      ]
     },
     "execution_count": 49,
     "metadata": {},
     "output_type": "execute_result"
    }
   ],
   "source": [
    "y_test.shape"
   ]
  },
  {
   "cell_type": "code",
   "execution_count": 50,
   "id": "1e70a1b0",
   "metadata": {},
   "outputs": [],
   "source": [
    "nb = GaussianNB()\n",
    "nb_model = nb.fit(X_train,y_train)"
   ]
  },
  {
   "cell_type": "code",
   "execution_count": 52,
   "id": "356d8a9d",
   "metadata": {},
   "outputs": [],
   "source": [
    "y_pred = nb_model.predict(X_test)"
   ]
  },
  {
   "cell_type": "code",
   "execution_count": 53,
   "id": "984fdfaa",
   "metadata": {},
   "outputs": [
    {
     "data": {
      "text/html": [
       "<div>\n",
       "<style scoped>\n",
       "    .dataframe tbody tr th:only-of-type {\n",
       "        vertical-align: middle;\n",
       "    }\n",
       "\n",
       "    .dataframe tbody tr th {\n",
       "        vertical-align: top;\n",
       "    }\n",
       "\n",
       "    .dataframe thead th {\n",
       "        text-align: right;\n",
       "    }\n",
       "</style>\n",
       "<table border=\"1\" class=\"dataframe\">\n",
       "  <thead>\n",
       "    <tr style=\"text-align: right;\">\n",
       "      <th></th>\n",
       "      <th>Gerçek Fiyat Aralığı</th>\n",
       "      <th>Tahmin edilen Fiyat aralığı</th>\n",
       "    </tr>\n",
       "  </thead>\n",
       "  <tbody>\n",
       "    <tr>\n",
       "      <th>1860</th>\n",
       "      <td>Ucuz</td>\n",
       "      <td>Normal</td>\n",
       "    </tr>\n",
       "    <tr>\n",
       "      <th>353</th>\n",
       "      <td>Çok Ucuz</td>\n",
       "      <td>Çok Ucuz</td>\n",
       "    </tr>\n",
       "    <tr>\n",
       "      <th>1333</th>\n",
       "      <td>Normal</td>\n",
       "      <td>Pahalı</td>\n",
       "    </tr>\n",
       "    <tr>\n",
       "      <th>905</th>\n",
       "      <td>Ucuz</td>\n",
       "      <td>Ucuz</td>\n",
       "    </tr>\n",
       "    <tr>\n",
       "      <th>1289</th>\n",
       "      <td>Normal</td>\n",
       "      <td>Normal</td>\n",
       "    </tr>\n",
       "    <tr>\n",
       "      <th>...</th>\n",
       "      <td>...</td>\n",
       "      <td>...</td>\n",
       "    </tr>\n",
       "    <tr>\n",
       "      <th>316</th>\n",
       "      <td>Çok Ucuz</td>\n",
       "      <td>Çok Ucuz</td>\n",
       "    </tr>\n",
       "    <tr>\n",
       "      <th>45</th>\n",
       "      <td>Çok Ucuz</td>\n",
       "      <td>Çok Ucuz</td>\n",
       "    </tr>\n",
       "    <tr>\n",
       "      <th>1719</th>\n",
       "      <td>Çok Ucuz</td>\n",
       "      <td>Ucuz</td>\n",
       "    </tr>\n",
       "    <tr>\n",
       "      <th>1831</th>\n",
       "      <td>Pahalı</td>\n",
       "      <td>Pahalı</td>\n",
       "    </tr>\n",
       "    <tr>\n",
       "      <th>427</th>\n",
       "      <td>Ucuz</td>\n",
       "      <td>Ucuz</td>\n",
       "    </tr>\n",
       "  </tbody>\n",
       "</table>\n",
       "<p>300 rows × 2 columns</p>\n",
       "</div>"
      ],
      "text/plain": [
       "     Gerçek Fiyat Aralığı Tahmin edilen Fiyat aralığı\n",
       "1860                 Ucuz                      Normal\n",
       "353              Çok Ucuz                    Çok Ucuz\n",
       "1333               Normal                      Pahalı\n",
       "905                  Ucuz                        Ucuz\n",
       "1289               Normal                      Normal\n",
       "...                   ...                         ...\n",
       "316              Çok Ucuz                    Çok Ucuz\n",
       "45               Çok Ucuz                    Çok Ucuz\n",
       "1719             Çok Ucuz                        Ucuz\n",
       "1831               Pahalı                      Pahalı\n",
       "427                  Ucuz                        Ucuz\n",
       "\n",
       "[300 rows x 2 columns]"
      ]
     },
     "execution_count": 53,
     "metadata": {},
     "output_type": "execute_result"
    }
   ],
   "source": [
    "test_df = pd.DataFrame({\"Gerçek Fiyat Aralığı\": y_test, \"Tahmin edilen Fiyat aralığı\": y_pred})\n",
    "test_df"
   ]
  },
  {
   "cell_type": "code",
   "execution_count": 54,
   "id": "9c60f79a",
   "metadata": {},
   "outputs": [
    {
     "data": {
      "text/plain": [
       "0.7633333333333333"
      ]
     },
     "execution_count": 54,
     "metadata": {},
     "output_type": "execute_result"
    }
   ],
   "source": [
    "accuracy_score(y_test,y_pred)"
   ]
  },
  {
   "cell_type": "code",
   "execution_count": 55,
   "id": "74a6cc52",
   "metadata": {},
   "outputs": [
    {
     "name": "stdout",
     "output_type": "stream",
     "text": [
      "[[41 12 18  0]\n",
      " [15 55  1  0]\n",
      " [10  0 57  4]\n",
      " [ 0  0 11 76]]\n"
     ]
    }
   ],
   "source": [
    "karmasiklik_matrisi = confusion_matrix(y_test, y_pred)\n",
    "print(karmasiklik_matrisi)"
   ]
  },
  {
   "cell_type": "code",
   "execution_count": 56,
   "id": "0addef95",
   "metadata": {},
   "outputs": [
    {
     "data": {
      "text/plain": [
       "0.6200000000000001"
      ]
     },
     "execution_count": 56,
     "metadata": {},
     "output_type": "execute_result"
    }
   ],
   "source": [
    "cross_val_score(nb_model, X_test,y_test,cv =10).mean()"
   ]
  },
  {
   "cell_type": "code",
   "execution_count": 58,
   "id": "9647c2ae",
   "metadata": {},
   "outputs": [
    {
     "name": "stdout",
     "output_type": "stream",
     "text": [
      "              precision    recall  f1-score   support\n",
      "\n",
      "      Normal       0.62      0.58      0.60        71\n",
      "      Pahalı       0.82      0.77      0.80        71\n",
      "        Ucuz       0.66      0.80      0.72        71\n",
      "    Çok Ucuz       0.95      0.87      0.91        87\n",
      "\n",
      "    accuracy                           0.76       300\n",
      "   macro avg       0.76      0.76      0.76       300\n",
      "weighted avg       0.77      0.76      0.77       300\n",
      "\n"
     ]
    }
   ],
   "source": [
    "print(classification_report(y_test,y_pred))"
   ]
  },
  {
   "cell_type": "code",
   "execution_count": 59,
   "id": "7c8aa9ba",
   "metadata": {},
   "outputs": [],
   "source": [
    "cart_cv = DecisionTreeClassifier(criterion = \"entropy\")\n",
    "cart_cv_model = cart_cv.fit(X_train,y_train)"
   ]
  },
  {
   "cell_type": "code",
   "execution_count": 60,
   "id": "80358f31",
   "metadata": {},
   "outputs": [],
   "source": [
    "y_pred = cart_cv_model.predict(X_test)"
   ]
  },
  {
   "cell_type": "code",
   "execution_count": 61,
   "id": "622361d4",
   "metadata": {},
   "outputs": [
    {
     "data": {
      "text/html": [
       "<div>\n",
       "<style scoped>\n",
       "    .dataframe tbody tr th:only-of-type {\n",
       "        vertical-align: middle;\n",
       "    }\n",
       "\n",
       "    .dataframe tbody tr th {\n",
       "        vertical-align: top;\n",
       "    }\n",
       "\n",
       "    .dataframe thead th {\n",
       "        text-align: right;\n",
       "    }\n",
       "</style>\n",
       "<table border=\"1\" class=\"dataframe\">\n",
       "  <thead>\n",
       "    <tr style=\"text-align: right;\">\n",
       "      <th></th>\n",
       "      <th>Gerçek Fiyat Aralığı</th>\n",
       "      <th>Tahmin edilen Fiyat aralığı</th>\n",
       "    </tr>\n",
       "  </thead>\n",
       "  <tbody>\n",
       "    <tr>\n",
       "      <th>1860</th>\n",
       "      <td>Ucuz</td>\n",
       "      <td>Normal</td>\n",
       "    </tr>\n",
       "    <tr>\n",
       "      <th>353</th>\n",
       "      <td>Çok Ucuz</td>\n",
       "      <td>Çok Ucuz</td>\n",
       "    </tr>\n",
       "    <tr>\n",
       "      <th>1333</th>\n",
       "      <td>Normal</td>\n",
       "      <td>Pahalı</td>\n",
       "    </tr>\n",
       "    <tr>\n",
       "      <th>905</th>\n",
       "      <td>Ucuz</td>\n",
       "      <td>Ucuz</td>\n",
       "    </tr>\n",
       "    <tr>\n",
       "      <th>1289</th>\n",
       "      <td>Normal</td>\n",
       "      <td>Normal</td>\n",
       "    </tr>\n",
       "    <tr>\n",
       "      <th>...</th>\n",
       "      <td>...</td>\n",
       "      <td>...</td>\n",
       "    </tr>\n",
       "    <tr>\n",
       "      <th>316</th>\n",
       "      <td>Çok Ucuz</td>\n",
       "      <td>Çok Ucuz</td>\n",
       "    </tr>\n",
       "    <tr>\n",
       "      <th>45</th>\n",
       "      <td>Çok Ucuz</td>\n",
       "      <td>Çok Ucuz</td>\n",
       "    </tr>\n",
       "    <tr>\n",
       "      <th>1719</th>\n",
       "      <td>Çok Ucuz</td>\n",
       "      <td>Çok Ucuz</td>\n",
       "    </tr>\n",
       "    <tr>\n",
       "      <th>1831</th>\n",
       "      <td>Pahalı</td>\n",
       "      <td>Pahalı</td>\n",
       "    </tr>\n",
       "    <tr>\n",
       "      <th>427</th>\n",
       "      <td>Ucuz</td>\n",
       "      <td>Ucuz</td>\n",
       "    </tr>\n",
       "  </tbody>\n",
       "</table>\n",
       "<p>300 rows × 2 columns</p>\n",
       "</div>"
      ],
      "text/plain": [
       "     Gerçek Fiyat Aralığı Tahmin edilen Fiyat aralığı\n",
       "1860                 Ucuz                      Normal\n",
       "353              Çok Ucuz                    Çok Ucuz\n",
       "1333               Normal                      Pahalı\n",
       "905                  Ucuz                        Ucuz\n",
       "1289               Normal                      Normal\n",
       "...                   ...                         ...\n",
       "316              Çok Ucuz                    Çok Ucuz\n",
       "45               Çok Ucuz                    Çok Ucuz\n",
       "1719             Çok Ucuz                    Çok Ucuz\n",
       "1831               Pahalı                      Pahalı\n",
       "427                  Ucuz                        Ucuz\n",
       "\n",
       "[300 rows x 2 columns]"
      ]
     },
     "execution_count": 61,
     "metadata": {},
     "output_type": "execute_result"
    }
   ],
   "source": [
    "test_df = pd.DataFrame({\"Gerçek Fiyat Aralığı\": y_test, \"Tahmin edilen Fiyat aralığı\": y_pred})\n",
    "test_df"
   ]
  },
  {
   "cell_type": "markdown",
   "id": "16a0cdc4",
   "metadata": {},
   "source": [
    "**Karar ağacını graphviz ile görselleştiricem**"
   ]
  },
  {
   "cell_type": "code",
   "execution_count": 66,
   "id": "5f272f0c",
   "metadata": {},
   "outputs": [],
   "source": [
    "#from sklearn.tree import export_graphviz\n",
    "#from sklearn import tree\n",
    "#from IPython.display import SVG\n",
    "#from graphviz import Source\n",
    "#from IPython.display import display\n",
    "\n",
    "#graph = Source(tree.export_graphviz(cart_cv, out_file = None, feature_names = X.columns, filled =True))\n",
    "#display(SVG(graph.pipe(format = \"svg\")))"
   ]
  },
  {
   "cell_type": "code",
   "execution_count": 67,
   "id": "24079d2e",
   "metadata": {},
   "outputs": [
    {
     "data": {
      "text/plain": [
       "0.8733333333333333"
      ]
     },
     "execution_count": 67,
     "metadata": {},
     "output_type": "execute_result"
    }
   ],
   "source": [
    "accuracy_score(y_test,y_pred)"
   ]
  },
  {
   "cell_type": "code",
   "execution_count": 68,
   "id": "4d2e20a6",
   "metadata": {},
   "outputs": [
    {
     "name": "stdout",
     "output_type": "stream",
     "text": [
      "[[55  9  7  0]\n",
      " [ 8 63  0  0]\n",
      " [ 5  0 63  3]\n",
      " [ 0  0  6 81]]\n"
     ]
    }
   ],
   "source": [
    "cm = confusion_matrix(y_test,y_pred)\n",
    "print(cm)"
   ]
  },
  {
   "cell_type": "markdown",
   "id": "6142761e",
   "metadata": {},
   "source": [
    "* Hedef özniteliğin değerlerine göre sınıflandırma raporuna bakıcam"
   ]
  },
  {
   "cell_type": "code",
   "execution_count": 69,
   "id": "cb4d91be",
   "metadata": {},
   "outputs": [
    {
     "name": "stdout",
     "output_type": "stream",
     "text": [
      "              precision    recall  f1-score   support\n",
      "\n",
      "      Normal       0.81      0.77      0.79        71\n",
      "      Pahalı       0.88      0.89      0.88        71\n",
      "        Ucuz       0.83      0.89      0.86        71\n",
      "    Çok Ucuz       0.96      0.93      0.95        87\n",
      "\n",
      "    accuracy                           0.87       300\n",
      "   macro avg       0.87      0.87      0.87       300\n",
      "weighted avg       0.87      0.87      0.87       300\n",
      "\n"
     ]
    }
   ],
   "source": [
    "print(classification_report(y_test,y_pred))"
   ]
  },
  {
   "cell_type": "markdown",
   "id": "d43acbd8",
   "metadata": {},
   "source": [
    "* Model karar ağacını oluştururken root node için \"RAM\" e dayanarak karar verdiğini görüyoruz. Özniteliklerin karar ağacına göre önem sıralamasına bakıcam"
   ]
  },
  {
   "cell_type": "code",
   "execution_count": 72,
   "id": "c510c817",
   "metadata": {},
   "outputs": [
    {
     "data": {
      "image/png": "[encoded data removed]",
      "text/plain": [
       "<Figure size 1152x648 with 1 Axes>"
      ]
     },
     "metadata": {
      "needs_background": "light"
     },
     "output_type": "display_data"
    }
   ],
   "source": [
    "ranking = cart_cv.feature_importances_\n",
    "features = np.argsort(ranking)[::-1][:10]\n",
    "columns = X.columns\n",
    "\n",
    "plt.figure(figsize= (16,9))\n",
    "plt.title(\"Karar Ağacına Göre Özniteliklerin Önem Derecesi\", y = 1.03, size = 18)\n",
    "plt.bar(range(len(features)),ranking[features], color = \"lime\",align =\"center\")\n",
    "plt.xticks(range(len(features)),columns[features],rotation= 80)\n",
    "plt.show()"
   ]
  },
  {
   "cell_type": "markdown",
   "id": "39331308",
   "metadata": {},
   "source": [
    "## KNN Modeli"
   ]
  },
  {
   "cell_type": "code",
   "execution_count": 73,
   "id": "308b2ea2",
   "metadata": {},
   "outputs": [],
   "source": [
    "knn_params = {\"n_neighbors\": np.arange(2,50)}"
   ]
  },
  {
   "cell_type": "markdown",
   "id": "d7e4db82",
   "metadata": {},
   "source": [
    "* En yakın komşu sayısını 2 ile 50 arasında hepsini deneyecek"
   ]
  },
  {
   "cell_type": "code",
   "execution_count": 75,
   "id": "6763c6d2",
   "metadata": {},
   "outputs": [
    {
     "data": {
      "text/plain": [
       "GridSearchCV(cv=3, estimator=KNeighborsClassifier(),\n",
       "             param_grid={'n_neighbors': array([ 2,  3,  4,  5,  6,  7,  8,  9, 10, 11, 12, 13, 14, 15, 16, 17, 18,\n",
       "       19, 20, 21, 22, 23, 24, 25, 26, 27, 28, 29, 30, 31, 32, 33, 34, 35,\n",
       "       36, 37, 38, 39, 40, 41, 42, 43, 44, 45, 46, 47, 48, 49])})"
      ]
     },
     "execution_count": 75,
     "metadata": {},
     "output_type": "execute_result"
    }
   ],
   "source": [
    "knn = KNeighborsClassifier()\n",
    "knn_cv = GridSearchCV(knn, knn_params,cv =3)\n",
    "knn_cv.fit(X_train,y_train)"
   ]
  },
  {
   "cell_type": "code",
   "execution_count": 76,
   "id": "83668b6e",
   "metadata": {},
   "outputs": [
    {
     "name": "stdout",
     "output_type": "stream",
     "text": [
      "En iyi skor: 0.9247044453169305\n",
      "En iyi parametreler: {'n_neighbors': 13}\n"
     ]
    }
   ],
   "source": [
    "# en iyi skor ve en iyi parametreler\n",
    "\n",
    "print(\"En iyi skor: \" + str(knn_cv.best_score_))\n",
    "print(\"En iyi parametreler: \" + str(knn_cv.best_params_))"
   ]
  },
  {
   "cell_type": "code",
   "execution_count": 77,
   "id": "2037385b",
   "metadata": {},
   "outputs": [],
   "source": [
    "#modeli en iyi parametre ile eğitelim\n",
    "knn = KNeighborsClassifier(13)\n",
    "knn_tuned = knn.fit(X_train,y_train)"
   ]
  },
  {
   "cell_type": "code",
   "execution_count": 78,
   "id": "df78da44",
   "metadata": {},
   "outputs": [],
   "source": [
    "y_pred = knn_tuned.predict(X_test)"
   ]
  },
  {
   "cell_type": "code",
   "execution_count": 79,
   "id": "7a28f87a",
   "metadata": {},
   "outputs": [
    {
     "data": {
      "text/plain": [
       "0.92"
      ]
     },
     "execution_count": 79,
     "metadata": {},
     "output_type": "execute_result"
    }
   ],
   "source": [
    "# Doğruluk skoru\n",
    "accuracy_score(y_test,y_pred)"
   ]
  },
  {
   "cell_type": "code",
   "execution_count": 80,
   "id": "bc16e0da",
   "metadata": {},
   "outputs": [
    {
     "data": {
      "image/png": "[encoded data removed]",
      "text/plain": [
       "<Figure size 432x288 with 1 Axes>"
      ]
     },
     "metadata": {
      "needs_background": "light"
     },
     "output_type": "display_data"
    }
   ],
   "source": [
    "#modelin k değerini nasıl sectiğini görüntüleyeceğim\n",
    "score_list = []\n",
    "\n",
    "for i in range(2,50):\n",
    "    knn = KNeighborsClassifier(n_neighbors=i)\n",
    "    knn.fit(X_train,y_train)\n",
    "    score_list.append(knn.score(X_test,y_test))\n",
    "    \n",
    "plt.plot(range(2,50),score_list)\n",
    "plt.xlabel(\"k değerleri\")\n",
    "plt.ylabel(\"doğruluk skoru\")\n",
    "plt.show()"
   ]
  },
  {
   "cell_type": "code",
   "execution_count": 81,
   "id": "11f69c44",
   "metadata": {},
   "outputs": [
    {
     "data": {
      "text/plain": [
       "array([0.86666667, 0.86666667, 0.93333333, 0.83333333, 0.93333333,\n",
       "       0.83333333, 0.86666667, 0.96666667, 0.83333333, 0.93333333])"
      ]
     },
     "execution_count": 81,
     "metadata": {},
     "output_type": "execute_result"
    }
   ],
   "source": [
    "cross_val_score(knn_tuned,X_test,y_test,cv= 10)"
   ]
  },
  {
   "cell_type": "code",
   "execution_count": 82,
   "id": "89b8989f",
   "metadata": {},
   "outputs": [
    {
     "data": {
      "text/plain": [
       "0.8866666666666665"
      ]
     },
     "execution_count": 82,
     "metadata": {},
     "output_type": "execute_result"
    }
   ],
   "source": [
    "cross_val_score(knn_tuned,X_test,y_test,cv= 10).mean()"
   ]
  },
  {
   "cell_type": "code",
   "execution_count": 83,
   "id": "2bd47864",
   "metadata": {},
   "outputs": [
    {
     "data": {
      "text/plain": [
       "array([[63,  4,  4,  0],\n",
       "       [ 3, 68,  0,  0],\n",
       "       [ 5,  0, 62,  4],\n",
       "       [ 0,  0,  4, 83]], dtype=int64)"
      ]
     },
     "execution_count": 83,
     "metadata": {},
     "output_type": "execute_result"
    }
   ],
   "source": [
    "cm = confusion_matrix(y_test,y_pred)\n",
    "cm"
   ]
  },
  {
   "cell_type": "markdown",
   "id": "28ce8b75",
   "metadata": {},
   "source": [
    "**En iyi sonuç veren algoritma KNN algoritması oldu**"
   ]
  },
  {
   "cell_type": "code",
   "execution_count": null,
   "id": "76edd29e",
   "metadata": {},
   "outputs": [],
   "source": []
  }
 ],
 "metadata": {
  "kernelspec": {
   "display_name": "Python 3 (ipykernel)",
   "language": "python",
   "name": "python3"
  },
  "language_info": {
   "codemirror_mode": {
    "name": "ipython",
    "version": 3
   },
   "file_extension": ".py",
   "mimetype": "text/x-python",
   "name": "python",
   "nbconvert_exporter": "python",
   "pygments_lexer": "ipython3",
   "version": "3.9.7"
  }
 },
 "nbformat": 4,
 "nbformat_minor": 5
}
