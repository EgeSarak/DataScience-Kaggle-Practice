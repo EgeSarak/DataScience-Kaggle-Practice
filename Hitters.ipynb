{
 "cells": [
  {
   "cell_type": "code",
   "execution_count": 50,
   "id": "a7a01a03",
   "metadata": {},
   "outputs": [],
   "source": [
    "import numpy as np \n",
    "import pandas as pd\n",
    "from sklearn.model_selection import train_test_split,GridSearchCV,RandomizedSearchCV\n",
    "from sklearn.metrics import mean_squared_error,r2_score\n",
    "import matplotlib.pyplot as plt\n",
    "import seaborn as sns\n",
    "from sklearn.preprocessing import scale\n",
    "from sklearn.preprocessing import StandardScaler\n",
    "from sklearn import model_selection\n",
    "from sklearn.linear_model import Ridge,Lasso,RidgeCV,LassoCV,ElasticNet,ElasticNetCV\n",
    "from sklearn.tree import DecisionTreeRegressor\n",
    "from sklearn.neighbors import KNeighborsRegressor\n",
    "from sklearn.neural_network import MLPRegressor\n",
    "from sklearn.ensemble import RandomForestRegressor\n",
    "from sklearn.ensemble import GradientBoostingRegressor\n",
    "from sklearn import neighbors\n",
    "from sklearn.svm import SVR\n",
    "import warnings\n",
    "warnings.filterwarnings(\"ignore\")"
   ]
  },
  {
   "cell_type": "code",
   "execution_count": 14,
   "id": "5269094d",
   "metadata": {},
   "outputs": [
    {
     "data": {
      "text/html": [
       "<div>\n",
       "<style scoped>\n",
       "    .dataframe tbody tr th:only-of-type {\n",
       "        vertical-align: middle;\n",
       "    }\n",
       "\n",
       "    .dataframe tbody tr th {\n",
       "        vertical-align: top;\n",
       "    }\n",
       "\n",
       "    .dataframe thead th {\n",
       "        text-align: right;\n",
       "    }\n",
       "</style>\n",
       "<table border=\"1\" class=\"dataframe\">\n",
       "  <thead>\n",
       "    <tr style=\"text-align: right;\">\n",
       "      <th></th>\n",
       "      <th>AtBat</th>\n",
       "      <th>Hits</th>\n",
       "      <th>HmRun</th>\n",
       "      <th>Runs</th>\n",
       "      <th>RBI</th>\n",
       "      <th>Walks</th>\n",
       "      <th>Years</th>\n",
       "      <th>CAtBat</th>\n",
       "      <th>CHits</th>\n",
       "      <th>CHmRun</th>\n",
       "      <th>CRuns</th>\n",
       "      <th>CRBI</th>\n",
       "      <th>CWalks</th>\n",
       "      <th>League</th>\n",
       "      <th>Division</th>\n",
       "      <th>PutOuts</th>\n",
       "      <th>Assists</th>\n",
       "      <th>Errors</th>\n",
       "      <th>Salary</th>\n",
       "      <th>NewLeague</th>\n",
       "    </tr>\n",
       "  </thead>\n",
       "  <tbody>\n",
       "    <tr>\n",
       "      <th>0</th>\n",
       "      <td>293</td>\n",
       "      <td>66</td>\n",
       "      <td>1</td>\n",
       "      <td>30</td>\n",
       "      <td>29</td>\n",
       "      <td>14</td>\n",
       "      <td>1</td>\n",
       "      <td>293</td>\n",
       "      <td>66</td>\n",
       "      <td>1</td>\n",
       "      <td>30</td>\n",
       "      <td>29</td>\n",
       "      <td>14</td>\n",
       "      <td>A</td>\n",
       "      <td>E</td>\n",
       "      <td>446</td>\n",
       "      <td>33</td>\n",
       "      <td>20</td>\n",
       "      <td>NaN</td>\n",
       "      <td>A</td>\n",
       "    </tr>\n",
       "    <tr>\n",
       "      <th>1</th>\n",
       "      <td>315</td>\n",
       "      <td>81</td>\n",
       "      <td>7</td>\n",
       "      <td>24</td>\n",
       "      <td>38</td>\n",
       "      <td>39</td>\n",
       "      <td>14</td>\n",
       "      <td>3449</td>\n",
       "      <td>835</td>\n",
       "      <td>69</td>\n",
       "      <td>321</td>\n",
       "      <td>414</td>\n",
       "      <td>375</td>\n",
       "      <td>N</td>\n",
       "      <td>W</td>\n",
       "      <td>632</td>\n",
       "      <td>43</td>\n",
       "      <td>10</td>\n",
       "      <td>475.0</td>\n",
       "      <td>N</td>\n",
       "    </tr>\n",
       "    <tr>\n",
       "      <th>2</th>\n",
       "      <td>479</td>\n",
       "      <td>130</td>\n",
       "      <td>18</td>\n",
       "      <td>66</td>\n",
       "      <td>72</td>\n",
       "      <td>76</td>\n",
       "      <td>3</td>\n",
       "      <td>1624</td>\n",
       "      <td>457</td>\n",
       "      <td>63</td>\n",
       "      <td>224</td>\n",
       "      <td>266</td>\n",
       "      <td>263</td>\n",
       "      <td>A</td>\n",
       "      <td>W</td>\n",
       "      <td>880</td>\n",
       "      <td>82</td>\n",
       "      <td>14</td>\n",
       "      <td>480.0</td>\n",
       "      <td>A</td>\n",
       "    </tr>\n",
       "    <tr>\n",
       "      <th>3</th>\n",
       "      <td>496</td>\n",
       "      <td>141</td>\n",
       "      <td>20</td>\n",
       "      <td>65</td>\n",
       "      <td>78</td>\n",
       "      <td>37</td>\n",
       "      <td>11</td>\n",
       "      <td>5628</td>\n",
       "      <td>1575</td>\n",
       "      <td>225</td>\n",
       "      <td>828</td>\n",
       "      <td>838</td>\n",
       "      <td>354</td>\n",
       "      <td>N</td>\n",
       "      <td>E</td>\n",
       "      <td>200</td>\n",
       "      <td>11</td>\n",
       "      <td>3</td>\n",
       "      <td>500.0</td>\n",
       "      <td>N</td>\n",
       "    </tr>\n",
       "    <tr>\n",
       "      <th>4</th>\n",
       "      <td>321</td>\n",
       "      <td>87</td>\n",
       "      <td>10</td>\n",
       "      <td>39</td>\n",
       "      <td>42</td>\n",
       "      <td>30</td>\n",
       "      <td>2</td>\n",
       "      <td>396</td>\n",
       "      <td>101</td>\n",
       "      <td>12</td>\n",
       "      <td>48</td>\n",
       "      <td>46</td>\n",
       "      <td>33</td>\n",
       "      <td>N</td>\n",
       "      <td>E</td>\n",
       "      <td>805</td>\n",
       "      <td>40</td>\n",
       "      <td>4</td>\n",
       "      <td>91.5</td>\n",
       "      <td>N</td>\n",
       "    </tr>\n",
       "  </tbody>\n",
       "</table>\n",
       "</div>"
      ],
      "text/plain": [
       "   AtBat  Hits  HmRun  Runs  RBI  Walks  Years  CAtBat  CHits  CHmRun  CRuns  \\\n",
       "0    293    66      1    30   29     14      1     293     66       1     30   \n",
       "1    315    81      7    24   38     39     14    3449    835      69    321   \n",
       "2    479   130     18    66   72     76      3    1624    457      63    224   \n",
       "3    496   141     20    65   78     37     11    5628   1575     225    828   \n",
       "4    321    87     10    39   42     30      2     396    101      12     48   \n",
       "\n",
       "   CRBI  CWalks League Division  PutOuts  Assists  Errors  Salary NewLeague  \n",
       "0    29      14      A        E      446       33      20     NaN         A  \n",
       "1   414     375      N        W      632       43      10   475.0         N  \n",
       "2   266     263      A        W      880       82      14   480.0         A  \n",
       "3   838     354      N        E      200       11       3   500.0         N  \n",
       "4    46      33      N        E      805       40       4    91.5         N  "
      ]
     },
     "execution_count": 14,
     "metadata": {},
     "output_type": "execute_result"
    }
   ],
   "source": [
    "df = pd.read_csv(\"Hitters.csv\")\n",
    "df.head()"
   ]
  },
  {
   "cell_type": "code",
   "execution_count": 15,
   "id": "56510407",
   "metadata": {},
   "outputs": [
    {
     "name": "stdout",
     "output_type": "stream",
     "text": [
      "<class 'pandas.core.frame.DataFrame'>\n",
      "RangeIndex: 322 entries, 0 to 321\n",
      "Data columns (total 20 columns):\n",
      " #   Column     Non-Null Count  Dtype  \n",
      "---  ------     --------------  -----  \n",
      " 0   AtBat      322 non-null    int64  \n",
      " 1   Hits       322 non-null    int64  \n",
      " 2   HmRun      322 non-null    int64  \n",
      " 3   Runs       322 non-null    int64  \n",
      " 4   RBI        322 non-null    int64  \n",
      " 5   Walks      322 non-null    int64  \n",
      " 6   Years      322 non-null    int64  \n",
      " 7   CAtBat     322 non-null    int64  \n",
      " 8   CHits      322 non-null    int64  \n",
      " 9   CHmRun     322 non-null    int64  \n",
      " 10  CRuns      322 non-null    int64  \n",
      " 11  CRBI       322 non-null    int64  \n",
      " 12  CWalks     322 non-null    int64  \n",
      " 13  League     322 non-null    object \n",
      " 14  Division   322 non-null    object \n",
      " 15  PutOuts    322 non-null    int64  \n",
      " 16  Assists    322 non-null    int64  \n",
      " 17  Errors     322 non-null    int64  \n",
      " 18  Salary     263 non-null    float64\n",
      " 19  NewLeague  322 non-null    object \n",
      "dtypes: float64(1), int64(16), object(3)\n",
      "memory usage: 50.4+ KB\n"
     ]
    }
   ],
   "source": [
    "df.info()"
   ]
  },
  {
   "cell_type": "code",
   "execution_count": 16,
   "id": "ee5e83fa",
   "metadata": {},
   "outputs": [
    {
     "data": {
      "text/html": [
       "<div>\n",
       "<style scoped>\n",
       "    .dataframe tbody tr th:only-of-type {\n",
       "        vertical-align: middle;\n",
       "    }\n",
       "\n",
       "    .dataframe tbody tr th {\n",
       "        vertical-align: top;\n",
       "    }\n",
       "\n",
       "    .dataframe thead th {\n",
       "        text-align: right;\n",
       "    }\n",
       "</style>\n",
       "<table border=\"1\" class=\"dataframe\">\n",
       "  <thead>\n",
       "    <tr style=\"text-align: right;\">\n",
       "      <th></th>\n",
       "      <th>AtBat</th>\n",
       "      <th>Hits</th>\n",
       "      <th>HmRun</th>\n",
       "      <th>Runs</th>\n",
       "      <th>RBI</th>\n",
       "      <th>Walks</th>\n",
       "      <th>Years</th>\n",
       "      <th>CAtBat</th>\n",
       "      <th>CHits</th>\n",
       "      <th>CHmRun</th>\n",
       "      <th>CRuns</th>\n",
       "      <th>CRBI</th>\n",
       "      <th>CWalks</th>\n",
       "      <th>PutOuts</th>\n",
       "      <th>Assists</th>\n",
       "      <th>Errors</th>\n",
       "      <th>Salary</th>\n",
       "    </tr>\n",
       "  </thead>\n",
       "  <tbody>\n",
       "    <tr>\n",
       "      <th>count</th>\n",
       "      <td>322.000000</td>\n",
       "      <td>322.000000</td>\n",
       "      <td>322.000000</td>\n",
       "      <td>322.000000</td>\n",
       "      <td>322.000000</td>\n",
       "      <td>322.000000</td>\n",
       "      <td>322.000000</td>\n",
       "      <td>322.00000</td>\n",
       "      <td>322.000000</td>\n",
       "      <td>322.000000</td>\n",
       "      <td>322.000000</td>\n",
       "      <td>322.000000</td>\n",
       "      <td>322.000000</td>\n",
       "      <td>322.000000</td>\n",
       "      <td>322.000000</td>\n",
       "      <td>322.000000</td>\n",
       "      <td>263.000000</td>\n",
       "    </tr>\n",
       "    <tr>\n",
       "      <th>mean</th>\n",
       "      <td>380.928571</td>\n",
       "      <td>101.024845</td>\n",
       "      <td>10.770186</td>\n",
       "      <td>50.909938</td>\n",
       "      <td>48.027950</td>\n",
       "      <td>38.742236</td>\n",
       "      <td>7.444099</td>\n",
       "      <td>2648.68323</td>\n",
       "      <td>717.571429</td>\n",
       "      <td>69.490683</td>\n",
       "      <td>358.795031</td>\n",
       "      <td>330.118012</td>\n",
       "      <td>260.239130</td>\n",
       "      <td>288.937888</td>\n",
       "      <td>106.913043</td>\n",
       "      <td>8.040373</td>\n",
       "      <td>535.925882</td>\n",
       "    </tr>\n",
       "    <tr>\n",
       "      <th>std</th>\n",
       "      <td>153.404981</td>\n",
       "      <td>46.454741</td>\n",
       "      <td>8.709037</td>\n",
       "      <td>26.024095</td>\n",
       "      <td>26.166895</td>\n",
       "      <td>21.639327</td>\n",
       "      <td>4.926087</td>\n",
       "      <td>2324.20587</td>\n",
       "      <td>654.472627</td>\n",
       "      <td>86.266061</td>\n",
       "      <td>334.105886</td>\n",
       "      <td>333.219617</td>\n",
       "      <td>267.058085</td>\n",
       "      <td>280.704614</td>\n",
       "      <td>136.854876</td>\n",
       "      <td>6.368359</td>\n",
       "      <td>451.118681</td>\n",
       "    </tr>\n",
       "    <tr>\n",
       "      <th>min</th>\n",
       "      <td>16.000000</td>\n",
       "      <td>1.000000</td>\n",
       "      <td>0.000000</td>\n",
       "      <td>0.000000</td>\n",
       "      <td>0.000000</td>\n",
       "      <td>0.000000</td>\n",
       "      <td>1.000000</td>\n",
       "      <td>19.00000</td>\n",
       "      <td>4.000000</td>\n",
       "      <td>0.000000</td>\n",
       "      <td>1.000000</td>\n",
       "      <td>0.000000</td>\n",
       "      <td>0.000000</td>\n",
       "      <td>0.000000</td>\n",
       "      <td>0.000000</td>\n",
       "      <td>0.000000</td>\n",
       "      <td>67.500000</td>\n",
       "    </tr>\n",
       "    <tr>\n",
       "      <th>25%</th>\n",
       "      <td>255.250000</td>\n",
       "      <td>64.000000</td>\n",
       "      <td>4.000000</td>\n",
       "      <td>30.250000</td>\n",
       "      <td>28.000000</td>\n",
       "      <td>22.000000</td>\n",
       "      <td>4.000000</td>\n",
       "      <td>816.75000</td>\n",
       "      <td>209.000000</td>\n",
       "      <td>14.000000</td>\n",
       "      <td>100.250000</td>\n",
       "      <td>88.750000</td>\n",
       "      <td>67.250000</td>\n",
       "      <td>109.250000</td>\n",
       "      <td>7.000000</td>\n",
       "      <td>3.000000</td>\n",
       "      <td>190.000000</td>\n",
       "    </tr>\n",
       "    <tr>\n",
       "      <th>50%</th>\n",
       "      <td>379.500000</td>\n",
       "      <td>96.000000</td>\n",
       "      <td>8.000000</td>\n",
       "      <td>48.000000</td>\n",
       "      <td>44.000000</td>\n",
       "      <td>35.000000</td>\n",
       "      <td>6.000000</td>\n",
       "      <td>1928.00000</td>\n",
       "      <td>508.000000</td>\n",
       "      <td>37.500000</td>\n",
       "      <td>247.000000</td>\n",
       "      <td>220.500000</td>\n",
       "      <td>170.500000</td>\n",
       "      <td>212.000000</td>\n",
       "      <td>39.500000</td>\n",
       "      <td>6.000000</td>\n",
       "      <td>425.000000</td>\n",
       "    </tr>\n",
       "    <tr>\n",
       "      <th>75%</th>\n",
       "      <td>512.000000</td>\n",
       "      <td>137.000000</td>\n",
       "      <td>16.000000</td>\n",
       "      <td>69.000000</td>\n",
       "      <td>64.750000</td>\n",
       "      <td>53.000000</td>\n",
       "      <td>11.000000</td>\n",
       "      <td>3924.25000</td>\n",
       "      <td>1059.250000</td>\n",
       "      <td>90.000000</td>\n",
       "      <td>526.250000</td>\n",
       "      <td>426.250000</td>\n",
       "      <td>339.250000</td>\n",
       "      <td>325.000000</td>\n",
       "      <td>166.000000</td>\n",
       "      <td>11.000000</td>\n",
       "      <td>750.000000</td>\n",
       "    </tr>\n",
       "    <tr>\n",
       "      <th>max</th>\n",
       "      <td>687.000000</td>\n",
       "      <td>238.000000</td>\n",
       "      <td>40.000000</td>\n",
       "      <td>130.000000</td>\n",
       "      <td>121.000000</td>\n",
       "      <td>105.000000</td>\n",
       "      <td>24.000000</td>\n",
       "      <td>14053.00000</td>\n",
       "      <td>4256.000000</td>\n",
       "      <td>548.000000</td>\n",
       "      <td>2165.000000</td>\n",
       "      <td>1659.000000</td>\n",
       "      <td>1566.000000</td>\n",
       "      <td>1378.000000</td>\n",
       "      <td>492.000000</td>\n",
       "      <td>32.000000</td>\n",
       "      <td>2460.000000</td>\n",
       "    </tr>\n",
       "  </tbody>\n",
       "</table>\n",
       "</div>"
      ],
      "text/plain": [
       "            AtBat        Hits       HmRun        Runs         RBI       Walks  \\\n",
       "count  322.000000  322.000000  322.000000  322.000000  322.000000  322.000000   \n",
       "mean   380.928571  101.024845   10.770186   50.909938   48.027950   38.742236   \n",
       "std    153.404981   46.454741    8.709037   26.024095   26.166895   21.639327   \n",
       "min     16.000000    1.000000    0.000000    0.000000    0.000000    0.000000   \n",
       "25%    255.250000   64.000000    4.000000   30.250000   28.000000   22.000000   \n",
       "50%    379.500000   96.000000    8.000000   48.000000   44.000000   35.000000   \n",
       "75%    512.000000  137.000000   16.000000   69.000000   64.750000   53.000000   \n",
       "max    687.000000  238.000000   40.000000  130.000000  121.000000  105.000000   \n",
       "\n",
       "            Years       CAtBat        CHits      CHmRun        CRuns  \\\n",
       "count  322.000000    322.00000   322.000000  322.000000   322.000000   \n",
       "mean     7.444099   2648.68323   717.571429   69.490683   358.795031   \n",
       "std      4.926087   2324.20587   654.472627   86.266061   334.105886   \n",
       "min      1.000000     19.00000     4.000000    0.000000     1.000000   \n",
       "25%      4.000000    816.75000   209.000000   14.000000   100.250000   \n",
       "50%      6.000000   1928.00000   508.000000   37.500000   247.000000   \n",
       "75%     11.000000   3924.25000  1059.250000   90.000000   526.250000   \n",
       "max     24.000000  14053.00000  4256.000000  548.000000  2165.000000   \n",
       "\n",
       "              CRBI       CWalks      PutOuts     Assists      Errors  \\\n",
       "count   322.000000   322.000000   322.000000  322.000000  322.000000   \n",
       "mean    330.118012   260.239130   288.937888  106.913043    8.040373   \n",
       "std     333.219617   267.058085   280.704614  136.854876    6.368359   \n",
       "min       0.000000     0.000000     0.000000    0.000000    0.000000   \n",
       "25%      88.750000    67.250000   109.250000    7.000000    3.000000   \n",
       "50%     220.500000   170.500000   212.000000   39.500000    6.000000   \n",
       "75%     426.250000   339.250000   325.000000  166.000000   11.000000   \n",
       "max    1659.000000  1566.000000  1378.000000  492.000000   32.000000   \n",
       "\n",
       "            Salary  \n",
       "count   263.000000  \n",
       "mean    535.925882  \n",
       "std     451.118681  \n",
       "min      67.500000  \n",
       "25%     190.000000  \n",
       "50%     425.000000  \n",
       "75%     750.000000  \n",
       "max    2460.000000  "
      ]
     },
     "execution_count": 16,
     "metadata": {},
     "output_type": "execute_result"
    }
   ],
   "source": [
    "df.describe()"
   ]
  },
  {
   "cell_type": "code",
   "execution_count": 18,
   "id": "18bf966a",
   "metadata": {},
   "outputs": [
    {
     "data": {
      "text/plain": [
       "A    175\n",
       "N    147\n",
       "Name: League, dtype: int64"
      ]
     },
     "execution_count": 18,
     "metadata": {},
     "output_type": "execute_result"
    }
   ],
   "source": [
    "df[\"League\"].value_counts()"
   ]
  },
  {
   "cell_type": "code",
   "execution_count": 19,
   "id": "0c64893b",
   "metadata": {},
   "outputs": [
    {
     "data": {
      "text/plain": [
       "W    165\n",
       "E    157\n",
       "Name: Division, dtype: int64"
      ]
     },
     "execution_count": 19,
     "metadata": {},
     "output_type": "execute_result"
    }
   ],
   "source": [
    "df[\"Division\"].value_counts()"
   ]
  },
  {
   "cell_type": "code",
   "execution_count": 17,
   "id": "de8f6026",
   "metadata": {},
   "outputs": [
    {
     "data": {
      "text/plain": [
       "A    176\n",
       "N    146\n",
       "Name: NewLeague, dtype: int64"
      ]
     },
     "execution_count": 17,
     "metadata": {},
     "output_type": "execute_result"
    }
   ],
   "source": [
    "df[\"NewLeague\"].value_counts()"
   ]
  },
  {
   "cell_type": "code",
   "execution_count": 20,
   "id": "47ddbd58",
   "metadata": {},
   "outputs": [
    {
     "data": {
      "text/html": [
       "<div>\n",
       "<style scoped>\n",
       "    .dataframe tbody tr th:only-of-type {\n",
       "        vertical-align: middle;\n",
       "    }\n",
       "\n",
       "    .dataframe tbody tr th {\n",
       "        vertical-align: top;\n",
       "    }\n",
       "\n",
       "    .dataframe thead th {\n",
       "        text-align: right;\n",
       "    }\n",
       "</style>\n",
       "<table border=\"1\" class=\"dataframe\">\n",
       "  <thead>\n",
       "    <tr style=\"text-align: right;\">\n",
       "      <th></th>\n",
       "      <th>League_A</th>\n",
       "      <th>League_N</th>\n",
       "      <th>Division_E</th>\n",
       "      <th>Division_W</th>\n",
       "      <th>NewLeague_A</th>\n",
       "      <th>NewLeague_N</th>\n",
       "    </tr>\n",
       "  </thead>\n",
       "  <tbody>\n",
       "    <tr>\n",
       "      <th>0</th>\n",
       "      <td>1</td>\n",
       "      <td>0</td>\n",
       "      <td>1</td>\n",
       "      <td>0</td>\n",
       "      <td>1</td>\n",
       "      <td>0</td>\n",
       "    </tr>\n",
       "    <tr>\n",
       "      <th>1</th>\n",
       "      <td>0</td>\n",
       "      <td>1</td>\n",
       "      <td>0</td>\n",
       "      <td>1</td>\n",
       "      <td>0</td>\n",
       "      <td>1</td>\n",
       "    </tr>\n",
       "    <tr>\n",
       "      <th>2</th>\n",
       "      <td>1</td>\n",
       "      <td>0</td>\n",
       "      <td>0</td>\n",
       "      <td>1</td>\n",
       "      <td>1</td>\n",
       "      <td>0</td>\n",
       "    </tr>\n",
       "    <tr>\n",
       "      <th>3</th>\n",
       "      <td>0</td>\n",
       "      <td>1</td>\n",
       "      <td>1</td>\n",
       "      <td>0</td>\n",
       "      <td>0</td>\n",
       "      <td>1</td>\n",
       "    </tr>\n",
       "    <tr>\n",
       "      <th>4</th>\n",
       "      <td>0</td>\n",
       "      <td>1</td>\n",
       "      <td>1</td>\n",
       "      <td>0</td>\n",
       "      <td>0</td>\n",
       "      <td>1</td>\n",
       "    </tr>\n",
       "    <tr>\n",
       "      <th>...</th>\n",
       "      <td>...</td>\n",
       "      <td>...</td>\n",
       "      <td>...</td>\n",
       "      <td>...</td>\n",
       "      <td>...</td>\n",
       "      <td>...</td>\n",
       "    </tr>\n",
       "    <tr>\n",
       "      <th>317</th>\n",
       "      <td>0</td>\n",
       "      <td>1</td>\n",
       "      <td>1</td>\n",
       "      <td>0</td>\n",
       "      <td>0</td>\n",
       "      <td>1</td>\n",
       "    </tr>\n",
       "    <tr>\n",
       "      <th>318</th>\n",
       "      <td>1</td>\n",
       "      <td>0</td>\n",
       "      <td>1</td>\n",
       "      <td>0</td>\n",
       "      <td>1</td>\n",
       "      <td>0</td>\n",
       "    </tr>\n",
       "    <tr>\n",
       "      <th>319</th>\n",
       "      <td>1</td>\n",
       "      <td>0</td>\n",
       "      <td>0</td>\n",
       "      <td>1</td>\n",
       "      <td>1</td>\n",
       "      <td>0</td>\n",
       "    </tr>\n",
       "    <tr>\n",
       "      <th>320</th>\n",
       "      <td>1</td>\n",
       "      <td>0</td>\n",
       "      <td>1</td>\n",
       "      <td>0</td>\n",
       "      <td>1</td>\n",
       "      <td>0</td>\n",
       "    </tr>\n",
       "    <tr>\n",
       "      <th>321</th>\n",
       "      <td>1</td>\n",
       "      <td>0</td>\n",
       "      <td>0</td>\n",
       "      <td>1</td>\n",
       "      <td>1</td>\n",
       "      <td>0</td>\n",
       "    </tr>\n",
       "  </tbody>\n",
       "</table>\n",
       "<p>322 rows × 6 columns</p>\n",
       "</div>"
      ],
      "text/plain": [
       "     League_A  League_N  Division_E  Division_W  NewLeague_A  NewLeague_N\n",
       "0           1         0           1           0            1            0\n",
       "1           0         1           0           1            0            1\n",
       "2           1         0           0           1            1            0\n",
       "3           0         1           1           0            0            1\n",
       "4           0         1           1           0            0            1\n",
       "..        ...       ...         ...         ...          ...          ...\n",
       "317         0         1           1           0            0            1\n",
       "318         1         0           1           0            1            0\n",
       "319         1         0           0           1            1            0\n",
       "320         1         0           1           0            1            0\n",
       "321         1         0           0           1            1            0\n",
       "\n",
       "[322 rows x 6 columns]"
      ]
     },
     "execution_count": 20,
     "metadata": {},
     "output_type": "execute_result"
    }
   ],
   "source": [
    "dms=pd.get_dummies(df[[\"League\",\"Division\",\"NewLeague\"]])\n",
    "dms"
   ]
  },
  {
   "cell_type": "code",
   "execution_count": 21,
   "id": "773d3270",
   "metadata": {},
   "outputs": [
    {
     "data": {
      "text/html": [
       "<div>\n",
       "<style scoped>\n",
       "    .dataframe tbody tr th:only-of-type {\n",
       "        vertical-align: middle;\n",
       "    }\n",
       "\n",
       "    .dataframe tbody tr th {\n",
       "        vertical-align: top;\n",
       "    }\n",
       "\n",
       "    .dataframe thead th {\n",
       "        text-align: right;\n",
       "    }\n",
       "</style>\n",
       "<table border=\"1\" class=\"dataframe\">\n",
       "  <thead>\n",
       "    <tr style=\"text-align: right;\">\n",
       "      <th></th>\n",
       "      <th>AtBat</th>\n",
       "      <th>Hits</th>\n",
       "      <th>HmRun</th>\n",
       "      <th>Runs</th>\n",
       "      <th>RBI</th>\n",
       "      <th>Walks</th>\n",
       "      <th>Years</th>\n",
       "      <th>CAtBat</th>\n",
       "      <th>CHits</th>\n",
       "      <th>CHmRun</th>\n",
       "      <th>CRuns</th>\n",
       "      <th>CRBI</th>\n",
       "      <th>CWalks</th>\n",
       "      <th>PutOuts</th>\n",
       "      <th>Assists</th>\n",
       "      <th>Errors</th>\n",
       "      <th>Salary</th>\n",
       "    </tr>\n",
       "  </thead>\n",
       "  <tbody>\n",
       "    <tr>\n",
       "      <th>0</th>\n",
       "      <td>293</td>\n",
       "      <td>66</td>\n",
       "      <td>1</td>\n",
       "      <td>30</td>\n",
       "      <td>29</td>\n",
       "      <td>14</td>\n",
       "      <td>1</td>\n",
       "      <td>293</td>\n",
       "      <td>66</td>\n",
       "      <td>1</td>\n",
       "      <td>30</td>\n",
       "      <td>29</td>\n",
       "      <td>14</td>\n",
       "      <td>446</td>\n",
       "      <td>33</td>\n",
       "      <td>20</td>\n",
       "      <td>NaN</td>\n",
       "    </tr>\n",
       "    <tr>\n",
       "      <th>1</th>\n",
       "      <td>315</td>\n",
       "      <td>81</td>\n",
       "      <td>7</td>\n",
       "      <td>24</td>\n",
       "      <td>38</td>\n",
       "      <td>39</td>\n",
       "      <td>14</td>\n",
       "      <td>3449</td>\n",
       "      <td>835</td>\n",
       "      <td>69</td>\n",
       "      <td>321</td>\n",
       "      <td>414</td>\n",
       "      <td>375</td>\n",
       "      <td>632</td>\n",
       "      <td>43</td>\n",
       "      <td>10</td>\n",
       "      <td>475.0</td>\n",
       "    </tr>\n",
       "    <tr>\n",
       "      <th>2</th>\n",
       "      <td>479</td>\n",
       "      <td>130</td>\n",
       "      <td>18</td>\n",
       "      <td>66</td>\n",
       "      <td>72</td>\n",
       "      <td>76</td>\n",
       "      <td>3</td>\n",
       "      <td>1624</td>\n",
       "      <td>457</td>\n",
       "      <td>63</td>\n",
       "      <td>224</td>\n",
       "      <td>266</td>\n",
       "      <td>263</td>\n",
       "      <td>880</td>\n",
       "      <td>82</td>\n",
       "      <td>14</td>\n",
       "      <td>480.0</td>\n",
       "    </tr>\n",
       "    <tr>\n",
       "      <th>3</th>\n",
       "      <td>496</td>\n",
       "      <td>141</td>\n",
       "      <td>20</td>\n",
       "      <td>65</td>\n",
       "      <td>78</td>\n",
       "      <td>37</td>\n",
       "      <td>11</td>\n",
       "      <td>5628</td>\n",
       "      <td>1575</td>\n",
       "      <td>225</td>\n",
       "      <td>828</td>\n",
       "      <td>838</td>\n",
       "      <td>354</td>\n",
       "      <td>200</td>\n",
       "      <td>11</td>\n",
       "      <td>3</td>\n",
       "      <td>500.0</td>\n",
       "    </tr>\n",
       "    <tr>\n",
       "      <th>4</th>\n",
       "      <td>321</td>\n",
       "      <td>87</td>\n",
       "      <td>10</td>\n",
       "      <td>39</td>\n",
       "      <td>42</td>\n",
       "      <td>30</td>\n",
       "      <td>2</td>\n",
       "      <td>396</td>\n",
       "      <td>101</td>\n",
       "      <td>12</td>\n",
       "      <td>48</td>\n",
       "      <td>46</td>\n",
       "      <td>33</td>\n",
       "      <td>805</td>\n",
       "      <td>40</td>\n",
       "      <td>4</td>\n",
       "      <td>91.5</td>\n",
       "    </tr>\n",
       "  </tbody>\n",
       "</table>\n",
       "</div>"
      ],
      "text/plain": [
       "   AtBat  Hits  HmRun  Runs  RBI  Walks  Years  CAtBat  CHits  CHmRun  CRuns  \\\n",
       "0    293    66      1    30   29     14      1     293     66       1     30   \n",
       "1    315    81      7    24   38     39     14    3449    835      69    321   \n",
       "2    479   130     18    66   72     76      3    1624    457      63    224   \n",
       "3    496   141     20    65   78     37     11    5628   1575     225    828   \n",
       "4    321    87     10    39   42     30      2     396    101      12     48   \n",
       "\n",
       "   CRBI  CWalks  PutOuts  Assists  Errors  Salary  \n",
       "0    29      14      446       33      20     NaN  \n",
       "1   414     375      632       43      10   475.0  \n",
       "2   266     263      880       82      14   480.0  \n",
       "3   838     354      200       11       3   500.0  \n",
       "4    46      33      805       40       4    91.5  "
      ]
     },
     "execution_count": 21,
     "metadata": {},
     "output_type": "execute_result"
    }
   ],
   "source": [
    "df.drop([\"League\",\"Division\",\"NewLeague\"],axis=1,inplace=True)\n",
    "df.head()"
   ]
  },
  {
   "cell_type": "code",
   "execution_count": 22,
   "id": "3ce15a8d",
   "metadata": {},
   "outputs": [
    {
     "data": {
      "text/html": [
       "<div>\n",
       "<style scoped>\n",
       "    .dataframe tbody tr th:only-of-type {\n",
       "        vertical-align: middle;\n",
       "    }\n",
       "\n",
       "    .dataframe tbody tr th {\n",
       "        vertical-align: top;\n",
       "    }\n",
       "\n",
       "    .dataframe thead th {\n",
       "        text-align: right;\n",
       "    }\n",
       "</style>\n",
       "<table border=\"1\" class=\"dataframe\">\n",
       "  <thead>\n",
       "    <tr style=\"text-align: right;\">\n",
       "      <th></th>\n",
       "      <th>AtBat</th>\n",
       "      <th>Hits</th>\n",
       "      <th>HmRun</th>\n",
       "      <th>Runs</th>\n",
       "      <th>RBI</th>\n",
       "      <th>Walks</th>\n",
       "      <th>Years</th>\n",
       "      <th>CAtBat</th>\n",
       "      <th>CHits</th>\n",
       "      <th>CHmRun</th>\n",
       "      <th>CRuns</th>\n",
       "      <th>CRBI</th>\n",
       "      <th>CWalks</th>\n",
       "      <th>PutOuts</th>\n",
       "      <th>Assists</th>\n",
       "      <th>Errors</th>\n",
       "      <th>Salary</th>\n",
       "      <th>League_N</th>\n",
       "      <th>Division_W</th>\n",
       "      <th>NewLeague_N</th>\n",
       "    </tr>\n",
       "  </thead>\n",
       "  <tbody>\n",
       "    <tr>\n",
       "      <th>0</th>\n",
       "      <td>293</td>\n",
       "      <td>66</td>\n",
       "      <td>1</td>\n",
       "      <td>30</td>\n",
       "      <td>29</td>\n",
       "      <td>14</td>\n",
       "      <td>1</td>\n",
       "      <td>293</td>\n",
       "      <td>66</td>\n",
       "      <td>1</td>\n",
       "      <td>30</td>\n",
       "      <td>29</td>\n",
       "      <td>14</td>\n",
       "      <td>446</td>\n",
       "      <td>33</td>\n",
       "      <td>20</td>\n",
       "      <td>NaN</td>\n",
       "      <td>0</td>\n",
       "      <td>0</td>\n",
       "      <td>0</td>\n",
       "    </tr>\n",
       "    <tr>\n",
       "      <th>1</th>\n",
       "      <td>315</td>\n",
       "      <td>81</td>\n",
       "      <td>7</td>\n",
       "      <td>24</td>\n",
       "      <td>38</td>\n",
       "      <td>39</td>\n",
       "      <td>14</td>\n",
       "      <td>3449</td>\n",
       "      <td>835</td>\n",
       "      <td>69</td>\n",
       "      <td>321</td>\n",
       "      <td>414</td>\n",
       "      <td>375</td>\n",
       "      <td>632</td>\n",
       "      <td>43</td>\n",
       "      <td>10</td>\n",
       "      <td>475.0</td>\n",
       "      <td>1</td>\n",
       "      <td>1</td>\n",
       "      <td>1</td>\n",
       "    </tr>\n",
       "    <tr>\n",
       "      <th>2</th>\n",
       "      <td>479</td>\n",
       "      <td>130</td>\n",
       "      <td>18</td>\n",
       "      <td>66</td>\n",
       "      <td>72</td>\n",
       "      <td>76</td>\n",
       "      <td>3</td>\n",
       "      <td>1624</td>\n",
       "      <td>457</td>\n",
       "      <td>63</td>\n",
       "      <td>224</td>\n",
       "      <td>266</td>\n",
       "      <td>263</td>\n",
       "      <td>880</td>\n",
       "      <td>82</td>\n",
       "      <td>14</td>\n",
       "      <td>480.0</td>\n",
       "      <td>0</td>\n",
       "      <td>1</td>\n",
       "      <td>0</td>\n",
       "    </tr>\n",
       "    <tr>\n",
       "      <th>3</th>\n",
       "      <td>496</td>\n",
       "      <td>141</td>\n",
       "      <td>20</td>\n",
       "      <td>65</td>\n",
       "      <td>78</td>\n",
       "      <td>37</td>\n",
       "      <td>11</td>\n",
       "      <td>5628</td>\n",
       "      <td>1575</td>\n",
       "      <td>225</td>\n",
       "      <td>828</td>\n",
       "      <td>838</td>\n",
       "      <td>354</td>\n",
       "      <td>200</td>\n",
       "      <td>11</td>\n",
       "      <td>3</td>\n",
       "      <td>500.0</td>\n",
       "      <td>1</td>\n",
       "      <td>0</td>\n",
       "      <td>1</td>\n",
       "    </tr>\n",
       "    <tr>\n",
       "      <th>4</th>\n",
       "      <td>321</td>\n",
       "      <td>87</td>\n",
       "      <td>10</td>\n",
       "      <td>39</td>\n",
       "      <td>42</td>\n",
       "      <td>30</td>\n",
       "      <td>2</td>\n",
       "      <td>396</td>\n",
       "      <td>101</td>\n",
       "      <td>12</td>\n",
       "      <td>48</td>\n",
       "      <td>46</td>\n",
       "      <td>33</td>\n",
       "      <td>805</td>\n",
       "      <td>40</td>\n",
       "      <td>4</td>\n",
       "      <td>91.5</td>\n",
       "      <td>1</td>\n",
       "      <td>0</td>\n",
       "      <td>1</td>\n",
       "    </tr>\n",
       "  </tbody>\n",
       "</table>\n",
       "</div>"
      ],
      "text/plain": [
       "   AtBat  Hits  HmRun  Runs  RBI  Walks  Years  CAtBat  CHits  CHmRun  CRuns  \\\n",
       "0    293    66      1    30   29     14      1     293     66       1     30   \n",
       "1    315    81      7    24   38     39     14    3449    835      69    321   \n",
       "2    479   130     18    66   72     76      3    1624    457      63    224   \n",
       "3    496   141     20    65   78     37     11    5628   1575     225    828   \n",
       "4    321    87     10    39   42     30      2     396    101      12     48   \n",
       "\n",
       "   CRBI  CWalks  PutOuts  Assists  Errors  Salary  League_N  Division_W  \\\n",
       "0    29      14      446       33      20     NaN         0           0   \n",
       "1   414     375      632       43      10   475.0         1           1   \n",
       "2   266     263      880       82      14   480.0         0           1   \n",
       "3   838     354      200       11       3   500.0         1           0   \n",
       "4    46      33      805       40       4    91.5         1           0   \n",
       "\n",
       "   NewLeague_N  \n",
       "0            0  \n",
       "1            1  \n",
       "2            0  \n",
       "3            1  \n",
       "4            1  "
      ]
     },
     "execution_count": 22,
     "metadata": {},
     "output_type": "execute_result"
    }
   ],
   "source": [
    "df=pd.concat([df,dms[[\"League_N\",\"Division_W\",\"NewLeague_N\"]]],axis=1)\n",
    "df.head()"
   ]
  },
  {
   "cell_type": "markdown",
   "id": "f13d76ba",
   "metadata": {},
   "source": [
    "* kategorik değişkenleri sayısal değişkenlere dönüştürmüş olduk."
   ]
  },
  {
   "cell_type": "code",
   "execution_count": 23,
   "id": "81a6b0af",
   "metadata": {},
   "outputs": [
    {
     "data": {
      "text/plain": [
       "AtBat           0\n",
       "Hits            0\n",
       "HmRun           0\n",
       "Runs            0\n",
       "RBI             0\n",
       "Walks           0\n",
       "Years           0\n",
       "CAtBat          0\n",
       "CHits           0\n",
       "CHmRun          0\n",
       "CRuns           0\n",
       "CRBI            0\n",
       "CWalks          0\n",
       "PutOuts         0\n",
       "Assists         0\n",
       "Errors          0\n",
       "Salary         59\n",
       "League_N        0\n",
       "Division_W      0\n",
       "NewLeague_N     0\n",
       "dtype: int64"
      ]
     },
     "execution_count": 23,
     "metadata": {},
     "output_type": "execute_result"
    }
   ],
   "source": [
    "#Missing values analysis\n",
    "df.isna().sum()"
   ]
  },
  {
   "cell_type": "markdown",
   "id": "9c0c4d19",
   "metadata": {},
   "source": [
    "* sadece maaş değişkeninde eksik değerler var."
   ]
  },
  {
   "cell_type": "code",
   "execution_count": 24,
   "id": "9a259ff0",
   "metadata": {},
   "outputs": [
    {
     "data": {
      "text/plain": [
       "2460.0"
      ]
     },
     "execution_count": 24,
     "metadata": {},
     "output_type": "execute_result"
    }
   ],
   "source": [
    "df.Salary.max()"
   ]
  },
  {
   "cell_type": "code",
   "execution_count": 25,
   "id": "1d814a59",
   "metadata": {},
   "outputs": [
    {
     "data": {
      "text/plain": [
       "67.5"
      ]
     },
     "execution_count": 25,
     "metadata": {},
     "output_type": "execute_result"
    }
   ],
   "source": [
    "df.Salary.min()"
   ]
  },
  {
   "cell_type": "code",
   "execution_count": 27,
   "id": "14017633",
   "metadata": {},
   "outputs": [
    {
     "data": {
      "text/plain": [
       "array([8, 6, 5, 4, 3, 2, 1], dtype=int64)"
      ]
     },
     "execution_count": 27,
     "metadata": {},
     "output_type": "execute_result"
    }
   ],
   "source": [
    "df[\"Salary\"].value_counts().unique()"
   ]
  },
  {
   "cell_type": "code",
   "execution_count": 28,
   "id": "c0f156da",
   "metadata": {},
   "outputs": [],
   "source": [
    "df[\"Salary\"].fillna(df.Salary.mean(),inplace=True)"
   ]
  },
  {
   "cell_type": "code",
   "execution_count": 31,
   "id": "76a00b71",
   "metadata": {},
   "outputs": [
    {
     "data": {
      "text/plain": [
       "0"
      ]
     },
     "execution_count": 31,
     "metadata": {},
     "output_type": "execute_result"
    }
   ],
   "source": [
    "df.isna().sum().sum()"
   ]
  },
  {
   "cell_type": "markdown",
   "id": "e90c5699",
   "metadata": {},
   "source": [
    "* eksik değerleri gidermiş oldum"
   ]
  },
  {
   "cell_type": "code",
   "execution_count": 33,
   "id": "63f9ec8d",
   "metadata": {},
   "outputs": [
    {
     "name": "stdout",
     "output_type": "stream",
     "text": [
      "AtBat no\n",
      "Hits no\n",
      "HmRun yes\n",
      "Runs yes\n",
      "RBI yes\n",
      "Walks yes\n",
      "Years yes\n",
      "CAtBat yes\n",
      "CHits yes\n",
      "CHmRun yes\n",
      "CRuns yes\n",
      "CRBI yes\n",
      "CWalks yes\n",
      "PutOuts yes\n",
      "Assists yes\n",
      "Errors yes\n",
      "Salary yes\n",
      "League_N no\n",
      "Division_W no\n",
      "NewLeague_N no\n"
     ]
    }
   ],
   "source": [
    "# outlier query\n",
    "for i in df:\n",
    "    Q1 = df[i].quantile(0.25)\n",
    "    Q3 = df[i].quantile(0.75)\n",
    "    IQR = Q3-Q1\n",
    "    up = Q3 + 1.5*IQR\n",
    "    low = Q1 - 1.5*IQR\n",
    "\n",
    "    if df[(df[i] > up) | (df[i] < low)].any(axis=None):\n",
    "        print(i,\"yes\")\n",
    "    else:\n",
    "        print(i, \"no\")"
   ]
  },
  {
   "cell_type": "markdown",
   "id": "7e40ba55",
   "metadata": {},
   "source": [
    "* aykırı değer olup olmadığını sorguladım"
   ]
  },
  {
   "cell_type": "code",
   "execution_count": 34,
   "id": "01065640",
   "metadata": {},
   "outputs": [],
   "source": [
    "numeric_list=[\"AtBat\",'Hits', 'HmRun', 'Runs', 'RBI', 'Walks', 'Years', 'CAtBat',\n",
    "       'CHits', 'CHmRun', 'CRuns', 'CRBI', 'CWalks', 'PutOuts', 'Assists',\n",
    "       'Errors', 'Salary']"
   ]
  },
  {
   "cell_type": "code",
   "execution_count": 35,
   "id": "34601adf",
   "metadata": {},
   "outputs": [],
   "source": [
    "for i in numeric_list:\n",
    "    Q1 = df[i].quantile(0.25)\n",
    "    Q3 = df[i].quantile(0.75)\n",
    "    IQR = Q3 - Q1\n",
    "    up_lim = Q3 + 1.5 * IQR\n",
    "    low_lim = Q1 - 1.5 * IQR\n",
    "    df.loc[df[i] > up_lim,i] = up_lim\n",
    "    df.loc[df[i] < low_lim,i] = low_lim\n"
   ]
  },
  {
   "cell_type": "code",
   "execution_count": 36,
   "id": "987a2d9b",
   "metadata": {},
   "outputs": [
    {
     "name": "stdout",
     "output_type": "stream",
     "text": [
      "AtBat no\n",
      "Hits no\n",
      "HmRun no\n",
      "Runs no\n",
      "RBI no\n",
      "Walks no\n",
      "Years no\n",
      "CAtBat no\n",
      "CHits no\n",
      "CHmRun no\n",
      "CRuns no\n",
      "CRBI no\n",
      "CWalks no\n",
      "PutOuts no\n",
      "Assists no\n",
      "Errors no\n",
      "Salary no\n",
      "League_N no\n",
      "Division_W no\n",
      "NewLeague_N no\n"
     ]
    }
   ],
   "source": [
    "# outlier query\n",
    "for i in df:\n",
    "    Q1 = df[i].quantile(0.25)\n",
    "    Q3 = df[i].quantile(0.75)\n",
    "    IQR = Q3-Q1\n",
    "    up = Q3 + 1.5*IQR\n",
    "    low = Q1 - 1.5*IQR\n",
    "\n",
    "    if df[(df[i] > up) | (df[i] < low)].any(axis=None):\n",
    "        print(i,\"yes\")\n",
    "    else:\n",
    "        print(i, \"no\")"
   ]
  },
  {
   "cell_type": "markdown",
   "id": "2972100c",
   "metadata": {},
   "source": [
    "* aykırı değerleri ortadan kaldırmış olduk.alt sınırın altındaki değerleri alt sınırla,üst sınırın üstündeki değerleri üst sınırla değiştirmiş oldum"
   ]
  },
  {
   "cell_type": "code",
   "execution_count": 37,
   "id": "5b99b803",
   "metadata": {},
   "outputs": [
    {
     "data": {
      "image/png": "[encoded data removed]",
      "text/plain": [
       "<Figure size 864x864 with 17 Axes>"
      ]
     },
     "metadata": {
      "needs_background": "light"
     },
     "output_type": "display_data"
    }
   ],
   "source": [
    "k=1\n",
    "df_num = df.loc[:,numeric_list]\n",
    "plt.figure(figsize=(12,12))\n",
    "\n",
    "for i in df_num:\n",
    "    plt.subplot(3,6,k)\n",
    "    sns.boxplot(x = i, data = df_num)\n",
    "    plt.title(i)\n",
    "    k+=1\n"
   ]
  },
  {
   "cell_type": "code",
   "execution_count": 40,
   "id": "0c6b56ac",
   "metadata": {},
   "outputs": [
    {
     "data": {
      "text/html": [
       "<div>\n",
       "<style scoped>\n",
       "    .dataframe tbody tr th:only-of-type {\n",
       "        vertical-align: middle;\n",
       "    }\n",
       "\n",
       "    .dataframe tbody tr th {\n",
       "        vertical-align: top;\n",
       "    }\n",
       "\n",
       "    .dataframe thead th {\n",
       "        text-align: right;\n",
       "    }\n",
       "</style>\n",
       "<table border=\"1\" class=\"dataframe\">\n",
       "  <thead>\n",
       "    <tr style=\"text-align: right;\">\n",
       "      <th></th>\n",
       "      <th>count</th>\n",
       "      <th>mean</th>\n",
       "      <th>std</th>\n",
       "      <th>min</th>\n",
       "      <th>25%</th>\n",
       "      <th>50%</th>\n",
       "      <th>75%</th>\n",
       "      <th>max</th>\n",
       "    </tr>\n",
       "  </thead>\n",
       "  <tbody>\n",
       "    <tr>\n",
       "      <th>AtBat</th>\n",
       "      <td>322.0</td>\n",
       "      <td>380.928571</td>\n",
       "      <td>153.404981</td>\n",
       "      <td>16.0</td>\n",
       "      <td>255.25</td>\n",
       "      <td>379.500000</td>\n",
       "      <td>512.00</td>\n",
       "      <td>687.000</td>\n",
       "    </tr>\n",
       "    <tr>\n",
       "      <th>Hits</th>\n",
       "      <td>322.0</td>\n",
       "      <td>101.024845</td>\n",
       "      <td>46.454741</td>\n",
       "      <td>1.0</td>\n",
       "      <td>64.00</td>\n",
       "      <td>96.000000</td>\n",
       "      <td>137.00</td>\n",
       "      <td>238.000</td>\n",
       "    </tr>\n",
       "    <tr>\n",
       "      <th>HmRun</th>\n",
       "      <td>322.0</td>\n",
       "      <td>10.748447</td>\n",
       "      <td>8.643984</td>\n",
       "      <td>0.0</td>\n",
       "      <td>4.00</td>\n",
       "      <td>8.000000</td>\n",
       "      <td>16.00</td>\n",
       "      <td>34.000</td>\n",
       "    </tr>\n",
       "    <tr>\n",
       "      <th>Runs</th>\n",
       "      <td>322.0</td>\n",
       "      <td>50.901009</td>\n",
       "      <td>25.997356</td>\n",
       "      <td>0.0</td>\n",
       "      <td>30.25</td>\n",
       "      <td>48.000000</td>\n",
       "      <td>69.00</td>\n",
       "      <td>127.125</td>\n",
       "    </tr>\n",
       "    <tr>\n",
       "      <th>RBI</th>\n",
       "      <td>322.0</td>\n",
       "      <td>48.024457</td>\n",
       "      <td>26.157195</td>\n",
       "      <td>0.0</td>\n",
       "      <td>28.00</td>\n",
       "      <td>44.000000</td>\n",
       "      <td>64.75</td>\n",
       "      <td>119.875</td>\n",
       "    </tr>\n",
       "    <tr>\n",
       "      <th>Walks</th>\n",
       "      <td>322.0</td>\n",
       "      <td>38.725155</td>\n",
       "      <td>21.588976</td>\n",
       "      <td>0.0</td>\n",
       "      <td>22.00</td>\n",
       "      <td>35.000000</td>\n",
       "      <td>53.00</td>\n",
       "      <td>99.500</td>\n",
       "    </tr>\n",
       "    <tr>\n",
       "      <th>Years</th>\n",
       "      <td>322.0</td>\n",
       "      <td>7.431677</td>\n",
       "      <td>4.887678</td>\n",
       "      <td>1.0</td>\n",
       "      <td>4.00</td>\n",
       "      <td>6.000000</td>\n",
       "      <td>11.00</td>\n",
       "      <td>21.500</td>\n",
       "    </tr>\n",
       "    <tr>\n",
       "      <th>CAtBat</th>\n",
       "      <td>322.0</td>\n",
       "      <td>2624.128882</td>\n",
       "      <td>2237.945484</td>\n",
       "      <td>19.0</td>\n",
       "      <td>816.75</td>\n",
       "      <td>1928.000000</td>\n",
       "      <td>3924.25</td>\n",
       "      <td>8585.500</td>\n",
       "    </tr>\n",
       "    <tr>\n",
       "      <th>CHits</th>\n",
       "      <td>322.0</td>\n",
       "      <td>708.443323</td>\n",
       "      <td>621.522994</td>\n",
       "      <td>4.0</td>\n",
       "      <td>209.00</td>\n",
       "      <td>508.000000</td>\n",
       "      <td>1059.25</td>\n",
       "      <td>2334.625</td>\n",
       "    </tr>\n",
       "    <tr>\n",
       "      <th>CHmRun</th>\n",
       "      <td>322.0</td>\n",
       "      <td>61.462733</td>\n",
       "      <td>63.346598</td>\n",
       "      <td>0.0</td>\n",
       "      <td>14.00</td>\n",
       "      <td>37.500000</td>\n",
       "      <td>90.00</td>\n",
       "      <td>204.000</td>\n",
       "    </tr>\n",
       "    <tr>\n",
       "      <th>CRuns</th>\n",
       "      <td>322.0</td>\n",
       "      <td>354.239907</td>\n",
       "      <td>317.361431</td>\n",
       "      <td>1.0</td>\n",
       "      <td>100.25</td>\n",
       "      <td>247.000000</td>\n",
       "      <td>526.25</td>\n",
       "      <td>1165.250</td>\n",
       "    </tr>\n",
       "    <tr>\n",
       "      <th>CRBI</th>\n",
       "      <td>322.0</td>\n",
       "      <td>311.161491</td>\n",
       "      <td>283.905918</td>\n",
       "      <td>0.0</td>\n",
       "      <td>88.75</td>\n",
       "      <td>220.500000</td>\n",
       "      <td>426.25</td>\n",
       "      <td>932.500</td>\n",
       "    </tr>\n",
       "    <tr>\n",
       "      <th>CWalks</th>\n",
       "      <td>322.0</td>\n",
       "      <td>245.198758</td>\n",
       "      <td>223.415442</td>\n",
       "      <td>0.0</td>\n",
       "      <td>67.25</td>\n",
       "      <td>170.500000</td>\n",
       "      <td>339.25</td>\n",
       "      <td>747.250</td>\n",
       "    </tr>\n",
       "    <tr>\n",
       "      <th>PutOuts</th>\n",
       "      <td>322.0</td>\n",
       "      <td>253.163043</td>\n",
       "      <td>184.155752</td>\n",
       "      <td>0.0</td>\n",
       "      <td>109.25</td>\n",
       "      <td>212.000000</td>\n",
       "      <td>325.00</td>\n",
       "      <td>648.625</td>\n",
       "    </tr>\n",
       "    <tr>\n",
       "      <th>Assists</th>\n",
       "      <td>322.0</td>\n",
       "      <td>103.933230</td>\n",
       "      <td>129.507133</td>\n",
       "      <td>0.0</td>\n",
       "      <td>7.00</td>\n",
       "      <td>39.500000</td>\n",
       "      <td>166.00</td>\n",
       "      <td>404.500</td>\n",
       "    </tr>\n",
       "    <tr>\n",
       "      <th>Errors</th>\n",
       "      <td>322.0</td>\n",
       "      <td>7.947205</td>\n",
       "      <td>6.105537</td>\n",
       "      <td>0.0</td>\n",
       "      <td>3.00</td>\n",
       "      <td>6.000000</td>\n",
       "      <td>11.00</td>\n",
       "      <td>23.000</td>\n",
       "    </tr>\n",
       "    <tr>\n",
       "      <th>Salary</th>\n",
       "      <td>322.0</td>\n",
       "      <td>516.411165</td>\n",
       "      <td>344.128127</td>\n",
       "      <td>67.5</td>\n",
       "      <td>226.25</td>\n",
       "      <td>535.925882</td>\n",
       "      <td>700.00</td>\n",
       "      <td>1410.625</td>\n",
       "    </tr>\n",
       "    <tr>\n",
       "      <th>League_N</th>\n",
       "      <td>322.0</td>\n",
       "      <td>0.456522</td>\n",
       "      <td>0.498881</td>\n",
       "      <td>0.0</td>\n",
       "      <td>0.00</td>\n",
       "      <td>0.000000</td>\n",
       "      <td>1.00</td>\n",
       "      <td>1.000</td>\n",
       "    </tr>\n",
       "    <tr>\n",
       "      <th>Division_W</th>\n",
       "      <td>322.0</td>\n",
       "      <td>0.512422</td>\n",
       "      <td>0.500624</td>\n",
       "      <td>0.0</td>\n",
       "      <td>0.00</td>\n",
       "      <td>1.000000</td>\n",
       "      <td>1.00</td>\n",
       "      <td>1.000</td>\n",
       "    </tr>\n",
       "    <tr>\n",
       "      <th>NewLeague_N</th>\n",
       "      <td>322.0</td>\n",
       "      <td>0.453416</td>\n",
       "      <td>0.498600</td>\n",
       "      <td>0.0</td>\n",
       "      <td>0.00</td>\n",
       "      <td>0.000000</td>\n",
       "      <td>1.00</td>\n",
       "      <td>1.000</td>\n",
       "    </tr>\n",
       "  </tbody>\n",
       "</table>\n",
       "</div>"
      ],
      "text/plain": [
       "             count         mean          std   min     25%          50%  \\\n",
       "AtBat        322.0   380.928571   153.404981  16.0  255.25   379.500000   \n",
       "Hits         322.0   101.024845    46.454741   1.0   64.00    96.000000   \n",
       "HmRun        322.0    10.748447     8.643984   0.0    4.00     8.000000   \n",
       "Runs         322.0    50.901009    25.997356   0.0   30.25    48.000000   \n",
       "RBI          322.0    48.024457    26.157195   0.0   28.00    44.000000   \n",
       "Walks        322.0    38.725155    21.588976   0.0   22.00    35.000000   \n",
       "Years        322.0     7.431677     4.887678   1.0    4.00     6.000000   \n",
       "CAtBat       322.0  2624.128882  2237.945484  19.0  816.75  1928.000000   \n",
       "CHits        322.0   708.443323   621.522994   4.0  209.00   508.000000   \n",
       "CHmRun       322.0    61.462733    63.346598   0.0   14.00    37.500000   \n",
       "CRuns        322.0   354.239907   317.361431   1.0  100.25   247.000000   \n",
       "CRBI         322.0   311.161491   283.905918   0.0   88.75   220.500000   \n",
       "CWalks       322.0   245.198758   223.415442   0.0   67.25   170.500000   \n",
       "PutOuts      322.0   253.163043   184.155752   0.0  109.25   212.000000   \n",
       "Assists      322.0   103.933230   129.507133   0.0    7.00    39.500000   \n",
       "Errors       322.0     7.947205     6.105537   0.0    3.00     6.000000   \n",
       "Salary       322.0   516.411165   344.128127  67.5  226.25   535.925882   \n",
       "League_N     322.0     0.456522     0.498881   0.0    0.00     0.000000   \n",
       "Division_W   322.0     0.512422     0.500624   0.0    0.00     1.000000   \n",
       "NewLeague_N  322.0     0.453416     0.498600   0.0    0.00     0.000000   \n",
       "\n",
       "                 75%       max  \n",
       "AtBat         512.00   687.000  \n",
       "Hits          137.00   238.000  \n",
       "HmRun          16.00    34.000  \n",
       "Runs           69.00   127.125  \n",
       "RBI            64.75   119.875  \n",
       "Walks          53.00    99.500  \n",
       "Years          11.00    21.500  \n",
       "CAtBat       3924.25  8585.500  \n",
       "CHits        1059.25  2334.625  \n",
       "CHmRun         90.00   204.000  \n",
       "CRuns         526.25  1165.250  \n",
       "CRBI          426.25   932.500  \n",
       "CWalks        339.25   747.250  \n",
       "PutOuts       325.00   648.625  \n",
       "Assists       166.00   404.500  \n",
       "Errors         11.00    23.000  \n",
       "Salary        700.00  1410.625  \n",
       "League_N        1.00     1.000  \n",
       "Division_W      1.00     1.000  \n",
       "NewLeague_N     1.00     1.000  "
      ]
     },
     "execution_count": 40,
     "metadata": {},
     "output_type": "execute_result"
    }
   ],
   "source": [
    "df.describe().T"
   ]
  },
  {
   "cell_type": "code",
   "execution_count": 42,
   "id": "d9aab04d",
   "metadata": {},
   "outputs": [
    {
     "data": {
      "image/png": "[encoded data removed]",
      "text/plain": [
       "<Figure size 432x288 with 1 Axes>"
      ]
     },
     "metadata": {
      "needs_background": "light"
     },
     "output_type": "display_data"
    }
   ],
   "source": [
    "sns.distplot(df[\"Salary\"]);"
   ]
  },
  {
   "cell_type": "code",
   "execution_count": 43,
   "id": "b824a277",
   "metadata": {},
   "outputs": [
    {
     "data": {
      "image/png": "[encoded data removed]",
      "text/plain": [
       "<Figure size 864x864 with 5 Axes>"
      ]
     },
     "metadata": {
      "needs_background": "light"
     },
     "output_type": "display_data"
    }
   ],
   "source": [
    "plt.figure(figsize=(12,12))\n",
    "plt.subplot(2,3,1)\n",
    "sns.lineplot(x = 'Assists', y = 'Salary', data = df)\n",
    "plt.subplot(2,3,2)\n",
    "sns.scatterplot(x = 'CHits', y = 'CRuns', data = df,hue=\"Salary\")\n",
    "plt.subplot(2,3,3)\n",
    "sns.lineplot(x = 'Hits', y = 'Runs', data = df)\n",
    "plt.subplot(2,3,4)\n",
    "sns.lineplot(x = 'HmRun', y = 'RBI', data = df)\n",
    "plt.subplot(2,3,5)\n",
    "sns.lineplot(x = 'Salary', y = 'CRBI', data = df)\n",
    "plt.show()"
   ]
  },
  {
   "cell_type": "code",
   "execution_count": 44,
   "id": "60a51d3a",
   "metadata": {},
   "outputs": [
    {
     "data": {
      "image/png": "[encoded data removed]",
      "text/plain": [
       "<Figure size 1008x720 with 2 Axes>"
      ]
     },
     "metadata": {
      "needs_background": "light"
     },
     "output_type": "display_data"
    }
   ],
   "source": [
    "plt.figure(figsize = (14,10))\n",
    "sns.heatmap(df.corr(),annot=True,fmt=\".2f\",linewidths=.6);"
   ]
  },
  {
   "cell_type": "markdown",
   "id": "f957e147",
   "metadata": {},
   "source": [
    "* böylelikle hangi değişkenin hangi değişkeni daha çok etkilediğini görebiliriz.Mesela en yüksek korelasyon oranı 0.99(CRUNS-CHİTS)yani iki değişkende neredeyse aynı anlamı taşıyor bu tür durumlarda değişkenlerden birini çıkartabiliriz."
   ]
  },
  {
   "cell_type": "code",
   "execution_count": 45,
   "id": "f9d54c6a",
   "metadata": {},
   "outputs": [],
   "source": [
    "X=df.drop(\"Salary\",axis=1)\n",
    "y=df[\"Salary\"]"
   ]
  },
  {
   "cell_type": "code",
   "execution_count": 46,
   "id": "4cd1024b",
   "metadata": {},
   "outputs": [],
   "source": [
    "X_train,X_test,y_train,y_test=train_test_split(X,y,test_size=0.3,random_state=0)  "
   ]
  },
  {
   "cell_type": "markdown",
   "id": "4ee8f09e",
   "metadata": {},
   "source": [
    " # Ridge Regressor"
   ]
  },
  {
   "cell_type": "markdown",
   "id": "1e5ba935",
   "metadata": {},
   "source": [
    "* ilgisiz değişkenlere bir ceza uygulayarak katsayılarını sıfıra yaklaştırır."
   ]
  },
  {
   "cell_type": "code",
   "execution_count": 47,
   "id": "2289a1d5",
   "metadata": {},
   "outputs": [],
   "source": [
    "#ridge model\n",
    "ridge=Ridge().fit(X_train,y_train)"
   ]
  },
  {
   "cell_type": "code",
   "execution_count": 51,
   "id": "4f901b59",
   "metadata": {},
   "outputs": [
    {
     "data": {
      "text/plain": [
       "251.57993908745615"
      ]
     },
     "execution_count": 51,
     "metadata": {},
     "output_type": "execute_result"
    }
   ],
   "source": [
    "#primitive test error\n",
    "y_pred=ridge.predict(X_test)\n",
    "np.sqrt(mean_squared_error(y_test,y_pred))"
   ]
  },
  {
   "cell_type": "code",
   "execution_count": 52,
   "id": "0b51e64f",
   "metadata": {},
   "outputs": [
    {
     "data": {
      "text/plain": [
       "0.4677336136272101"
      ]
     },
     "execution_count": 52,
     "metadata": {},
     "output_type": "execute_result"
    }
   ],
   "source": [
    "#test error.\n",
    "r2_score(y_test,y_pred)"
   ]
  },
  {
   "cell_type": "code",
   "execution_count": 53,
   "id": "6c96e23d",
   "metadata": {},
   "outputs": [],
   "source": [
    "#model tuning\n",
    "alphas=np.linspace(0,100,200)\n",
    "ridge_cv=RidgeCV(alphas=alphas,normalize=True,cv=10,\n",
    "                 scoring=\"neg_mean_squared_error\").fit(X_train,y_train)"
   ]
  },
  {
   "cell_type": "code",
   "execution_count": 54,
   "id": "f73e4cf2",
   "metadata": {},
   "outputs": [
    {
     "data": {
      "text/plain": [
       "0.5025125628140703"
      ]
     },
     "execution_count": 54,
     "metadata": {},
     "output_type": "execute_result"
    }
   ],
   "source": [
    "#optimum params\n",
    "ridge_cv.alpha_"
   ]
  },
  {
   "cell_type": "code",
   "execution_count": 55,
   "id": "cc5c7ae9",
   "metadata": {},
   "outputs": [],
   "source": [
    "#ridge tuned \n",
    "ridge_tun=Ridge(ridge_cv.alpha_).fit(X_train,y_train)"
   ]
  },
  {
   "cell_type": "code",
   "execution_count": 56,
   "id": "3ce2eebb",
   "metadata": {},
   "outputs": [
    {
     "data": {
      "text/plain": [
       "251.6326587359351"
      ]
     },
     "execution_count": 56,
     "metadata": {},
     "output_type": "execute_result"
    }
   ],
   "source": [
    "#Tuned model test failure\n",
    "y_pred=ridge_tun.predict(X_test)\n",
    "np.sqrt(mean_squared_error(y_test,y_pred))"
   ]
  },
  {
   "cell_type": "code",
   "execution_count": 57,
   "id": "b62347c7",
   "metadata": {},
   "outputs": [
    {
     "data": {
      "text/plain": [
       "0.46751051287419454"
      ]
     },
     "execution_count": 57,
     "metadata": {},
     "output_type": "execute_result"
    }
   ],
   "source": [
    "r2_score(y_test,y_pred)"
   ]
  },
  {
   "cell_type": "markdown",
   "id": "c2bc6e15",
   "metadata": {},
   "source": [
    "* fazla bir değişiklik olmadı"
   ]
  },
  {
   "cell_type": "code",
   "execution_count": 58,
   "id": "2f4b2f07",
   "metadata": {},
   "outputs": [
    {
     "data": {
      "text/plain": [
       "AtBat          -0.857813\n",
       "Hits            2.845531\n",
       "HmRun           5.271484\n",
       "Runs           -0.821945\n",
       "RBI            -0.410725\n",
       "Walks           2.264230\n",
       "Years         -21.404485\n",
       "CAtBat         -0.204384\n",
       "CHits           0.729037\n",
       "CHmRun         -0.212815\n",
       "CRuns           0.454105\n",
       "CRBI            0.549714\n",
       "CWalks         -0.091623\n",
       "PutOuts         0.210620\n",
       "Assists         0.329790\n",
       "Errors         -2.731557\n",
       "League_N       54.921303\n",
       "Division_W    -77.353763\n",
       "NewLeague_N   -22.183261\n",
       "dtype: float64"
      ]
     },
     "execution_count": 58,
     "metadata": {},
     "output_type": "execute_result"
    }
   ],
   "source": [
    "pd.Series(ridge_tun.coef_,index=X_train.columns)   "
   ]
  },
  {
   "cell_type": "markdown",
   "id": "30b158a2",
   "metadata": {},
   "source": [
    "* bazı değişkenlerin katsayıları sıfıra yaklaşmış oldu.."
   ]
  },
  {
   "cell_type": "markdown",
   "id": "f43239f8",
   "metadata": {},
   "source": [
    "# Lasso Regressor"
   ]
  },
  {
   "cell_type": "markdown",
   "id": "63ec7a97",
   "metadata": {},
   "source": [
    "* ilgisiz değişkenlerin katsayılarına bir ceza uygulayarak katsayılarını sıfır yapar.(özniteliklerin ağırlıklarını sıfıra doğru baskılar.)"
   ]
  },
  {
   "cell_type": "code",
   "execution_count": 59,
   "id": "e06d7a2d",
   "metadata": {},
   "outputs": [],
   "source": [
    "#lasso model\n",
    "lasso=Lasso().fit(X_train,y_train)"
   ]
  },
  {
   "cell_type": "code",
   "execution_count": 60,
   "id": "289b6753",
   "metadata": {},
   "outputs": [
    {
     "data": {
      "text/plain": [
       "251.11014976826"
      ]
     },
     "execution_count": 60,
     "metadata": {},
     "output_type": "execute_result"
    }
   ],
   "source": [
    "##primitive test error\n",
    "y_pred=lasso.predict(X_test)\n",
    "np.sqrt(mean_squared_error(y_test,y_pred))"
   ]
  },
  {
   "cell_type": "code",
   "execution_count": 61,
   "id": "ed83c37d",
   "metadata": {},
   "outputs": [
    {
     "data": {
      "text/plain": [
       "0.46971961930907813"
      ]
     },
     "execution_count": 61,
     "metadata": {},
     "output_type": "execute_result"
    }
   ],
   "source": [
    "r2_score(y_test,y_pred)"
   ]
  },
  {
   "cell_type": "code",
   "execution_count": 62,
   "id": "65fec316",
   "metadata": {},
   "outputs": [],
   "source": [
    "alp=np.linspace(0,100,300)"
   ]
  },
  {
   "cell_type": "code",
   "execution_count": 63,
   "id": "39908507",
   "metadata": {},
   "outputs": [],
   "source": [
    "#lasso cv.\n",
    "lasso_cv=LassoCV(alphas=alp).fit(X_train,y_train)"
   ]
  },
  {
   "cell_type": "code",
   "execution_count": 64,
   "id": "16e518dd",
   "metadata": {},
   "outputs": [
    {
     "data": {
      "text/plain": [
       "29.431438127090303"
      ]
     },
     "execution_count": 64,
     "metadata": {},
     "output_type": "execute_result"
    }
   ],
   "source": [
    "#optimum params\n",
    "lasso_cv.alpha_"
   ]
  },
  {
   "cell_type": "code",
   "execution_count": 65,
   "id": "ae2989a2",
   "metadata": {},
   "outputs": [],
   "source": [
    "#losso tuned\n",
    "lasso_tun=Lasso(lasso_cv.alpha_).fit(X_train,y_train)"
   ]
  },
  {
   "cell_type": "code",
   "execution_count": 66,
   "id": "09d2a9d7",
   "metadata": {},
   "outputs": [
    {
     "data": {
      "text/plain": [
       "251.60081010207156"
      ]
     },
     "execution_count": 66,
     "metadata": {},
     "output_type": "execute_result"
    }
   ],
   "source": [
    "#tun error\n",
    "y_pred=lasso_tun.predict(X_test)\n",
    "np.sqrt(mean_squared_error(y_test,y_pred))"
   ]
  },
  {
   "cell_type": "code",
   "execution_count": 67,
   "id": "c7fd1776",
   "metadata": {},
   "outputs": [
    {
     "data": {
      "text/plain": [
       "0.4676452965668981"
      ]
     },
     "execution_count": 67,
     "metadata": {},
     "output_type": "execute_result"
    }
   ],
   "source": [
    "r2_score(y_test,y_pred)"
   ]
  },
  {
   "cell_type": "code",
   "execution_count": 68,
   "id": "99439fa6",
   "metadata": {},
   "outputs": [
    {
     "data": {
      "text/plain": [
       "AtBat         -0.770629\n",
       "Hits           2.183712\n",
       "HmRun          0.508124\n",
       "Runs           0.000000\n",
       "RBI            1.190716\n",
       "Walks          1.788356\n",
       "Years         -7.662535\n",
       "CAtBat        -0.262872\n",
       "CHits          0.833528\n",
       "CHmRun         0.000000\n",
       "CRuns          0.432189\n",
       "CRBI           0.472521\n",
       "CWalks        -0.003810\n",
       "PutOuts        0.233545\n",
       "Assists        0.239044\n",
       "Errors        -0.000000\n",
       "League_N       0.000000\n",
       "Division_W    -0.000000\n",
       "NewLeague_N    0.000000\n",
       "dtype: float64"
      ]
     },
     "execution_count": 68,
     "metadata": {},
     "output_type": "execute_result"
    }
   ],
   "source": [
    "pd.Series(lasso_tun.coef_,index=X_train.columns)   #coefficient values"
   ]
  },
  {
   "cell_type": "markdown",
   "id": "b78dbb77",
   "metadata": {},
   "source": [
    "* Görüldüğü gibi 5 katsayısının değeri 0 olmuştur.(Hesaba dahil edilmemiştir)"
   ]
  },
  {
   "cell_type": "markdown",
   "id": "673fb40c",
   "metadata": {},
   "source": [
    "# Elasticnet Regressor"
   ]
  },
  {
   "cell_type": "markdown",
   "id": "3ead0dd6",
   "metadata": {},
   "source": [
    "* elasticnet ridge ve losso yöntemlerini(L1 ve L2)birleştirerek modeli hata yapmaması için usulca terbiye eder.(daha etkin bir düzgünleştirme işlemi yapar.)"
   ]
  },
  {
   "cell_type": "code",
   "execution_count": 69,
   "id": "f332eb65",
   "metadata": {},
   "outputs": [],
   "source": [
    "#elasticnet model\n",
    "enet=ElasticNet().fit(X_train,y_train)"
   ]
  },
  {
   "cell_type": "code",
   "execution_count": 70,
   "id": "a5584a52",
   "metadata": {},
   "outputs": [
    {
     "data": {
      "text/plain": [
       "251.32290653439406"
      ]
     },
     "execution_count": 70,
     "metadata": {},
     "output_type": "execute_result"
    }
   ],
   "source": [
    "#primitive test error\n",
    "y_pred=enet.predict(X_test)\n",
    "np.sqrt(mean_squared_error(y_test,y_pred))"
   ]
  },
  {
   "cell_type": "code",
   "execution_count": 71,
   "id": "49359f47",
   "metadata": {},
   "outputs": [],
   "source": [
    "alph=np.linspace(0,100,400)\n",
    "#enet tuned\n",
    "enet_cv=ElasticNetCV(alphas=alp).fit(X_train,y_train)"
   ]
  },
  {
   "cell_type": "code",
   "execution_count": 72,
   "id": "e42441fe",
   "metadata": {},
   "outputs": [
    {
     "data": {
      "text/plain": [
       "100.0"
      ]
     },
     "execution_count": 72,
     "metadata": {},
     "output_type": "execute_result"
    }
   ],
   "source": [
    "#optimum alpha\n",
    "enet_cv.alpha_"
   ]
  },
  {
   "cell_type": "code",
   "execution_count": 73,
   "id": "e3567031",
   "metadata": {},
   "outputs": [],
   "source": [
    "#modeltuning\n",
    "enet_tun=ElasticNet(alpha=enet_cv.alpha_).fit(X_train,y_train)"
   ]
  },
  {
   "cell_type": "code",
   "execution_count": 74,
   "id": "ebf64c71",
   "metadata": {},
   "outputs": [
    {
     "data": {
      "text/plain": [
       "251.60081010207156"
      ]
     },
     "execution_count": 74,
     "metadata": {},
     "output_type": "execute_result"
    }
   ],
   "source": [
    "#tun error\n",
    "y_pred=lasso_tun.predict(X_test)\n",
    "np.sqrt(mean_squared_error(y_test,y_pred))"
   ]
  },
  {
   "cell_type": "code",
   "execution_count": 75,
   "id": "31dd9bcf",
   "metadata": {},
   "outputs": [
    {
     "data": {
      "text/plain": [
       "AtBat         -0.405703\n",
       "Hits           1.143910\n",
       "HmRun          0.035671\n",
       "Runs           0.475268\n",
       "RBI            0.984188\n",
       "Walks          1.204964\n",
       "Years         -0.000000\n",
       "CAtBat        -0.312700\n",
       "CHits          0.950314\n",
       "CHmRun         0.011601\n",
       "CRuns          0.396216\n",
       "CRBI           0.484349\n",
       "CWalks         0.061670\n",
       "PutOuts        0.242674\n",
       "Assists        0.228601\n",
       "Errors        -0.000000\n",
       "League_N       0.000000\n",
       "Division_W    -0.000000\n",
       "NewLeague_N    0.000000\n",
       "dtype: float64"
      ]
     },
     "execution_count": 75,
     "metadata": {},
     "output_type": "execute_result"
    }
   ],
   "source": [
    "pd.Series(enet_tun.coef_,index=X_train.columns)   #coefficient values"
   ]
  },
  {
   "cell_type": "markdown",
   "id": "cf01f812",
   "metadata": {},
   "source": [
    "# KNN Regressor"
   ]
  },
  {
   "cell_type": "code",
   "execution_count": 76,
   "id": "15eb2bdf",
   "metadata": {},
   "outputs": [],
   "source": [
    "#knn model\n",
    "knn=KNeighborsRegressor().fit(X_train,y_train)  "
   ]
  },
  {
   "cell_type": "code",
   "execution_count": 77,
   "id": "713b78ff",
   "metadata": {},
   "outputs": [
    {
     "data": {
      "text/plain": [
       "267.28443460822217"
      ]
     },
     "execution_count": 77,
     "metadata": {},
     "output_type": "execute_result"
    }
   ],
   "source": [
    "#primitive test error\n",
    "y_pred=knn.predict(X_test)\n",
    "np.sqrt(mean_squared_error(y_test,y_pred))"
   ]
  },
  {
   "cell_type": "markdown",
   "id": "3d7a7ac7",
   "metadata": {},
   "source": [
    "* knn primitif test hatamız diğer modellere göre daha başarılı oldu (hata düşük)"
   ]
  },
  {
   "cell_type": "code",
   "execution_count": 78,
   "id": "f69eeddd",
   "metadata": {},
   "outputs": [],
   "source": [
    "#knn params \n",
    "knn_params={\n",
    "    \"n_neighbors\":np.arange(1,13),\n",
    "    \"weights\":[\"uniform\",\"distance\"],\n",
    "    \"metric\":[\"manhattan\",\"minkowski\"]\n",
    "}"
   ]
  },
  {
   "cell_type": "code",
   "execution_count": 79,
   "id": "74814a0a",
   "metadata": {},
   "outputs": [
    {
     "name": "stdout",
     "output_type": "stream",
     "text": [
      "Fitting 5 folds for each of 48 candidates, totalling 240 fits\n"
     ]
    }
   ],
   "source": [
    "#gridsearchcv\n",
    "knn_cv=GridSearchCV(knn,knn_params,cv=5,n_jobs=-1,verbose=2).fit(X_train,y_train)"
   ]
  },
  {
   "cell_type": "code",
   "execution_count": 80,
   "id": "9fa9481b",
   "metadata": {},
   "outputs": [
    {
     "data": {
      "text/plain": [
       "{'metric': 'manhattan', 'n_neighbors': 11, 'weights': 'distance'}"
      ]
     },
     "execution_count": 80,
     "metadata": {},
     "output_type": "execute_result"
    }
   ],
   "source": [
    "#best params\n",
    "knn_cv.best_params_"
   ]
  },
  {
   "cell_type": "code",
   "execution_count": 81,
   "id": "af8b7a2d",
   "metadata": {},
   "outputs": [],
   "source": [
    "#knn tun\n",
    "knn_tun=KNeighborsRegressor(metric=\"manhattan\",n_neighbors=11,\n",
    "                            weights=\"distance\").fit(X_train,y_train)"
   ]
  },
  {
   "cell_type": "code",
   "execution_count": 82,
   "id": "a0c23728",
   "metadata": {},
   "outputs": [
    {
     "data": {
      "text/plain": [
       "250.08880380069192"
      ]
     },
     "execution_count": 82,
     "metadata": {},
     "output_type": "execute_result"
    }
   ],
   "source": [
    "#tun error\n",
    "y_pred=knn_tun.predict(X_test)\n",
    "np.sqrt(mean_squared_error(y_test,y_pred))"
   ]
  },
  {
   "cell_type": "markdown",
   "id": "e3fda244",
   "metadata": {},
   "source": [
    "* şuana kadar ki en düşük hatayı yakalamış oldum"
   ]
  },
  {
   "cell_type": "markdown",
   "id": "23df09ec",
   "metadata": {},
   "source": [
    "# standardization process for knn"
   ]
  },
  {
   "cell_type": "code",
   "execution_count": 83,
   "id": "60ab116b",
   "metadata": {},
   "outputs": [],
   "source": [
    "X=df.drop(\"Salary\",axis=1)\n",
    "y=df[\"Salary\"]"
   ]
  },
  {
   "cell_type": "code",
   "execution_count": 84,
   "id": "1b4b81e5",
   "metadata": {},
   "outputs": [],
   "source": [
    "scaler=StandardScaler()"
   ]
  },
  {
   "cell_type": "code",
   "execution_count": 85,
   "id": "37a8dce9",
   "metadata": {},
   "outputs": [],
   "source": [
    "X[numeric_list[:-1]]=scaler.fit_transform(X[numeric_list[:-1]])"
   ]
  },
  {
   "cell_type": "code",
   "execution_count": 86,
   "id": "40297ca5",
   "metadata": {},
   "outputs": [
    {
     "data": {
      "text/html": [
       "<div>\n",
       "<style scoped>\n",
       "    .dataframe tbody tr th:only-of-type {\n",
       "        vertical-align: middle;\n",
       "    }\n",
       "\n",
       "    .dataframe tbody tr th {\n",
       "        vertical-align: top;\n",
       "    }\n",
       "\n",
       "    .dataframe thead th {\n",
       "        text-align: right;\n",
       "    }\n",
       "</style>\n",
       "<table border=\"1\" class=\"dataframe\">\n",
       "  <thead>\n",
       "    <tr style=\"text-align: right;\">\n",
       "      <th></th>\n",
       "      <th>AtBat</th>\n",
       "      <th>Hits</th>\n",
       "      <th>HmRun</th>\n",
       "      <th>Runs</th>\n",
       "      <th>RBI</th>\n",
       "      <th>Walks</th>\n",
       "      <th>Years</th>\n",
       "      <th>CAtBat</th>\n",
       "      <th>CHits</th>\n",
       "      <th>CHmRun</th>\n",
       "      <th>CRuns</th>\n",
       "      <th>CRBI</th>\n",
       "      <th>CWalks</th>\n",
       "      <th>PutOuts</th>\n",
       "      <th>Assists</th>\n",
       "      <th>Errors</th>\n",
       "      <th>League_N</th>\n",
       "      <th>Division_W</th>\n",
       "      <th>NewLeague_N</th>\n",
       "    </tr>\n",
       "  </thead>\n",
       "  <tbody>\n",
       "    <tr>\n",
       "      <th>0</th>\n",
       "      <td>-0.574071</td>\n",
       "      <td>-0.755130</td>\n",
       "      <td>-1.129528</td>\n",
       "      <td>-0.805218</td>\n",
       "      <td>-0.728445</td>\n",
       "      <td>-1.147050</td>\n",
       "      <td>-1.317944</td>\n",
       "      <td>-1.043259</td>\n",
       "      <td>-1.035269</td>\n",
       "      <td>-0.955960</td>\n",
       "      <td>-1.023264</td>\n",
       "      <td>-0.995402</td>\n",
       "      <td>-1.036449</td>\n",
       "      <td>1.048770</td>\n",
       "      <td>-0.548569</td>\n",
       "      <td>1.977149</td>\n",
       "      <td>0</td>\n",
       "      <td>0</td>\n",
       "      <td>0</td>\n",
       "    </tr>\n",
       "    <tr>\n",
       "      <th>1</th>\n",
       "      <td>-0.430437</td>\n",
       "      <td>-0.431732</td>\n",
       "      <td>-0.434323</td>\n",
       "      <td>-1.036370</td>\n",
       "      <td>-0.383835</td>\n",
       "      <td>0.012751</td>\n",
       "      <td>1.345945</td>\n",
       "      <td>0.369158</td>\n",
       "      <td>0.203940</td>\n",
       "      <td>0.119170</td>\n",
       "      <td>-0.104901</td>\n",
       "      <td>0.362791</td>\n",
       "      <td>0.581890</td>\n",
       "      <td>2.060357</td>\n",
       "      <td>-0.471233</td>\n",
       "      <td>0.336742</td>\n",
       "      <td>1</td>\n",
       "      <td>1</td>\n",
       "      <td>1</td>\n",
       "    </tr>\n",
       "    <tr>\n",
       "      <th>2</th>\n",
       "      <td>0.640293</td>\n",
       "      <td>0.624699</td>\n",
       "      <td>0.840219</td>\n",
       "      <td>0.581693</td>\n",
       "      <td>0.918021</td>\n",
       "      <td>1.729256</td>\n",
       "      <td>-0.908115</td>\n",
       "      <td>-0.447592</td>\n",
       "      <td>-0.405190</td>\n",
       "      <td>0.024305</td>\n",
       "      <td>-0.411022</td>\n",
       "      <td>-0.159320</td>\n",
       "      <td>0.079802</td>\n",
       "      <td>2.150774</td>\n",
       "      <td>-0.169623</td>\n",
       "      <td>0.992905</td>\n",
       "      <td>0</td>\n",
       "      <td>1</td>\n",
       "      <td>0</td>\n",
       "    </tr>\n",
       "    <tr>\n",
       "      <th>3</th>\n",
       "      <td>0.751283</td>\n",
       "      <td>0.861858</td>\n",
       "      <td>1.071954</td>\n",
       "      <td>0.543168</td>\n",
       "      <td>1.147761</td>\n",
       "      <td>-0.080033</td>\n",
       "      <td>0.731201</td>\n",
       "      <td>1.344334</td>\n",
       "      <td>1.396417</td>\n",
       "      <td>2.253619</td>\n",
       "      <td>1.495133</td>\n",
       "      <td>1.858568</td>\n",
       "      <td>0.487749</td>\n",
       "      <td>-0.289135</td>\n",
       "      <td>-0.718708</td>\n",
       "      <td>-0.811543</td>\n",
       "      <td>1</td>\n",
       "      <td>0</td>\n",
       "      <td>1</td>\n",
       "    </tr>\n",
       "    <tr>\n",
       "      <th>4</th>\n",
       "      <td>-0.391264</td>\n",
       "      <td>-0.302373</td>\n",
       "      <td>-0.086721</td>\n",
       "      <td>-0.458490</td>\n",
       "      <td>-0.230676</td>\n",
       "      <td>-0.404778</td>\n",
       "      <td>-1.113030</td>\n",
       "      <td>-0.997163</td>\n",
       "      <td>-0.978868</td>\n",
       "      <td>-0.782042</td>\n",
       "      <td>-0.966458</td>\n",
       "      <td>-0.935430</td>\n",
       "      <td>-0.951273</td>\n",
       "      <td>2.150774</td>\n",
       "      <td>-0.494434</td>\n",
       "      <td>-0.647502</td>\n",
       "      <td>1</td>\n",
       "      <td>0</td>\n",
       "      <td>1</td>\n",
       "    </tr>\n",
       "  </tbody>\n",
       "</table>\n",
       "</div>"
      ],
      "text/plain": [
       "      AtBat      Hits     HmRun      Runs       RBI     Walks     Years  \\\n",
       "0 -0.574071 -0.755130 -1.129528 -0.805218 -0.728445 -1.147050 -1.317944   \n",
       "1 -0.430437 -0.431732 -0.434323 -1.036370 -0.383835  0.012751  1.345945   \n",
       "2  0.640293  0.624699  0.840219  0.581693  0.918021  1.729256 -0.908115   \n",
       "3  0.751283  0.861858  1.071954  0.543168  1.147761 -0.080033  0.731201   \n",
       "4 -0.391264 -0.302373 -0.086721 -0.458490 -0.230676 -0.404778 -1.113030   \n",
       "\n",
       "     CAtBat     CHits    CHmRun     CRuns      CRBI    CWalks   PutOuts  \\\n",
       "0 -1.043259 -1.035269 -0.955960 -1.023264 -0.995402 -1.036449  1.048770   \n",
       "1  0.369158  0.203940  0.119170 -0.104901  0.362791  0.581890  2.060357   \n",
       "2 -0.447592 -0.405190  0.024305 -0.411022 -0.159320  0.079802  2.150774   \n",
       "3  1.344334  1.396417  2.253619  1.495133  1.858568  0.487749 -0.289135   \n",
       "4 -0.997163 -0.978868 -0.782042 -0.966458 -0.935430 -0.951273  2.150774   \n",
       "\n",
       "    Assists    Errors  League_N  Division_W  NewLeague_N  \n",
       "0 -0.548569  1.977149         0           0            0  \n",
       "1 -0.471233  0.336742         1           1            1  \n",
       "2 -0.169623  0.992905         0           1            0  \n",
       "3 -0.718708 -0.811543         1           0            1  \n",
       "4 -0.494434 -0.647502         1           0            1  "
      ]
     },
     "execution_count": 86,
     "metadata": {},
     "output_type": "execute_result"
    }
   ],
   "source": [
    "X.head()"
   ]
  },
  {
   "cell_type": "code",
   "execution_count": 87,
   "id": "33846bc3",
   "metadata": {},
   "outputs": [],
   "source": [
    "X_train,X_test,y_train,y_test=train_test_split(X,y,test_size=0.3,random_state=0)  "
   ]
  },
  {
   "cell_type": "code",
   "execution_count": 88,
   "id": "43c33323",
   "metadata": {},
   "outputs": [],
   "source": [
    "knn=KNeighborsRegressor().fit(X_train,y_train)  "
   ]
  },
  {
   "cell_type": "code",
   "execution_count": 89,
   "id": "93a0bed6",
   "metadata": {},
   "outputs": [],
   "source": [
    "#knn params \n",
    "knn_params={\n",
    "    \"n_neighbors\":np.arange(1,13),\n",
    "    \"weights\":[\"uniform\",\"distance\"],\n",
    "    \"metric\":[\"manhattan\",\"minkowski\"]\n",
    "}"
   ]
  },
  {
   "cell_type": "code",
   "execution_count": 90,
   "id": "164ad81b",
   "metadata": {},
   "outputs": [
    {
     "name": "stdout",
     "output_type": "stream",
     "text": [
      "Fitting 10 folds for each of 48 candidates, totalling 480 fits\n"
     ]
    }
   ],
   "source": [
    "#gridsearchcv\n",
    "knn_cv=GridSearchCV(knn,knn_params,cv=10,n_jobs=-1,verbose=2).fit(X_train,y_train)"
   ]
  },
  {
   "cell_type": "code",
   "execution_count": 91,
   "id": "5415e82f",
   "metadata": {},
   "outputs": [
    {
     "data": {
      "text/plain": [
       "{'metric': 'manhattan', 'n_neighbors': 6, 'weights': 'distance'}"
      ]
     },
     "execution_count": 91,
     "metadata": {},
     "output_type": "execute_result"
    }
   ],
   "source": [
    "knn_cv.best_params_"
   ]
  },
  {
   "cell_type": "code",
   "execution_count": 92,
   "id": "f25248a4",
   "metadata": {},
   "outputs": [],
   "source": [
    "knn_tun=KNeighborsRegressor(**knn_cv.best_params_).fit(X_train,y_train)"
   ]
  },
  {
   "cell_type": "code",
   "execution_count": 93,
   "id": "b4d7f8f8",
   "metadata": {},
   "outputs": [
    {
     "data": {
      "text/plain": [
       "232.03826362403686"
      ]
     },
     "execution_count": 93,
     "metadata": {},
     "output_type": "execute_result"
    }
   ],
   "source": [
    "#tun error\n",
    "y_pred=knn_tun.predict(X_test)\n",
    "np.sqrt(mean_squared_error(y_test,y_pred))"
   ]
  },
  {
   "cell_type": "markdown",
   "id": "c6f3deb2",
   "metadata": {},
   "source": [
    "* standarlaştırma işlemleri sonunda knn hatası düştü."
   ]
  },
  {
   "cell_type": "code",
   "execution_count": null,
   "id": "692bc10c",
   "metadata": {},
   "outputs": [],
   "source": []
  }
 ],
 "metadata": {
  "kernelspec": {
   "display_name": "Python 3 (ipykernel)",
   "language": "python",
   "name": "python3"
  },
  "language_info": {
   "codemirror_mode": {
    "name": "ipython",
    "version": 3
   },
   "file_extension": ".py",
   "mimetype": "text/x-python",
   "name": "python",
   "nbconvert_exporter": "python",
   "pygments_lexer": "ipython3",
   "version": "3.9.7"
  }
 },
 "nbformat": 4,
 "nbformat_minor": 5
}
